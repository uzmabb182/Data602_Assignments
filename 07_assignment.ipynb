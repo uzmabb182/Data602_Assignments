{
 "cells": [
  {
   "cell_type": "markdown",
   "metadata": {
    "id": "rd2QZetSDszc"
   },
   "source": [
    "# **Assignment 7**\n"
   ]
  },
  {
   "cell_type": "markdown",
   "metadata": {
    "id": "uW3w6p8rqgxu"
   },
   "source": [
    "# Introduction\n",
    "\n",
    "In this section, please describe the dataset you are using.  Include a link to the source of this data.  You should also provide some explanation on why you choose this dataset."
   ]
  },
  {
   "cell_type": "markdown",
   "metadata": {},
   "source": [
    "### Describing Dataset"
   ]
  },
  {
   "cell_type": "raw",
   "metadata": {},
   "source": [
    "This is an Airbnb listing dataset. This dataset is acquired from the Airbnb website. It has details about the host, location, type of listing, and reviews, along with more interesting features in different columns. It consists of (18337, 18) rows and columns and needs thorough data cleaning. The analysis will provide interesting insights and guidelines on choosing Airbnb for your next vacation trip."
   ]
  },
  {
   "cell_type": "raw",
   "metadata": {},
   "source": [
    "id                                float64            Airbnb's unique identifier for the host/user\n",
    "name                               object            The name of the listing\n",
    "host_id                             int64            unique identifier for the host\n",
    "host_name                          object            Name of the host\n",
    "neighbourhood_group               float64            next town zipcode\n",
    "neighbourhood                       int64            Field that can be filled using the lat & Long\n",
    "latitude                          float64            latitude\n",
    "longitude                         float64            longitude\n",
    "room_type                          object            type of rental space\n",
    "price                               int64            price\n",
    "minimum_nights                      int64            minimum nights available\n",
    "number_of_reviews                   int64            count of reviews\n",
    "last_review                        object            date of last review\n",
    "reviews_per_month                 float64            per month reviews\n",
    "calculated_host_listings_count      int64            total host's listing count\n",
    "availability_365                    int64            Availibility for the number of days\n",
    "number_of_reviews_ltm               int64            Count of reviews in last 12 months\n",
    "license                                              license or permit for listing"
   ]
  },
  {
   "cell_type": "markdown",
   "metadata": {},
   "source": [
    "### Data Source Link"
   ]
  },
  {
   "cell_type": "raw",
   "metadata": {},
   "source": [
    "Data Source: http://insideairbnb.com/get-the-data/\n",
    "Data Dictionary: https://docs.google.com/spreadsheets/d/1iWCNJcSutYqpULSQHlNyGInUvHg2BoUGoNRIGa6Szc4/edit#gid=1322284596"
   ]
  },
  {
   "cell_type": "markdown",
   "metadata": {},
   "source": [
    "### Justification for Dataset Selection"
   ]
  },
  {
   "cell_type": "raw",
   "metadata": {},
   "source": [
    "Whenever it comes to traveling, there is always a search for a good rating Airbnb listing. There are many important factors that need to consider. For example, the room type, comfort rating, activity, top hosts, rent, and many others. And paying close attention to your selection adds a lot to the enjoyment of the trip. For this reason, I decided to choose the Airbnb dataset.  "
   ]
  },
  {
   "cell_type": "markdown",
   "metadata": {
    "id": "3bp8cdDxDs2t"
   },
   "source": [
    "\n",
    "# Data Exploration (EDA)\n",
    "Import your dataset into your .ipynb, create dataframes, and explore your data.  \n",
    "\n",
    "Include: \n",
    "\n",
    "* Summary statistics means, medians, quartiles, \n",
    "* Missing value information\n",
    "* Any other relevant information about the dataset.  \n",
    "\n"
   ]
  },
  {
   "cell_type": "markdown",
   "metadata": {
    "id": "1OJmbafkEhhq"
   },
   "source": [
    "### Importing Libraries"
   ]
  },
  {
   "cell_type": "markdown",
   "metadata": {
    "id": "b0WTKtqozNn1"
   },
   "source": [
    "#### The first step is to import Pandas and NumPy libraries for data exploration, cleaning and manipulation."
   ]
  },
  {
   "cell_type": "code",
   "execution_count": null,
   "metadata": {},
   "outputs": [],
   "source": [
    "import numpy as np\n",
    "import pandas as pd\n",
    "import datetime\n",
    "#import seaborn as sns\n",
    "import matplotlib.pyplot as plt\n",
    "import matplotlib.image as mpimg\n",
    "import warnings\n",
    "warnings.filterwarnings('ignore')"
   ]
  },
  {
   "cell_type": "raw",
   "metadata": {},
   "source": [
    "Importing CSV data file into pandas dataframe\n",
    "\n",
    "Defining the path for reading the CSV file. \n",
    "\n",
    "Using Pandas \"read_csv\" function to read the file into Pandas dataframe.\n",
    "\n",
    "And by passing the limit to view 5 row in the \"head() function.\n",
    "\n",
    "Similarly, viewing the last 5 rows using the \"tail()\" function."
   ]
  },
  {
   "cell_type": "code",
   "execution_count": null,
   "metadata": {},
   "outputs": [],
   "source": [
    "csv_path = 'resources/austin_tx_airbnb.csv'\n",
    "airbnb_df = pd.read_csv(csv_path, encoding=\"utf-8\")\n",
    "airbnb_df.head(5)"
   ]
  },
  {
   "cell_type": "code",
   "execution_count": null,
   "metadata": {},
   "outputs": [],
   "source": [
    "airbnb_df.tail(5)"
   ]
  },
  {
   "cell_type": "raw",
   "metadata": {},
   "source": [
    "Now previewing the data by calling the dataframe \"cars_df\" using \"info()\" function and finding the number of cloumns and rows.\n",
    "\n",
    "This function provides the total number of rows and columns as well as the datatype of each column. \n",
    "\n",
    "Also, we are able to see the count of non-null values, which will help us further investigate the missing, or unexpected values in our dataset."
   ]
  },
  {
   "cell_type": "code",
   "execution_count": null,
   "metadata": {
    "scrolled": true
   },
   "outputs": [],
   "source": [
    "airbnb_df.info()"
   ]
  },
  {
   "cell_type": "raw",
   "metadata": {},
   "source": [
    "The \"shape\" method provide the row and column count."
   ]
  },
  {
   "cell_type": "code",
   "execution_count": null,
   "metadata": {},
   "outputs": [],
   "source": [
    "airbnb_df.shape"
   ]
  },
  {
   "cell_type": "raw",
   "metadata": {},
   "source": [
    "Checking the datatype of columns"
   ]
  },
  {
   "cell_type": "code",
   "execution_count": null,
   "metadata": {},
   "outputs": [],
   "source": [
    "airbnb_df.dtypes"
   ]
  },
  {
   "cell_type": "raw",
   "metadata": {},
   "source": [
    "Finding the null values in the dataset"
   ]
  },
  {
   "cell_type": "code",
   "execution_count": null,
   "metadata": {},
   "outputs": [],
   "source": [
    "for column in airbnb_df.columns:\n",
    "    print(f\"Column {column} has {airbnb_df[column].isnull().sum()} null values\")"
   ]
  },
  {
   "cell_type": "raw",
   "metadata": {},
   "source": [
    "Finding the missing values in the dataset"
   ]
  },
  {
   "cell_type": "code",
   "execution_count": null,
   "metadata": {},
   "outputs": [],
   "source": [
    "# Function checking for missing values\n",
    "def missing_values_table(df):\n",
    "    mis_val = df.isnull().sum()\n",
    "    mis_val_percent = 100 * df.isnull().sum() / len(df)\n",
    "    mis_val_table = pd.concat([mis_val, mis_val_percent], axis=1)\n",
    "    mis_val_table_ren_columns = mis_val_table.rename(\n",
    "    columns = {0 : 'Missing Values', 1 : '% of Total Values'})\n",
    "    mis_val_table_ren_columns = mis_val_table_ren_columns[\n",
    "        mis_val_table_ren_columns.iloc[:,1] != 0].sort_values(\n",
    "    '% of Total Values', ascending=False).round(1)\n",
    "    print (\"Your selected dataframe has \" + str(df.shape[1]) + \" columns.\\n\"      \n",
    "        \"There are \" + str(mis_val_table_ren_columns.shape[0]) +\n",
    "            \" columns that have missing values.\")\n",
    "    return mis_val_table_ren_columns"
   ]
  },
  {
   "cell_type": "code",
   "execution_count": null,
   "metadata": {},
   "outputs": [],
   "source": [
    "missing_values_table(airbnb_df)"
   ]
  },
  {
   "cell_type": "raw",
   "metadata": {},
   "source": [
    " What we found:\n",
    " \n",
    " \"neighbourhood_group\" and \"license\" column has all missing values so we will drop these columns. \n",
    " \n",
    " The value_counts() funtion helps in finding the count of values that appear in a column. To further investigate columns \"last_review\", \"reviews_per_month\", and \"host_name\", we will apply this function."
   ]
  },
  {
   "cell_type": "code",
   "execution_count": null,
   "metadata": {},
   "outputs": [],
   "source": [
    "airbnb_df['last_review'].value_counts()"
   ]
  },
  {
   "cell_type": "code",
   "execution_count": null,
   "metadata": {},
   "outputs": [],
   "source": [
    "airbnb_df['last_review'].values.tolist()"
   ]
  },
  {
   "cell_type": "code",
   "execution_count": null,
   "metadata": {},
   "outputs": [],
   "source": [
    "airbnb_df['reviews_per_month'].value_counts()"
   ]
  },
  {
   "cell_type": "code",
   "execution_count": null,
   "metadata": {},
   "outputs": [],
   "source": [
    "airbnb_df['host_name'].value_counts()"
   ]
  },
  {
   "cell_type": "raw",
   "metadata": {},
   "source": [
    "Finding the value count of all columns to find the length and breakdown count of each column values"
   ]
  },
  {
   "cell_type": "code",
   "execution_count": null,
   "metadata": {},
   "outputs": [],
   "source": [
    "for c in airbnb_df.columns:\n",
    "    print(\"---- %s ---\" % c)\n",
    "    print(airbnb_df[c].value_counts())"
   ]
  },
  {
   "cell_type": "markdown",
   "metadata": {
    "id": "kCSLIafaEGVK"
   },
   "source": [
    "# Data Wrangling\n",
    "Create a subset of your original data and perform the following.  \n",
    "\n",
    "1. Modify multiple column names.\n",
    "\n",
    "2. Look at the structure of your data – are any variables improperly coded? Such as strings or characters? Convert to correct structure if needed.\n",
    "\n",
    "3. Fix missing and invalid values in data.\n",
    "\n",
    "4. Create new columns based on existing columns or calculations.\n",
    "\n",
    "5. Drop column(s) from your dataset.\n",
    "\n",
    "6. Drop a row(s) from your dataset.\n",
    "\n",
    "7. Sort your data based on multiple variables. \n",
    "\n",
    "8. Filter your data based on some condition. \n",
    "\n",
    "9. Convert all the string values to upper or lower cases in one column.\n",
    "\n",
    "10. Check whether numeric values are present in a given column of your dataframe.\n",
    "\n",
    "11. Group your dataset by one column, and get the mean, min, and max values by group. \n",
    "  * Groupby()\n",
    "  * agg() or .apply()\n",
    "\n",
    "12. Group your dataset by two columns and then sort the aggregated results within the groups. \n",
    "\n",
    "**You are free (and should) to add on to these questions.  Please clearly indicate in your assignment your answers to these questions.**"
   ]
  },
  {
   "cell_type": "markdown",
   "metadata": {},
   "source": [
    "### Create a subset of your original data and perform the following:"
   ]
  },
  {
   "cell_type": "code",
   "execution_count": null,
   "metadata": {},
   "outputs": [],
   "source": [
    "new_df = airbnb_df.iloc[0:18330]"
   ]
  },
  {
   "cell_type": "raw",
   "metadata": {},
   "source": [
    "Check the count of row and column after subsetting"
   ]
  },
  {
   "cell_type": "code",
   "execution_count": null,
   "metadata": {},
   "outputs": [],
   "source": [
    "new_df.shape"
   ]
  },
  {
   "cell_type": "markdown",
   "metadata": {},
   "source": [
    "### 1- Modify multiple column names."
   ]
  },
  {
   "cell_type": "code",
   "execution_count": null,
   "metadata": {},
   "outputs": [],
   "source": [
    "new_df.columns"
   ]
  },
  {
   "cell_type": "code",
   "execution_count": null,
   "metadata": {},
   "outputs": [],
   "source": [
    "new_df.rename(columns = {'name':'specifications', 'calculated_host_listings_count':'listings_count', 'availability_365': 'availability_days'}, inplace = True)"
   ]
  },
  {
   "cell_type": "raw",
   "metadata": {},
   "source": [
    "# Check the name column names"
   ]
  },
  {
   "cell_type": "code",
   "execution_count": null,
   "metadata": {},
   "outputs": [],
   "source": [
    "new_df.columns"
   ]
  },
  {
   "cell_type": "markdown",
   "metadata": {},
   "source": [
    "### 2- Look at the structure of your data – are any variables improperly coded? Such as strings or characters? Convert to correct structure if needed."
   ]
  },
  {
   "cell_type": "raw",
   "metadata": {},
   "source": [
    "Convert the \"last_review\" column into correct date format.\n",
    "Use pandas.to_datetime() to convert string to datetime format"
   ]
  },
  {
   "cell_type": "code",
   "execution_count": null,
   "metadata": {},
   "outputs": [],
   "source": [
    "new_df['last_review'].values.tolist()"
   ]
  },
  {
   "cell_type": "code",
   "execution_count": null,
   "metadata": {},
   "outputs": [],
   "source": [
    "new_df[\"last_review\"] = pd.to_datetime(new_df[\"last_review\"])"
   ]
  },
  {
   "cell_type": "code",
   "execution_count": null,
   "metadata": {},
   "outputs": [],
   "source": [
    "new_df.head()"
   ]
  },
  {
   "cell_type": "raw",
   "metadata": {},
   "source": [
    "Check the format of 'Date' column"
   ]
  },
  {
   "cell_type": "code",
   "execution_count": null,
   "metadata": {},
   "outputs": [],
   "source": [
    "new_df.info()"
   ]
  },
  {
   "cell_type": "markdown",
   "metadata": {},
   "source": [
    "### 3- Fix missing and invalid values in data."
   ]
  },
  {
   "cell_type": "raw",
   "metadata": {},
   "source": [
    "Removing the time from the \"last_review\" column."
   ]
  },
  {
   "cell_type": "code",
   "execution_count": null,
   "metadata": {},
   "outputs": [],
   "source": [
    "new_df['last_review'] = pd.to_datetime(new_df['last_review']).dt.date"
   ]
  },
  {
   "cell_type": "raw",
   "metadata": {},
   "source": [
    "Replace \"host_name\" with string \"unknown\" for NaN\n",
    "Replace \"last_review\" with string \"0000-00-00\" for NaN"
   ]
  },
  {
   "cell_type": "code",
   "execution_count": null,
   "metadata": {},
   "outputs": [],
   "source": [
    "new_df[['last_review']] = new_df[['last_review']].fillna('0000-00-00')"
   ]
  },
  {
   "cell_type": "code",
   "execution_count": null,
   "metadata": {},
   "outputs": [],
   "source": [
    "new_df[['host_name']] = new_df[['host_name']].fillna('unknown')\n"
   ]
  },
  {
   "cell_type": "code",
   "execution_count": null,
   "metadata": {},
   "outputs": [],
   "source": [
    "new_df.info()"
   ]
  },
  {
   "cell_type": "raw",
   "metadata": {},
   "source": [
    "Fill the missing values in the \"reviews_per_month\" with zeros then check the dataframe info()"
   ]
  },
  {
   "cell_type": "code",
   "execution_count": null,
   "metadata": {},
   "outputs": [],
   "source": [
    "new_df['reviews_per_month'] = new_df['reviews_per_month'].fillna(0)"
   ]
  },
  {
   "cell_type": "raw",
   "metadata": {},
   "source": [
    "Check the \"last_review\" date column by missing value sum "
   ]
  },
  {
   "cell_type": "code",
   "execution_count": null,
   "metadata": {},
   "outputs": [],
   "source": [
    "new_df['last_review'].isnull().sum()"
   ]
  },
  {
   "cell_type": "code",
   "execution_count": null,
   "metadata": {},
   "outputs": [],
   "source": [
    "new_df.info()"
   ]
  },
  {
   "cell_type": "markdown",
   "metadata": {},
   "source": [
    "### 4- Create new columns based on existing columns or calculations."
   ]
  },
  {
   "cell_type": "code",
   "execution_count": null,
   "metadata": {},
   "outputs": [],
   "source": [
    "new_df['monthly_reviews'] = new_df['reviews_per_month'].apply(np.ceil)\n"
   ]
  },
  {
   "cell_type": "code",
   "execution_count": null,
   "metadata": {},
   "outputs": [],
   "source": [
    "new_df['monthly_reviews'] = new_df['monthly_reviews'].round(0).astype('int64')"
   ]
  },
  {
   "cell_type": "raw",
   "metadata": {},
   "source": [
    "Create a new column based on condition using list conprehension"
   ]
  },
  {
   "cell_type": "code",
   "execution_count": null,
   "metadata": {},
   "outputs": [],
   "source": [
    "new_df['availibility_status'] = [\"not_available\" if x == 0 else \"available\" for x in new_df['availability_days']]"
   ]
  },
  {
   "cell_type": "code",
   "execution_count": null,
   "metadata": {},
   "outputs": [],
   "source": [
    "new_df.info()"
   ]
  },
  {
   "cell_type": "markdown",
   "metadata": {},
   "source": [
    "### 5- Drop column(s) from your dataset."
   ]
  },
  {
   "cell_type": "raw",
   "metadata": {},
   "source": [
    "Now Dropping two columns with zero values"
   ]
  },
  {
   "cell_type": "code",
   "execution_count": null,
   "metadata": {
    "id": "nATPKSaNXD9B"
   },
   "outputs": [],
   "source": [
    "new_df = new_df.drop([\"neighbourhood_group\", \"license\"], axis=1)"
   ]
  },
  {
   "cell_type": "raw",
   "metadata": {},
   "source": [
    "Now the count of columns changed "
   ]
  },
  {
   "cell_type": "code",
   "execution_count": null,
   "metadata": {},
   "outputs": [],
   "source": [
    "new_df.columns"
   ]
  },
  {
   "cell_type": "markdown",
   "metadata": {},
   "source": [
    "### 6- Drop a row(s) from your dataset."
   ]
  },
  {
   "cell_type": "code",
   "execution_count": null,
   "metadata": {},
   "outputs": [],
   "source": [
    "new_df.drop([0, 1])"
   ]
  },
  {
   "cell_type": "code",
   "execution_count": null,
   "metadata": {},
   "outputs": [],
   "source": [
    "new_df.shape"
   ]
  },
  {
   "cell_type": "markdown",
   "metadata": {},
   "source": [
    "### 7- Sort your data based on multiple variables."
   ]
  },
  {
   "cell_type": "raw",
   "metadata": {},
   "source": [
    "Sorting two columns, 'id' and 'last_review' by ascending true"
   ]
  },
  {
   "cell_type": "code",
   "execution_count": null,
   "metadata": {},
   "outputs": [],
   "source": [
    "new_df = new_df.sort_values(['id', 'last_review'],\n",
    "              ascending = [True, True]) "
   ]
  },
  {
   "cell_type": "code",
   "execution_count": null,
   "metadata": {},
   "outputs": [],
   "source": [
    "new_df.head()"
   ]
  },
  {
   "cell_type": "markdown",
   "metadata": {},
   "source": [
    "### 8- Filter your data based on some condition."
   ]
  },
  {
   "cell_type": "raw",
   "metadata": {},
   "source": [
    "To filter for rows that contain a certain string in a pandas DataFrame"
   ]
  },
  {
   "cell_type": "code",
   "execution_count": null,
   "metadata": {},
   "outputs": [],
   "source": [
    "filter_df = new_df[new_df[\"room_type\"].str.contains(\"Entire home/apt\")]\n",
    "filter_df.head()"
   ]
  },
  {
   "cell_type": "markdown",
   "metadata": {},
   "source": [
    "### 9- Convert all the string values to upper or lower cases in one column."
   ]
  },
  {
   "cell_type": "code",
   "execution_count": null,
   "metadata": {},
   "outputs": [],
   "source": [
    "filter_df['room_type'] = filter_df['room_type'].str.upper()\n",
    "filter_df.head()"
   ]
  },
  {
   "cell_type": "markdown",
   "metadata": {},
   "source": [
    "### 10- Check whether numeric values are present in a given column of your dataframe."
   ]
  },
  {
   "cell_type": "code",
   "execution_count": null,
   "metadata": {},
   "outputs": [],
   "source": [
    "# creating bool series with new column\n",
    "filter_df['specifications_numeric'] = list(map(lambda x: x.isdigit(), filter_df['specifications']))\n",
    "filter_df.head()"
   ]
  },
  {
   "cell_type": "markdown",
   "metadata": {},
   "source": [
    "### 11- Group your dataset by one column, and get the mean, min, and max values by group."
   ]
  },
  {
   "cell_type": "code",
   "execution_count": null,
   "metadata": {},
   "outputs": [],
   "source": [
    "result_df = new_df.groupby('room_type').agg({'price': ['mean', 'min', 'max']})\n",
    "  \n",
    "print(\"Mean, min, and max values of room price are:\")\n",
    "print(result_df)"
   ]
  },
  {
   "cell_type": "markdown",
   "metadata": {},
   "source": [
    "### 12- Group your dataset by two columns and then sort the aggregated results within the groups."
   ]
  },
  {
   "cell_type": "code",
   "execution_count": null,
   "metadata": {},
   "outputs": [],
   "source": [
    "df = new_df.groupby(['room_type'])['price'].mean().sort_values(ascending=False).head(2)\n",
    "df"
   ]
  },
  {
   "cell_type": "code",
   "execution_count": null,
   "metadata": {},
   "outputs": [],
   "source": [
    "# Function checking for missing values\n",
    "def missing_values_table(df):\n",
    "    mis_val = df.isnull().sum()\n",
    "    mis_val_percent = 100 * df.isnull().sum() / len(df)\n",
    "    mis_val_table = pd.concat([mis_val, mis_val_percent], axis=1)\n",
    "    mis_val_table_ren_columns = mis_val_table.rename(\n",
    "    columns = {0 : 'Missing Values', 1 : '% of Total Values'})\n",
    "    mis_val_table_ren_columns = mis_val_table_ren_columns[\n",
    "        mis_val_table_ren_columns.iloc[:,1] != 0].sort_values(\n",
    "    '% of Total Values', ascending=False).round(1)\n",
    "    print (\"Your selected dataframe has \" + str(df.shape[1]) + \" columns.\\n\"      \n",
    "        \"There are \" + str(mis_val_table_ren_columns.shape[0]) +\n",
    "            \" columns that have missing values.\")\n",
    "    return mis_val_table_ren_columns"
   ]
  },
  {
   "cell_type": "code",
   "execution_count": null,
   "metadata": {},
   "outputs": [],
   "source": [
    "missing_values_table(new_df)"
   ]
  },
  {
   "cell_type": "markdown",
   "metadata": {},
   "source": [
    "### Summary statistics means, medians, quartiles"
   ]
  },
  {
   "cell_type": "code",
   "execution_count": null,
   "metadata": {},
   "outputs": [],
   "source": [
    "new_df.describe()"
   ]
  },
  {
   "cell_type": "raw",
   "metadata": {},
   "source": [
    "Remove the NaN from the Dataset\n",
    "Remove duplicates if any"
   ]
  },
  {
   "cell_type": "code",
   "execution_count": null,
   "metadata": {},
   "outputs": [],
   "source": [
    "new_df.isnull().sum()\n",
    "new_df.dropna(how='any',inplace=True)\n",
    "new_df.info()"
   ]
  },
  {
   "cell_type": "code",
   "execution_count": null,
   "metadata": {},
   "outputs": [],
   "source": [
    "new_df.duplicated().sum()\n",
    "new_df.drop_duplicates(inplace=True)\n",
    "new_df"
   ]
  },
  {
   "cell_type": "code",
   "execution_count": null,
   "metadata": {},
   "outputs": [],
   "source": [
    "help()"
   ]
  },
  {
   "cell_type": "code",
   "execution_count": null,
   "metadata": {},
   "outputs": [],
   "source": [
    "# Generate a scatter plot \n",
    "room_type = new_df.iloc[:,7]\n",
    "price = new_df.iloc[:,8]\n",
    "plt.scatter(room_type,price)\n",
    "plt.xticks(room_type)\n",
    "plt.xlabel('room_type')\n",
    "plt.ylabel('Price')\n",
    "plt.show()"
   ]
  },
  {
   "cell_type": "code",
   "execution_count": null,
   "metadata": {},
   "outputs": [],
   "source": [
    "# plotting a bar graph\n",
    "new_df.plot(x=\"room_type\", y=\"price\", kind=\"bar\")\n"
   ]
  },
  {
   "cell_type": "code",
   "execution_count": null,
   "metadata": {},
   "outputs": [],
   "source": [
    "# plotting a pie chart\n",
    "plt.pie(df[\"price\"], labels=df[\"room_type\"])\n",
    "plt.show()"
   ]
  },
  {
   "cell_type": "markdown",
   "metadata": {
    "id": "tujjevRpXEen"
   },
   "source": [
    "# Conclusions  \n",
    "\n",
    "After exploring your dataset, provide a short summary of what you noticed from this dataset.  What would you explore further with more time?"
   ]
  },
  {
   "cell_type": "raw",
   "metadata": {},
   "source": [
    "This is an airbnb uncleaned dataset. After exploring this dataset, I found out that it has 18337 rows and 18 columns. These are following columns that has null values and two of which can be dropped because they are no values.\n",
    "\n",
    "neighbourhood_group\t18337\t\n",
    "license\t18337\t\n",
    "last_review\t3403\t\n",
    "reviews_per_month\t3403\t\n",
    "host_name\t119\t\n",
    "\n",
    "\n",
    "Mean, min, and max values of room price are:\n",
    "                      price           \n",
    "                       mean min    max\n",
    "room_type                             \n",
    "Entire home/apt  436.371825   1  23000\n",
    "Hotel room       313.583333   0   3004\n",
    "Private room     120.065430   5  10000\n",
    "Shared room       67.165414  15    700\n",
    "\n",
    "Entire room/Apt has the highest range of prices.\n",
    "\n",
    "If I get more time to further explore this dataset, I will refine the values more to prepare it for uploading into the SQL database. I will perform more analysis using matplotlib and seaborn. And eventually apply machine learning algorithm."
   ]
  }
 ],
 "metadata": {
  "colab": {
   "name": "07_assignment.ipynb",
   "provenance": []
  },
  "kernelspec": {
   "display_name": "Python [conda env:PythonAdv]",
   "language": "python",
   "name": "conda-env-PythonAdv-py"
  },
  "language_info": {
   "codemirror_mode": {
    "name": "ipython",
    "version": 3
   },
   "file_extension": ".py",
   "mimetype": "text/x-python",
   "name": "python",
   "nbconvert_exporter": "python",
   "pygments_lexer": "ipython3",
   "version": "3.6.10"
  }
 },
 "nbformat": 4,
 "nbformat_minor": 1
}
