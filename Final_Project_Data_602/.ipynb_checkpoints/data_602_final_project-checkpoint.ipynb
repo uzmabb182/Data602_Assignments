{
 "cells": [
  {
   "cell_type": "markdown",
   "metadata": {
    "id": "rd2QZetSDszc"
   },
   "source": [
    "# **Data_602 Final Project**\n",
    "### By Mubashira Qari"
   ]
  },
  {
   "cell_type": "markdown",
   "metadata": {
    "id": "uW3w6p8rqgxu"
   },
   "source": [
    "# Introduction\n",
    "\n",
    "In this section, please describe the dataset you are using.  Include a link to the source of this data.  You should also provide some explanation on why you choose this dataset."
   ]
  },
  {
   "cell_type": "markdown",
   "metadata": {
    "id": "5nHkSiDYhig4"
   },
   "source": [
    "### Describing Dataset"
   ]
  },
  {
   "cell_type": "markdown",
   "metadata": {
    "id": "_ryWIEDOhig5"
   },
   "source": [
    "### Data Source Link\n",
    "\n",
    "https://healthdata.gov/National/School-Learning-Modalities/aitj-yx37/data\n",
    "\n",
    "https://github.com/nytimes/covid-19-data\n",
    "\n",
    "https://data.world/niccolley/us-zipcode-to-county-state\n",
    "\n",
    "https://github.com/jasonong/List-of-US-States/blob/master/states.csv\n",
    "\n"
   ]
  },
  {
   "cell_type": "markdown",
   "metadata": {
    "id": "v55wVOOxhig6"
   },
   "source": [
    "### Justification for Dataset Selection"
   ]
  },
  {
   "cell_type": "markdown",
   "metadata": {
    "id": "3bp8cdDxDs2t"
   },
   "source": [
    "\n",
    "# Data Exploration (EDA)\n",
    "Import your dataset into your .ipynb, create dataframes, and explore your data.  \n",
    "\n",
    "Include: \n",
    "\n",
    "* Summary statistics means, medians, quartiles, \n",
    "* Missing value information\n",
    "* Any other relevant information about the dataset.  \n",
    "\n"
   ]
  },
  {
   "cell_type": "markdown",
   "metadata": {
    "id": "1OJmbafkEhhq"
   },
   "source": [
    "### **Importing Libraries**"
   ]
  },
  {
   "cell_type": "markdown",
   "metadata": {
    "id": "b0WTKtqozNn1"
   },
   "source": [
    "#### The first step is to import libraries for data exploration, cleaning and manipulation."
   ]
  },
  {
   "cell_type": "code",
   "execution_count": 2,
   "metadata": {
    "id": "umMtFeMYhig9"
   },
   "outputs": [
    {
     "ename": "ModuleNotFoundError",
     "evalue": "No module named 'seaborn'",
     "output_type": "error",
     "traceback": [
      "\u001b[1;31m---------------------------------------------------------------------------\u001b[0m",
      "\u001b[1;31mModuleNotFoundError\u001b[0m                       Traceback (most recent call last)",
      "\u001b[1;32m<ipython-input-2-188d2138e5d1>\u001b[0m in \u001b[0;36m<module>\u001b[1;34m()\u001b[0m\n\u001b[0;32m      2\u001b[0m \u001b[1;32mimport\u001b[0m \u001b[0mpandas\u001b[0m \u001b[1;32mas\u001b[0m \u001b[0mpd\u001b[0m\u001b[1;33m\u001b[0m\u001b[1;33m\u001b[0m\u001b[0m\n\u001b[0;32m      3\u001b[0m \u001b[1;32mimport\u001b[0m \u001b[0mdatetime\u001b[0m\u001b[1;33m\u001b[0m\u001b[1;33m\u001b[0m\u001b[0m\n\u001b[1;32m----> 4\u001b[1;33m \u001b[1;32mimport\u001b[0m \u001b[0mseaborn\u001b[0m \u001b[1;32mas\u001b[0m \u001b[0msns\u001b[0m\u001b[1;33m\u001b[0m\u001b[1;33m\u001b[0m\u001b[0m\n\u001b[0m\u001b[0;32m      5\u001b[0m \u001b[1;32mimport\u001b[0m \u001b[0mmatplotlib\u001b[0m\u001b[1;33m.\u001b[0m\u001b[0mpyplot\u001b[0m \u001b[1;32mas\u001b[0m \u001b[0mplt\u001b[0m\u001b[1;33m\u001b[0m\u001b[1;33m\u001b[0m\u001b[0m\n\u001b[0;32m      6\u001b[0m \u001b[1;32mimport\u001b[0m \u001b[0mmatplotlib\u001b[0m\u001b[1;33m.\u001b[0m\u001b[0mimage\u001b[0m \u001b[1;32mas\u001b[0m \u001b[0mmpimg\u001b[0m\u001b[1;33m\u001b[0m\u001b[1;33m\u001b[0m\u001b[0m\n",
      "\u001b[1;31mModuleNotFoundError\u001b[0m: No module named 'seaborn'"
     ]
    }
   ],
   "source": [
    "import numpy as np\n",
    "import pandas as pd\n",
    "import datetime\n",
    "import seaborn as sns\n",
    "import matplotlib.pyplot as plt\n",
    "import matplotlib.image as mpimg\n",
    "import warnings\n",
    "warnings.filterwarnings('ignore')\n"
   ]
  },
  {
   "cell_type": "raw",
   "metadata": {
    "id": "ii9_DdzFhig_"
   },
   "source": [
    "### **Importing CSV data file into pandas dataframe**\n",
    "\n",
    "Defining the path for reading the CSV file. \n",
    "\n",
    "Using Pandas \"read_csv\" function to read the file into Pandas dataframe.\n",
    "\n",
    "And by passing the limit to view 5 row in the \"head() function.\n",
    "\n",
    "Similarly, viewing the last 5 rows using the \"tail()\" function."
   ]
  },
  {
   "cell_type": "code",
   "execution_count": 3,
   "metadata": {
    "colab": {
     "base_uri": "https://localhost:8080/",
     "height": 206
    },
    "id": "LBLM8XCZhihA",
    "outputId": "959a6bf5-56e8-4618-cbb2-46d6c06bcce7"
   },
   "outputs": [
    {
     "data": {
      "text/html": [
       "<div>\n",
       "<style scoped>\n",
       "    .dataframe tbody tr th:only-of-type {\n",
       "        vertical-align: middle;\n",
       "    }\n",
       "\n",
       "    .dataframe tbody tr th {\n",
       "        vertical-align: top;\n",
       "    }\n",
       "\n",
       "    .dataframe thead th {\n",
       "        text-align: right;\n",
       "    }\n",
       "</style>\n",
       "<table border=\"1\" class=\"dataframe\">\n",
       "  <thead>\n",
       "    <tr style=\"text-align: right;\">\n",
       "      <th></th>\n",
       "      <th>District NCES ID</th>\n",
       "      <th>District Name</th>\n",
       "      <th>Week</th>\n",
       "      <th>Learning Modality</th>\n",
       "      <th>Operational Schools</th>\n",
       "      <th>Student Count</th>\n",
       "      <th>City</th>\n",
       "      <th>State</th>\n",
       "      <th>ZIP Code</th>\n",
       "    </tr>\n",
       "  </thead>\n",
       "  <tbody>\n",
       "    <tr>\n",
       "      <th>0</th>\n",
       "      <td>100005</td>\n",
       "      <td>Albertville City</td>\n",
       "      <td>10/23/2022 0:00</td>\n",
       "      <td>In Person</td>\n",
       "      <td>6</td>\n",
       "      <td>5824.0</td>\n",
       "      <td>Albertville</td>\n",
       "      <td>AL</td>\n",
       "      <td>35950</td>\n",
       "    </tr>\n",
       "    <tr>\n",
       "      <th>1</th>\n",
       "      <td>100006</td>\n",
       "      <td>Marshall County</td>\n",
       "      <td>10/23/2022 0:00</td>\n",
       "      <td>In Person</td>\n",
       "      <td>15</td>\n",
       "      <td>5764.0</td>\n",
       "      <td>Guntersville</td>\n",
       "      <td>AL</td>\n",
       "      <td>35976</td>\n",
       "    </tr>\n",
       "    <tr>\n",
       "      <th>2</th>\n",
       "      <td>100007</td>\n",
       "      <td>Hoover City</td>\n",
       "      <td>10/23/2022 0:00</td>\n",
       "      <td>In Person</td>\n",
       "      <td>18</td>\n",
       "      <td>14061.0</td>\n",
       "      <td>Hoover</td>\n",
       "      <td>AL</td>\n",
       "      <td>35243</td>\n",
       "    </tr>\n",
       "    <tr>\n",
       "      <th>3</th>\n",
       "      <td>100008</td>\n",
       "      <td>Madison City</td>\n",
       "      <td>10/23/2022 0:00</td>\n",
       "      <td>In Person</td>\n",
       "      <td>11</td>\n",
       "      <td>11695.0</td>\n",
       "      <td>Madison</td>\n",
       "      <td>AL</td>\n",
       "      <td>35758</td>\n",
       "    </tr>\n",
       "    <tr>\n",
       "      <th>4</th>\n",
       "      <td>100011</td>\n",
       "      <td>Leeds City</td>\n",
       "      <td>10/23/2022 0:00</td>\n",
       "      <td>In Person</td>\n",
       "      <td>4</td>\n",
       "      <td>2076.0</td>\n",
       "      <td>Leeds</td>\n",
       "      <td>AL</td>\n",
       "      <td>35094</td>\n",
       "    </tr>\n",
       "  </tbody>\n",
       "</table>\n",
       "</div>"
      ],
      "text/plain": [
       "   District NCES ID     District Name             Week Learning Modality  \\\n",
       "0            100005  Albertville City  10/23/2022 0:00         In Person   \n",
       "1            100006   Marshall County  10/23/2022 0:00         In Person   \n",
       "2            100007       Hoover City  10/23/2022 0:00         In Person   \n",
       "3            100008      Madison City  10/23/2022 0:00         In Person   \n",
       "4            100011        Leeds City  10/23/2022 0:00         In Person   \n",
       "\n",
       "   Operational Schools  Student Count          City State  ZIP Code  \n",
       "0                    6         5824.0   Albertville    AL     35950  \n",
       "1                   15         5764.0  Guntersville    AL     35976  \n",
       "2                   18        14061.0        Hoover    AL     35243  \n",
       "3                   11        11695.0       Madison    AL     35758  \n",
       "4                    4         2076.0         Leeds    AL     35094  "
      ]
     },
     "execution_count": 3,
     "metadata": {},
     "output_type": "execute_result"
    }
   ],
   "source": [
    "csv_path = 'https://raw.githubusercontent.com/uzmabb182/Data602_Assignments/main/Final_Project_Data_602/resources/school_learning_modalities.csv'\n",
    "modality_df = pd.read_csv(csv_path, encoding=\"utf-8\")\n",
    "modality_df.head(5)"
   ]
  },
  {
   "cell_type": "code",
   "execution_count": 4,
   "metadata": {
    "colab": {
     "base_uri": "https://localhost:8080/",
     "height": 206
    },
    "id": "Ucrwds2ic1Ux",
    "outputId": "87a5dc4b-ea6b-4b22-ae03-dc6ec3d1c1e5"
   },
   "outputs": [
    {
     "data": {
      "text/html": [
       "<div>\n",
       "<style scoped>\n",
       "    .dataframe tbody tr th:only-of-type {\n",
       "        vertical-align: middle;\n",
       "    }\n",
       "\n",
       "    .dataframe tbody tr th {\n",
       "        vertical-align: top;\n",
       "    }\n",
       "\n",
       "    .dataframe thead th {\n",
       "        text-align: right;\n",
       "    }\n",
       "</style>\n",
       "<table border=\"1\" class=\"dataframe\">\n",
       "  <thead>\n",
       "    <tr style=\"text-align: right;\">\n",
       "      <th></th>\n",
       "      <th>ZIP</th>\n",
       "      <th>COUNTYNAME</th>\n",
       "      <th>STATE</th>\n",
       "      <th>STCOUNTYFP</th>\n",
       "      <th>CLASSFP</th>\n",
       "    </tr>\n",
       "  </thead>\n",
       "  <tbody>\n",
       "    <tr>\n",
       "      <th>0</th>\n",
       "      <td>36003</td>\n",
       "      <td>Autauga County</td>\n",
       "      <td>AL</td>\n",
       "      <td>1001</td>\n",
       "      <td>H1</td>\n",
       "    </tr>\n",
       "    <tr>\n",
       "      <th>1</th>\n",
       "      <td>36006</td>\n",
       "      <td>Autauga County</td>\n",
       "      <td>AL</td>\n",
       "      <td>1001</td>\n",
       "      <td>H1</td>\n",
       "    </tr>\n",
       "    <tr>\n",
       "      <th>2</th>\n",
       "      <td>36008</td>\n",
       "      <td>Autauga County</td>\n",
       "      <td>AL</td>\n",
       "      <td>1001</td>\n",
       "      <td>H1</td>\n",
       "    </tr>\n",
       "    <tr>\n",
       "      <th>3</th>\n",
       "      <td>36022</td>\n",
       "      <td>Autauga County</td>\n",
       "      <td>AL</td>\n",
       "      <td>1001</td>\n",
       "      <td>H1</td>\n",
       "    </tr>\n",
       "    <tr>\n",
       "      <th>4</th>\n",
       "      <td>36051</td>\n",
       "      <td>Autauga County</td>\n",
       "      <td>AL</td>\n",
       "      <td>1001</td>\n",
       "      <td>H1</td>\n",
       "    </tr>\n",
       "  </tbody>\n",
       "</table>\n",
       "</div>"
      ],
      "text/plain": [
       "     ZIP      COUNTYNAME STATE  STCOUNTYFP CLASSFP\n",
       "0  36003  Autauga County    AL        1001      H1\n",
       "1  36006  Autauga County    AL        1001      H1\n",
       "2  36008  Autauga County    AL        1001      H1\n",
       "3  36022  Autauga County    AL        1001      H1\n",
       "4  36051  Autauga County    AL        1001      H1"
      ]
     },
     "execution_count": 4,
     "metadata": {},
     "output_type": "execute_result"
    }
   ],
   "source": [
    "csv_path = 'https://raw.githubusercontent.com/uzmabb182/Data602_Assignments/main/Final_Project_Data_602/resources/zip-county_fips.csv'\n",
    "zip_county_fips_df = pd.read_csv(csv_path, encoding=\"utf-8\")\n",
    "zip_county_fips_df.head(5)"
   ]
  },
  {
   "cell_type": "code",
   "execution_count": null,
   "metadata": {
    "colab": {
     "base_uri": "https://localhost:8080/",
     "height": 206
    },
    "id": "nj3PYRBHoplJ",
    "outputId": "127cff2f-1a56-49d1-903b-b669de25cb4a"
   },
   "outputs": [],
   "source": [
    "csv_path = 'https://raw.githubusercontent.com/nytimes/covid-19-data/master/us-counties-2021.csv'\n",
    "covid_2021_df = pd.read_csv(csv_path, encoding=\"utf-8\")\n",
    "covid_2021_df.head(5)"
   ]
  },
  {
   "cell_type": "code",
   "execution_count": null,
   "metadata": {
    "colab": {
     "base_uri": "https://localhost:8080/",
     "height": 206
    },
    "id": "qAMoJqnkrXcC",
    "outputId": "89aa1191-3b8e-4743-a988-eb896d766a68"
   },
   "outputs": [],
   "source": [
    "csv_path = 'https://raw.githubusercontent.com/nytimes/covid-19-data/master/us-counties-2022.csv'\n",
    "covid_2022_df = pd.read_csv(csv_path, encoding=\"utf-8\")\n",
    "covid_2022_df.head(5)"
   ]
  },
  {
   "cell_type": "code",
   "execution_count": null,
   "metadata": {
    "colab": {
     "base_uri": "https://localhost:8080/",
     "height": 206
    },
    "id": "7YEqRPybntKE",
    "outputId": "39b07b68-14cc-4573-dda2-c0a848d7add6"
   },
   "outputs": [],
   "source": [
    "csv_path = 'https://raw.githubusercontent.com/jasonong/List-of-US-States/master/states.csv'\n",
    "states_df = pd.read_csv(csv_path, encoding=\"utf-8\")\n",
    "states_df.head(5)"
   ]
  },
  {
   "cell_type": "raw",
   "metadata": {
    "id": "jYqFvcGXhihB"
   },
   "source": [
    "### **Exploratory Data Analysis (EDA)**\n",
    "\n",
    "Now previewing the data by calling the dataframe using \"info()\" function and finding the number of cloumns and rows.\n",
    "\n",
    "This function provides the total number of rows and columns as well as the datatype of each column. \n",
    "\n",
    "Also, we are able to see the count of non-null values, which will help us further investigate the missing, or unexpected values in our dataset."
   ]
  },
  {
   "cell_type": "code",
   "execution_count": null,
   "metadata": {
    "colab": {
     "base_uri": "https://localhost:8080/"
    },
    "id": "ciqzMezChihB",
    "outputId": "bdb78819-ef8b-49b0-b9bc-1215cf7d4be4",
    "scrolled": true
   },
   "outputs": [],
   "source": [
    "modality_df.info()"
   ]
  },
  {
   "cell_type": "raw",
   "metadata": {
    "id": "ueMEFQj-hihB"
   },
   "source": [
    "### The \"shape\" method provide the row and column count."
   ]
  },
  {
   "cell_type": "code",
   "execution_count": null,
   "metadata": {
    "colab": {
     "base_uri": "https://localhost:8080/"
    },
    "id": "eQyQoY5ghihB",
    "outputId": "caafedaf-1170-48b0-a619-97c43037741f"
   },
   "outputs": [],
   "source": [
    "modality_df.shape"
   ]
  },
  {
   "cell_type": "raw",
   "metadata": {
    "id": "NhYRx14fhihC"
   },
   "source": [
    "### Checking the datatype of columns"
   ]
  },
  {
   "cell_type": "code",
   "execution_count": null,
   "metadata": {
    "colab": {
     "base_uri": "https://localhost:8080/"
    },
    "id": "l7mT849-hihC",
    "outputId": "be1d96e9-fde9-4e79-8bb0-5e4d3f96e823"
   },
   "outputs": [],
   "source": [
    "modality_df.dtypes"
   ]
  },
  {
   "cell_type": "raw",
   "metadata": {
    "id": "oqUF4UXvhihC"
   },
   "source": [
    "### Finding the null values in the dataset"
   ]
  },
  {
   "cell_type": "code",
   "execution_count": null,
   "metadata": {
    "colab": {
     "base_uri": "https://localhost:8080/"
    },
    "id": "XXZ0HZvPhihC",
    "outputId": "d6e62ef2-3acc-4199-ef31-c000ddfb11f2"
   },
   "outputs": [],
   "source": [
    "for column in modality_df.columns:\n",
    "    print(f\"Column {column} has {modality_df[column].isnull().sum()} null values\")"
   ]
  },
  {
   "cell_type": "raw",
   "metadata": {
    "id": "0GSyikA6hihD"
   },
   "source": [
    "### Finding the missing values in the dataset"
   ]
  },
  {
   "cell_type": "code",
   "execution_count": null,
   "metadata": {
    "id": "WTAY84AIhihD"
   },
   "outputs": [],
   "source": [
    "# Function checking for missing values\n",
    "def missing_values_table(df):\n",
    "    mis_val = df.isnull().sum()\n",
    "    mis_val_percent = 100 * df.isnull().sum() / len(df)\n",
    "    mis_val_table = pd.concat([mis_val, mis_val_percent], axis=1)\n",
    "    mis_val_table_ren_columns = mis_val_table.rename(\n",
    "    columns = {0 : 'Missing Values', 1 : '% of Total Values'})\n",
    "    mis_val_table_ren_columns = mis_val_table_ren_columns[\n",
    "        mis_val_table_ren_columns.iloc[:,1] != 0].sort_values(\n",
    "    '% of Total Values', ascending=False).round(1)\n",
    "    print (\"Your selected dataframe has \" + str(df.shape[1]) + \" columns.\\n\"      \n",
    "        \"There are \" + str(mis_val_table_ren_columns.shape[0]) +\n",
    "            \" columns that have missing values.\")\n",
    "    return mis_val_table_ren_columns"
   ]
  },
  {
   "cell_type": "code",
   "execution_count": null,
   "metadata": {
    "colab": {
     "base_uri": "https://localhost:8080/",
     "height": 0
    },
    "id": "_KaZ06SvhihE",
    "outputId": "e4294491-8272-4ca2-cba5-70d9468d39c8"
   },
   "outputs": [],
   "source": [
    "missing_values_table(modality_df)"
   ]
  },
  {
   "cell_type": "markdown",
   "metadata": {
    "id": "2IuqXJU82ZW8"
   },
   "source": [
    " \n",
    "### The value_counts() funtion helps in finding the count of values that appear in a column. "
   ]
  },
  {
   "cell_type": "code",
   "execution_count": null,
   "metadata": {
    "colab": {
     "base_uri": "https://localhost:8080/"
    },
    "id": "e8aBzhqShihE",
    "outputId": "75c55d04-9694-4762-f996-5cfe770a9c16"
   },
   "outputs": [],
   "source": [
    "modality_df['Week'].value_counts()"
   ]
  },
  {
   "cell_type": "code",
   "execution_count": null,
   "metadata": {
    "colab": {
     "base_uri": "https://localhost:8080/"
    },
    "id": "0vL-fVTAhihF",
    "outputId": "74265479-582f-421f-e9d2-cf6c6bfc300e"
   },
   "outputs": [],
   "source": [
    "modality_df['Week'].values.tolist()"
   ]
  },
  {
   "cell_type": "raw",
   "metadata": {
    "id": "R4WEVZcBhihF"
   },
   "source": [
    "### Finding the value count of all columns to find the length and breakdown count of each column values"
   ]
  },
  {
   "cell_type": "code",
   "execution_count": null,
   "metadata": {
    "colab": {
     "base_uri": "https://localhost:8080/"
    },
    "id": "ATb357q-hihF",
    "outputId": "fd3273c9-f28a-467e-878c-b2017392aa9f"
   },
   "outputs": [],
   "source": [
    "for c in modality_df.columns:\n",
    "    print(\"---- %s ---\" % c)\n",
    "    print(modality_df[c].value_counts())"
   ]
  },
  {
   "cell_type": "markdown",
   "metadata": {
    "id": "kCSLIafaEGVK"
   },
   "source": [
    "### **Data Wrangling**\n",
    "Create a subset of your original data and perform the following.  \n",
    "\n",
    "1. Modify multiple column names.\n",
    "\n",
    "2. Look at the structure of your data – are any variables improperly coded? Such as strings or characters? Convert to correct structure if needed.\n",
    "\n",
    "3. Fix missing and invalid values in data.\n",
    "\n",
    "4. Create new columns based on existing columns or calculations.\n",
    "\n",
    "5. Drop column(s) from your dataset.\n",
    "\n",
    "6. Drop a row(s) from your dataset.\n",
    "\n",
    "7. Sort your data based on multiple variables. \n",
    "\n",
    "8. Filter your data based on some condition. \n",
    "\n",
    "9. Convert all the string values to upper or lower cases in one column.\n",
    "\n",
    "10. Check whether numeric values are present in a given column of your dataframe.\n",
    "\n",
    "11. Group your dataset by one column, and get the mean, min, and max values by group. \n",
    "  * Groupby()\n",
    "  * agg() or .apply()\n",
    "\n",
    "12. Group your dataset by two columns and then sort the aggregated results within the groups. \n",
    "\n",
    "**You are free (and should) to add on to these questions.  Please clearly indicate in your assignment your answers to these questions.**"
   ]
  },
  {
   "cell_type": "markdown",
   "metadata": {
    "id": "B6eDI5_3hihH"
   },
   "source": [
    "### 1- Modify multiple column names."
   ]
  },
  {
   "cell_type": "code",
   "execution_count": null,
   "metadata": {
    "colab": {
     "base_uri": "https://localhost:8080/"
    },
    "id": "ozYm1ZichihI",
    "outputId": "59a1290d-788c-49cc-9cb6-f1f5c8c96a25"
   },
   "outputs": [],
   "source": [
    "modality_df.columns"
   ]
  },
  {
   "cell_type": "code",
   "execution_count": null,
   "metadata": {
    "colab": {
     "base_uri": "https://localhost:8080/",
     "height": 206
    },
    "id": "NWwRqcLd5wui",
    "outputId": "0646b6cf-090f-4ffc-ee58-49509767142e"
   },
   "outputs": [],
   "source": [
    "modality_df.head()"
   ]
  },
  {
   "cell_type": "markdown",
   "metadata": {
    "id": "2eO5fJXJ7Fn8"
   },
   "source": [
    "### Converting date column into Month and Year columns to prepare for machine learning."
   ]
  },
  {
   "cell_type": "code",
   "execution_count": null,
   "metadata": {
    "id": "-tb5ydNv6-xY"
   },
   "outputs": [],
   "source": [
    "modality_df[\"Week\"]= pd.to_datetime(modality_df[\"Week\"])\n",
    "\n",
    "modality_df['year'] = modality_df['Week'].dt.year\n"
   ]
  },
  {
   "cell_type": "code",
   "execution_count": null,
   "metadata": {
    "id": "tnWAE7EwT0gP"
   },
   "outputs": [],
   "source": [
    "modality_df['month'] = modality_df['Week'].dt.month"
   ]
  },
  {
   "cell_type": "code",
   "execution_count": null,
   "metadata": {
    "colab": {
     "base_uri": "https://localhost:8080/"
    },
    "id": "9fsmhCjN6-7_",
    "outputId": "034c2e92-2ec1-4e2d-efbe-dd537922e02f"
   },
   "outputs": [],
   "source": [
    "modality_df['year'].values.tolist()\n",
    "modality_df['month'].value_counts()"
   ]
  },
  {
   "cell_type": "code",
   "execution_count": null,
   "metadata": {
    "colab": {
     "base_uri": "https://localhost:8080/",
     "height": 424
    },
    "id": "136uhscz79XH",
    "outputId": "92cf9b7e-087d-4b26-e357-d279b7ccc581"
   },
   "outputs": [],
   "source": [
    "modality_df"
   ]
  },
  {
   "cell_type": "markdown",
   "metadata": {
    "id": "Tbxh11EdK-rX"
   },
   "source": [
    "### Remove columns not required in the analysis and machine learning model"
   ]
  },
  {
   "cell_type": "code",
   "execution_count": null,
   "metadata": {
    "colab": {
     "base_uri": "https://localhost:8080/",
     "height": 424
    },
    "id": "eXx3N8iT79bl",
    "outputId": "e38dc38f-a077-49c0-82c1-f4b9c566a0c1"
   },
   "outputs": [],
   "source": [
    "modality_df = modality_df.drop(['District NCES ID', 'District Name', 'Week', 'City'], axis=1)\n",
    "modality_df"
   ]
  },
  {
   "cell_type": "code",
   "execution_count": null,
   "metadata": {
    "colab": {
     "base_uri": "https://localhost:8080/"
    },
    "id": "wLGpV1JZ79fn",
    "outputId": "3a06b25f-ff5c-4298-d17b-f0d2cb7fe070"
   },
   "outputs": [],
   "source": [
    "modality_df.info()"
   ]
  },
  {
   "cell_type": "markdown",
   "metadata": {
    "id": "Sf_jBwM5QHMN"
   },
   "source": [
    "### Convert the \"Student Count\" datatype to Integer and replace NaN values with 0"
   ]
  },
  {
   "cell_type": "code",
   "execution_count": null,
   "metadata": {
    "colab": {
     "base_uri": "https://localhost:8080/"
    },
    "id": "9sLlsvZf79lD",
    "outputId": "51b1289f-9a0f-4891-d41d-4aa286c9b702"
   },
   "outputs": [],
   "source": [
    "modality_df['Student Count'] = modality_df['Student Count'].fillna(0).astype(int)\n",
    "print(modality_df.dtypes)"
   ]
  },
  {
   "cell_type": "code",
   "execution_count": null,
   "metadata": {
    "colab": {
     "base_uri": "https://localhost:8080/",
     "height": 84
    },
    "id": "5XVdAPFOROeJ",
    "outputId": "fb1a386b-3a2a-41cc-cf41-13c71e5efc9f"
   },
   "outputs": [],
   "source": [
    "missing_values_table(modality_df)"
   ]
  },
  {
   "cell_type": "markdown",
   "metadata": {
    "id": "jTw0GTAWSDrL"
   },
   "source": [
    "### Change all column headers to lowercase and removing white spaces"
   ]
  },
  {
   "cell_type": "code",
   "execution_count": null,
   "metadata": {
    "colab": {
     "base_uri": "https://localhost:8080/"
    },
    "id": "0vgX-xBm6_BA",
    "outputId": "c81399bb-20bd-4d1c-dd5c-efbf2f9ada64"
   },
   "outputs": [],
   "source": [
    "# rename Pandas columns to lower case\n",
    "modality_df.columns= modality_df.columns.str.strip().str.lower()\n",
    "modality_df.columns"
   ]
  },
  {
   "cell_type": "markdown",
   "metadata": {
    "id": "N5jf77IWWzif"
   },
   "source": [
    "### Remove spaces in columns name"
   ]
  },
  {
   "cell_type": "code",
   "execution_count": null,
   "metadata": {
    "colab": {
     "base_uri": "https://localhost:8080/"
    },
    "id": "O5VQ91YDRYK4",
    "outputId": "8247ab8a-f04b-4017-ab8f-9b680cbb86c0"
   },
   "outputs": [],
   "source": [
    "modality_df.columns = modality_df.columns.str.replace(' ','_')\n",
    "   \n",
    "# After renaming the columns\n",
    "modality_df.columns\n"
   ]
  },
  {
   "cell_type": "markdown",
   "metadata": {
    "id": "h6iofTFUXjia"
   },
   "source": [
    "### To apply title to the column values"
   ]
  },
  {
   "cell_type": "code",
   "execution_count": null,
   "metadata": {
    "colab": {
     "base_uri": "https://localhost:8080/",
     "height": 206
    },
    "id": "zKr24lcfRYeE",
    "outputId": "f3332750-2af2-4989-b586-7b13536ba484"
   },
   "outputs": [],
   "source": [
    "# converting and overwriting values in column\n",
    "modality_df['learning_modality']= modality_df['learning_modality'].str.upper().str.title()\n",
    "modality_df.head()"
   ]
  },
  {
   "cell_type": "code",
   "execution_count": null,
   "metadata": {
    "id": "h-zim0L5mc2F"
   },
   "outputs": [],
   "source": []
  },
  {
   "cell_type": "markdown",
   "metadata": {
    "id": "TIBSJ38fcSF4"
   },
   "source": [
    "### Creating a function which will remove extra leading\n",
    "### and trailing whitespace from the data.\n",
    "### pass dataframe as a parameter here"
   ]
  },
  {
   "cell_type": "code",
   "execution_count": null,
   "metadata": {
    "colab": {
     "base_uri": "https://localhost:8080/",
     "height": 206
    },
    "id": "yG7XP8hZRYid",
    "outputId": "ac62be0d-4f89-47a6-b746-20a124fb3659"
   },
   "outputs": [],
   "source": [
    "def whitespace_remover(dataframe):\n",
    "   \n",
    "    # iterating over the columns\n",
    "    for i in dataframe.columns:\n",
    "         \n",
    "        # checking datatype of each columns\n",
    "        if dataframe[i].dtype == 'object':\n",
    "             \n",
    "            # applying strip function on column\n",
    "            dataframe[i] = dataframe[i].map(str.strip)\n",
    "        else:\n",
    "             \n",
    "            # if condn. is False then it will do nothing.\n",
    "            pass\n",
    " \n",
    "# applying whitespace_remover function on dataframe\n",
    "whitespace_remover(modality_df)\n",
    "modality_df.head()"
   ]
  },
  {
   "cell_type": "markdown",
   "metadata": {
    "id": "u-2G-BNuOJTR"
   },
   "source": [
    "### Resetting the index of the dataframe"
   ]
  },
  {
   "cell_type": "code",
   "execution_count": null,
   "metadata": {
    "colab": {
     "base_uri": "https://localhost:8080/",
     "height": 0
    },
    "id": "078pGiJ-_PzV",
    "outputId": "ab711f95-7aad-4bf5-a835-ed1961815707"
   },
   "outputs": [],
   "source": [
    "# Reseting index\n",
    "modality_df = modality_df.reset_index(drop=True)\n",
    "modality_df"
   ]
  },
  {
   "cell_type": "markdown",
   "metadata": {
    "id": "8nLKXlvzmeHf"
   },
   "source": [
    "### **CLeaning Zip_County_Fips_Df for merging into the datafarme**"
   ]
  },
  {
   "cell_type": "code",
   "execution_count": null,
   "metadata": {
    "colab": {
     "base_uri": "https://localhost:8080/",
     "height": 0
    },
    "id": "i7KXGrfumcgy",
    "outputId": "088845f0-8a85-4c76-dc3a-2e8ca1eed334"
   },
   "outputs": [],
   "source": [
    "zip_county_fips_df.head(5)"
   ]
  },
  {
   "cell_type": "markdown",
   "metadata": {
    "id": "pHrw_W2vnRON"
   },
   "source": [
    "### Rename Pandas columns to lower case and stripping white spaces"
   ]
  },
  {
   "cell_type": "code",
   "execution_count": null,
   "metadata": {
    "colab": {
     "base_uri": "https://localhost:8080/"
    },
    "id": "pCBwZlrgmcvH",
    "outputId": "81c6627a-f5e6-4f46-f100-e90321958e4e"
   },
   "outputs": [],
   "source": [
    "zip_county_fips_df.columns= zip_county_fips_df.columns.str.strip().str.lower()\n",
    "zip_county_fips_df.columns"
   ]
  },
  {
   "cell_type": "code",
   "execution_count": null,
   "metadata": {
    "colab": {
     "base_uri": "https://localhost:8080/"
    },
    "id": "O-QOcO5cmcyl",
    "outputId": "5225144b-ba7a-4023-83e0-d81422a17321"
   },
   "outputs": [],
   "source": [
    "zip_county_fips_df.dtypes"
   ]
  },
  {
   "cell_type": "code",
   "execution_count": null,
   "metadata": {
    "id": "P4oaUFpJk6kW"
   },
   "outputs": [],
   "source": [
    "zip_county_fips_df=zip_county_fips_df.rename({'stcountyfp':'fips'}, axis=1)"
   ]
  },
  {
   "cell_type": "markdown",
   "metadata": {
    "id": "us2iNBHnngtn"
   },
   "source": [
    "### Dropping 'classfp' column"
   ]
  },
  {
   "cell_type": "code",
   "execution_count": null,
   "metadata": {
    "colab": {
     "base_uri": "https://localhost:8080/",
     "height": 0
    },
    "id": "ojSvWzW2RYnD",
    "outputId": "13070b9a-8f59-4a64-be38-f7fda0475abb"
   },
   "outputs": [],
   "source": [
    "zip_county_fips_df = zip_county_fips_df.drop(['classfp', 'state'], axis=1)\n",
    "zip_county_fips_df"
   ]
  },
  {
   "cell_type": "markdown",
   "metadata": {
    "id": "3j8BtTmawQrr"
   },
   "source": [
    "### Removing the \"County\" and \"Island\" string from the column"
   ]
  },
  {
   "cell_type": "code",
   "execution_count": null,
   "metadata": {
    "id": "FdodLV4OwPgL"
   },
   "outputs": [],
   "source": [
    "# zip_county_fips_df['countyname'] = zip_county_fips_df['countyname'].str.rstrip('County')"
   ]
  },
  {
   "cell_type": "code",
   "execution_count": null,
   "metadata": {
    "id": "ImGvZTTowtrF"
   },
   "outputs": [],
   "source": [
    "# zip_county_fips_df['countyname'] = zip_county_fips_df['countyname'].str.rstrip('Island')"
   ]
  },
  {
   "cell_type": "code",
   "execution_count": null,
   "metadata": {
    "colab": {
     "base_uri": "https://localhost:8080/",
     "height": 424
    },
    "id": "8HGxJyuZXaXB",
    "outputId": "7d2a277c-2177-42b0-9d2f-2ecfa08fe67a"
   },
   "outputs": [],
   "source": [
    "fips_df = zip_county_fips_df.drop(['zip'], axis=1)\n",
    "fips_df"
   ]
  },
  {
   "cell_type": "code",
   "execution_count": null,
   "metadata": {
    "colab": {
     "base_uri": "https://localhost:8080/",
     "height": 424
    },
    "id": "cokyuT-GW-Pk",
    "outputId": "9f5aaab6-b546-47d1-8540-2ac0bb41874f"
   },
   "outputs": [],
   "source": [
    "#drop duplicates from DataFrame\n",
    "fips_df = fips_df.drop_duplicates()\n",
    "fips_df"
   ]
  },
  {
   "cell_type": "code",
   "execution_count": null,
   "metadata": {
    "colab": {
     "base_uri": "https://localhost:8080/",
     "height": 424
    },
    "id": "wimQSIzfZKXH",
    "outputId": "0912f751-cb66-4fc8-9d3c-92bed90a8601"
   },
   "outputs": [],
   "source": [
    "fips_df = fips_df.reset_index(drop=True)\n",
    "fips_df"
   ]
  },
  {
   "cell_type": "code",
   "execution_count": null,
   "metadata": {
    "colab": {
     "base_uri": "https://localhost:8080/",
     "height": 206
    },
    "id": "fW9D1l5szyNI",
    "outputId": "9f3b3e92-c84c-43c6-9246-cbb7de5bd10c"
   },
   "outputs": [],
   "source": [
    "# zip_county_fips_df.info()\n",
    "zip_county_fips_df.head()\n"
   ]
  },
  {
   "cell_type": "code",
   "execution_count": null,
   "metadata": {
    "id": "SvaTITZLzl4j"
   },
   "outputs": [],
   "source": [
    "# zip_county_fips_df['countyname'].values.tolist()"
   ]
  },
  {
   "cell_type": "markdown",
   "metadata": {
    "id": "4HHmwkD_1DUx"
   },
   "source": [
    "### Remove special characters from string column"
   ]
  },
  {
   "cell_type": "code",
   "execution_count": null,
   "metadata": {
    "id": "EyNythMfzm5-"
   },
   "outputs": [],
   "source": [
    "### Remove special characters from string column\n",
    "# zip_county_fips_df['countyname'] = zip_county_fips_df['countyname'].str.replace('\\W', '', regex=True)\n",
    "# zip_county_fips_df['countyname'].values.tolist()"
   ]
  },
  {
   "cell_type": "markdown",
   "metadata": {
    "id": "AiAs5JmTBgjA"
   },
   "source": [
    "### Saving the file to upload on PostgreSql"
   ]
  },
  {
   "cell_type": "code",
   "execution_count": null,
   "metadata": {
    "id": "Xv6Tv_DYBnV5"
   },
   "outputs": [],
   "source": [
    "# Save as a csv\n",
    "# Note to avoid any issues later, use encoding=\"utf-8\"\n",
    "#fips_df.to_csv(\"posgres_zip_county_fips_df.csv\", encoding=\"utf-8\", index=False)"
   ]
  },
  {
   "cell_type": "markdown",
   "metadata": {
    "id": "7anwNxvPpfvT"
   },
   "source": [
    "### **Merge the zip_county_fips_df and modality_df for adding the fips_code in the dataframe**"
   ]
  },
  {
   "cell_type": "code",
   "execution_count": null,
   "metadata": {
    "colab": {
     "base_uri": "https://localhost:8080/",
     "height": 206
    },
    "id": "D8IZPwYzqx0s",
    "outputId": "bf51b49a-872b-41de-944a-05544d2b6338"
   },
   "outputs": [],
   "source": [
    "#merge DataFrames\n",
    "modality_fips_df = pd.merge(zip_county_fips_df, modality_df, left_on='zip', right_on='zip_code')\n",
    "modality_fips_df.head()"
   ]
  },
  {
   "cell_type": "code",
   "execution_count": null,
   "metadata": {
    "colab": {
     "base_uri": "https://localhost:8080/",
     "height": 206
    },
    "id": "UrVYDiYdsWkr",
    "outputId": "e620ef18-d3c5-4a04-81cf-0bf9e9cff0a8"
   },
   "outputs": [],
   "source": [
    "#merge DataFrames\n",
    "modality_fips_df = pd.merge(states_df, modality_fips_df, left_on='Abbreviation', right_on='state')\n",
    "modality_fips_df.head()"
   ]
  },
  {
   "cell_type": "code",
   "execution_count": null,
   "metadata": {
    "colab": {
     "base_uri": "https://localhost:8080/",
     "height": 206
    },
    "id": "XqLzud10t_QR",
    "outputId": "eb1122be-37af-43fd-a255-86663db3de13"
   },
   "outputs": [],
   "source": [
    "#drop one column by index\n",
    "\n",
    "modality_fips_df.drop('state', axis=1, inplace=True)\n",
    "modality_fips_df.head()"
   ]
  },
  {
   "cell_type": "code",
   "execution_count": null,
   "metadata": {
    "colab": {
     "base_uri": "https://localhost:8080/"
    },
    "id": "2TVsHjzMrHG9",
    "outputId": "204bc51f-390a-4eee-c493-7a2a4e15b2ec"
   },
   "outputs": [],
   "source": [
    "modality_fips_df[\"countyname\"].value_counts()"
   ]
  },
  {
   "cell_type": "markdown",
   "metadata": {
    "id": "a6ihQe15cElr"
   },
   "source": [
    "### Dropping the duplicate rows based on all columns"
   ]
  },
  {
   "cell_type": "code",
   "execution_count": null,
   "metadata": {
    "colab": {
     "base_uri": "https://localhost:8080/",
     "height": 424
    },
    "id": "F1DOLYqFcKJB",
    "outputId": "6b6ab10b-2499-448a-eb1f-e84dbe26f59c"
   },
   "outputs": [],
   "source": [
    "modality_fips_df = modality_fips_df.drop_duplicates()\n",
    "modality_fips_df"
   ]
  },
  {
   "cell_type": "markdown",
   "metadata": {
    "id": "ux4yp8oBxiqR"
   },
   "source": [
    "### Removing white spaces from entire dataframe"
   ]
  },
  {
   "cell_type": "code",
   "execution_count": null,
   "metadata": {
    "colab": {
     "base_uri": "https://localhost:8080/",
     "height": 206
    },
    "id": "dYJ4ekd7xg4x",
    "outputId": "dd06b9c2-ac17-4a1e-ce92-c15a059b28d2"
   },
   "outputs": [],
   "source": [
    "def whitespace_remover(dataframe):\n",
    "   \n",
    "    # iterating over the columns\n",
    "    for i in dataframe.columns:\n",
    "         \n",
    "        # checking datatype of each columns\n",
    "        if dataframe[i].dtype == 'object':\n",
    "             \n",
    "            # applying strip function on column\n",
    "            dataframe[i] = dataframe[i].map(str.strip)\n",
    "        else:\n",
    "             \n",
    "            # if condn. is False then it will do nothing.\n",
    "            pass\n",
    " \n",
    "# applying whitespace_remover function on dataframe\n",
    "whitespace_remover(modality_fips_df)\n",
    "modality_fips_df.head()"
   ]
  },
  {
   "cell_type": "markdown",
   "metadata": {
    "id": "lOBX02DzzMb-"
   },
   "source": [
    "### Dropping duplicate value columns"
   ]
  },
  {
   "cell_type": "markdown",
   "metadata": {
    "id": "A33WLT01bx20"
   },
   "source": [
    "# Preparing for Postgresql import"
   ]
  },
  {
   "cell_type": "code",
   "execution_count": null,
   "metadata": {
    "colab": {
     "base_uri": "https://localhost:8080/",
     "height": 424
    },
    "id": "AnxfwqW_bRfZ",
    "outputId": "bce90da6-cc65-4cd6-cc89-009312f11138"
   },
   "outputs": [],
   "source": [
    "modality_fips_df = modality_fips_df.drop(['zip_code', 'month', 'operational_schools'], axis=1)\n",
    "modality_fips_df"
   ]
  },
  {
   "cell_type": "code",
   "execution_count": null,
   "metadata": {
    "colab": {
     "base_uri": "https://localhost:8080/",
     "height": 424
    },
    "id": "LGgmYakCwBZG",
    "outputId": "ff9bb63e-d67e-46cc-d470-d20304e6e588"
   },
   "outputs": [],
   "source": [
    "modality_fips_df= modality_fips_df.rename(columns=str.lower)\n",
    "modality_fips_df"
   ]
  },
  {
   "cell_type": "markdown",
   "metadata": {
    "id": "vgtx_JQY9Dnx"
   },
   "source": [
    "### Now Groupby county and average the student count"
   ]
  },
  {
   "cell_type": "code",
   "execution_count": null,
   "metadata": {
    "colab": {
     "base_uri": "https://localhost:8080/",
     "height": 424
    },
    "id": "kZCnrK8X9oxZ",
    "outputId": "571e57c7-2df2-4218-cd2c-2878f82968ab"
   },
   "outputs": [],
   "source": [
    "# Groupby one column and return the mean of only particular column in the group.\n",
    "new_modality_df = modality_fips_df.groupby(['countyname', 'fips', 'learning_modality', 'state', 'abbreviation', 'year'], as_index=False).agg(student_count= ('student_count','sum'))\n",
    "new_modality_df"
   ]
  },
  {
   "cell_type": "code",
   "execution_count": null,
   "metadata": {
    "colab": {
     "base_uri": "https://localhost:8080/",
     "height": 424
    },
    "id": "MZnr6WYhXeY5",
    "outputId": "5ea41af0-99c4-449e-fb49-f374220c80ca"
   },
   "outputs": [],
   "source": [
    "new_modality_df['student_count'] = new_modality_df['student_count'].astype(int)\n",
    "new_modality_df.dtypes\n",
    "new_modality_df"
   ]
  },
  {
   "cell_type": "code",
   "execution_count": null,
   "metadata": {
    "colab": {
     "base_uri": "https://localhost:8080/"
    },
    "id": "z4X_w3DudYJX",
    "outputId": "e0b34f5f-c287-4b3d-c30f-708d27420f6d"
   },
   "outputs": [],
   "source": [
    "new_modality_df = new_modality_df.drop_duplicates()\n",
    "new_modality_df.info()"
   ]
  },
  {
   "cell_type": "code",
   "execution_count": null,
   "metadata": {
    "colab": {
     "base_uri": "https://localhost:8080/",
     "height": 424
    },
    "id": "DZB6st3y9pBf",
    "outputId": "1439fb5a-426a-4d36-eac0-2e2ff7749fb1"
   },
   "outputs": [],
   "source": [
    "new_df = new_modality_df[new_modality_df['student_count'] > 1000]\n",
    "new_df"
   ]
  },
  {
   "cell_type": "code",
   "execution_count": null,
   "metadata": {
    "colab": {
     "base_uri": "https://localhost:8080/",
     "height": 424
    },
    "id": "GFeIt5aXdgMw",
    "outputId": "dbd793d7-c6e3-4d1d-b4f8-405af0933173"
   },
   "outputs": [],
   "source": [
    "# Reseting index\n",
    "new_modality_df = new_modality_df.reset_index(drop=True)\n",
    "new_modality_df"
   ]
  },
  {
   "cell_type": "code",
   "execution_count": null,
   "metadata": {
    "colab": {
     "base_uri": "https://localhost:8080/"
    },
    "id": "HNMhmfoO6Se0",
    "outputId": "9e2c982a-a351-4138-8825-ca784b3fa455"
   },
   "outputs": [],
   "source": [
    "new_modality_df[\"student_count\"].values.tolist()"
   ]
  },
  {
   "cell_type": "code",
   "execution_count": null,
   "metadata": {
    "colab": {
     "base_uri": "https://localhost:8080/"
    },
    "id": "1gGDO9OJ4j7C",
    "outputId": "b4ec31f3-9864-4b31-e85e-1068ffed5786"
   },
   "outputs": [],
   "source": [
    "new_modality_df[\"student_count\"] = new_modality_df[\"student_count\"].fillna(0)\n",
    "new_modality_df = new_modality_df.dropna()\n",
    "new_modality_df['student_count'].notnull()"
   ]
  },
  {
   "cell_type": "code",
   "execution_count": null,
   "metadata": {
    "colab": {
     "base_uri": "https://localhost:8080/",
     "height": 300
    },
    "id": "CJZaNd2J5EAf",
    "outputId": "11d74b94-2521-4885-dd39-333b1eb81317"
   },
   "outputs": [],
   "source": [
    "new_modality_df.describe()"
   ]
  },
  {
   "cell_type": "code",
   "execution_count": null,
   "metadata": {
    "id": "Oi7mPqo7XoBF"
   },
   "outputs": [],
   "source": [
    "# Save as a csv\n",
    "# Note to avoid any issues later, use encoding=\"utf-8\"\n",
    "#new_modality_df.to_csv(\"posgres_modality_df.csv\", encoding=\"utf-8\", index=False)"
   ]
  },
  {
   "cell_type": "markdown",
   "metadata": {
    "id": "a0gBZ9GeHPGJ"
   },
   "source": [
    "### **Now Concatinating the Covid_2021 and Covid_2022 dataframes**"
   ]
  },
  {
   "cell_type": "code",
   "execution_count": null,
   "metadata": {
    "colab": {
     "base_uri": "https://localhost:8080/",
     "height": 206
    },
    "id": "X0btWmCLHmEP",
    "outputId": "b437fe11-d219-4ebd-f1f3-7205d1d838b4"
   },
   "outputs": [],
   "source": [
    "covid_2021_df.head()"
   ]
  },
  {
   "cell_type": "code",
   "execution_count": null,
   "metadata": {
    "colab": {
     "base_uri": "https://localhost:8080/",
     "height": 206
    },
    "id": "cNgOlCO-HmOS",
    "outputId": "c3708d57-eaf5-481c-c741-3635903fa539"
   },
   "outputs": [],
   "source": [
    "covid_2022_df.head()"
   ]
  },
  {
   "cell_type": "markdown",
   "metadata": {
    "id": "ACPfxkZuJJ1H"
   },
   "source": [
    "### Concatenating covid_2021_df and covid_2022_df along rows (Vertical)"
   ]
  },
  {
   "cell_type": "code",
   "execution_count": null,
   "metadata": {
    "colab": {
     "base_uri": "https://localhost:8080/",
     "height": 424
    },
    "id": "-Xs4IGM4HmSn",
    "outputId": "cdfe1e82-7da8-43bf-eeb2-cbc9875eecf1"
   },
   "outputs": [],
   "source": [
    "covid_df = pd.concat([covid_2021_df, covid_2022_df], axis=0)\n",
    "covid_df"
   ]
  },
  {
   "cell_type": "markdown",
   "metadata": {
    "id": "jzvtj6g5Jn24"
   },
   "source": [
    "### **Data Cleaning for Covid_df dataframe**"
   ]
  },
  {
   "cell_type": "code",
   "execution_count": null,
   "metadata": {
    "colab": {
     "base_uri": "https://localhost:8080/",
     "height": 424
    },
    "id": "SGykrVa5c_pc",
    "outputId": "20733891-0fad-4e74-878e-3c38bc24ac0d"
   },
   "outputs": [],
   "source": [
    "covid_df = covid_df.drop_duplicates()\n",
    "covid_df"
   ]
  },
  {
   "cell_type": "markdown",
   "metadata": {
    "id": "DWrDZ_9HLspu"
   },
   "source": [
    "### Converting into correct date format and then converting date column into Month and Year columns to prepare for machine learning."
   ]
  },
  {
   "cell_type": "code",
   "execution_count": null,
   "metadata": {
    "id": "F67f1M4bHmYU"
   },
   "outputs": [],
   "source": [
    "covid_df[\"date\"]= pd.to_datetime(covid_df[\"date\"])\n",
    "\n",
    "covid_df['month'] = covid_df['date'].dt.month"
   ]
  },
  {
   "cell_type": "code",
   "execution_count": null,
   "metadata": {
    "colab": {
     "base_uri": "https://localhost:8080/",
     "height": 206
    },
    "id": "GgnS89iCL-ln",
    "outputId": "36220d8d-fbe8-46c4-a7ab-e5ccdee94d2d"
   },
   "outputs": [],
   "source": [
    "covid_df['year'] = covid_df['date'].dt.year\n",
    "covid_df.head()"
   ]
  },
  {
   "cell_type": "markdown",
   "metadata": {
    "id": "8OjYcctrNDeb"
   },
   "source": [
    "### Convert the \"Student Count\" datatype to Integer and replace NaN values with 0"
   ]
  },
  {
   "cell_type": "code",
   "execution_count": null,
   "metadata": {
    "colab": {
     "base_uri": "https://localhost:8080/"
    },
    "id": "MfVzHDxKNF_K",
    "outputId": "78d5662a-7424-448b-8575-848ec4248fc4"
   },
   "outputs": [],
   "source": [
    "covid_df['fips'] = covid_df['fips'].fillna(0).astype(int)\n",
    "covid_df['deaths'] = covid_df['deaths'].fillna(0).astype(int)\n",
    "print(covid_df.dtypes)"
   ]
  },
  {
   "cell_type": "code",
   "execution_count": null,
   "metadata": {
    "colab": {
     "base_uri": "https://localhost:8080/",
     "height": 206
    },
    "id": "IVjOl2p2NgqC",
    "outputId": "dfe10c20-35a0-4f8c-e1cb-6ca886f8599c"
   },
   "outputs": [],
   "source": [
    "covid_df.head()"
   ]
  },
  {
   "cell_type": "markdown",
   "metadata": {
    "id": "xwDVQ0tNNqn_"
   },
   "source": [
    "### Dropping the unwanted Columns"
   ]
  },
  {
   "cell_type": "code",
   "execution_count": null,
   "metadata": {
    "colab": {
     "base_uri": "https://localhost:8080/",
     "height": 206
    },
    "id": "zP1zGyvdNzBv",
    "outputId": "f4c956ad-04aa-4f6d-fdef-ec7e0726dee5"
   },
   "outputs": [],
   "source": [
    "covid_df = covid_df.drop(['date', 'month'], axis=1)\n",
    "covid_df.head()"
   ]
  },
  {
   "cell_type": "markdown",
   "metadata": {
    "id": "kfCqoq6zOP0q"
   },
   "source": [
    "### Resetting the index of the dataframe"
   ]
  },
  {
   "cell_type": "code",
   "execution_count": null,
   "metadata": {
    "colab": {
     "base_uri": "https://localhost:8080/",
     "height": 424
    },
    "id": "rblBFMeIOWHM",
    "outputId": "cac813c1-5d5b-4cd3-f790-8785269a1b83"
   },
   "outputs": [],
   "source": [
    "# Reseting index\n",
    "covid_df = covid_df.reset_index(drop=True)\n",
    "covid_df"
   ]
  },
  {
   "cell_type": "markdown",
   "metadata": {
    "id": "PRlLedAqOzIa"
   },
   "source": [
    "### GroupBy County column and sum cases and deaths"
   ]
  },
  {
   "cell_type": "code",
   "execution_count": null,
   "metadata": {
    "colab": {
     "base_uri": "https://localhost:8080/",
     "height": 424
    },
    "id": "JludxoIyPSjY",
    "outputId": "f53b43d1-2487-42f2-8a44-28e1b010df0d"
   },
   "outputs": [],
   "source": [
    "# Groupby one column and return the sum of only particular columns in the group.\n",
    "new_covid_df = covid_df.groupby(['county', 'fips', 'state', 'year'], as_index=False).agg(cases_count= ('cases','sum'), deaths_count= ('deaths','sum'))\n",
    "new_covid_df"
   ]
  },
  {
   "cell_type": "markdown",
   "metadata": {
    "id": "fCGFG5QmvbAm"
   },
   "source": [
    "### Convert the value of 'county' and 'state' columns to lowercase"
   ]
  },
  {
   "cell_type": "code",
   "execution_count": null,
   "metadata": {
    "id": "Nw95ep8KvHj4"
   },
   "outputs": [],
   "source": [
    "# new_covid_df['county'] = new_covid_df['county'].map(str.lower)\n",
    "# new_covid_df['state'] = new_covid_df['state'].map(str.lower)"
   ]
  },
  {
   "cell_type": "code",
   "execution_count": null,
   "metadata": {
    "colab": {
     "base_uri": "https://localhost:8080/",
     "height": 424
    },
    "id": "9ZcA-HHpdlO7",
    "outputId": "49856b30-95a6-421d-8666-613f7c7e6d65"
   },
   "outputs": [],
   "source": [
    "new_covid_df = new_covid_df.drop_duplicates()\n",
    "new_covid_df"
   ]
  },
  {
   "cell_type": "code",
   "execution_count": null,
   "metadata": {
    "colab": {
     "base_uri": "https://localhost:8080/",
     "height": 424
    },
    "id": "0ZR5_ZW9joNJ",
    "outputId": "52f9afdd-2770-43ce-c010-b46e6915f9ca"
   },
   "outputs": [],
   "source": [
    "#merge DataFrames\n",
    "covid_fips_df = pd.merge(fips_df, new_covid_df, left_on='fips', right_on='fips')\n",
    "covid_fips_df"
   ]
  },
  {
   "cell_type": "code",
   "execution_count": null,
   "metadata": {
    "colab": {
     "base_uri": "https://localhost:8080/",
     "height": 424
    },
    "id": "E2vPx4kDli-L",
    "outputId": "d2f49119-eac5-46d1-9fdf-fe249973ec10"
   },
   "outputs": [],
   "source": [
    "covid_fips_df = covid_fips_df.drop(['county'], axis=1)\n",
    "covid_fips_df"
   ]
  },
  {
   "cell_type": "code",
   "execution_count": null,
   "metadata": {
    "colab": {
     "base_uri": "https://localhost:8080/",
     "height": 300
    },
    "id": "F5DFAPTL45qX",
    "outputId": "cbf87896-3838-4ab8-ddcc-006d98be1d7e"
   },
   "outputs": [],
   "source": [
    "covid_fips_df.describe()"
   ]
  },
  {
   "cell_type": "code",
   "execution_count": null,
   "metadata": {
    "colab": {
     "base_uri": "https://localhost:8080/",
     "height": 567
    },
    "id": "2EVqdRHY6hpj",
    "outputId": "fc41b7be-50e4-4104-9373-717ec808ad25"
   },
   "outputs": [],
   "source": [
    "plt.rcParams[\"figure.figsize\"] = [16,9]\n",
    "# plotting a scatter plot\n",
    "print(\"Scatter Plot:  \")\n",
    "plt.scatter(covid_fips_df[\"cases_count\"], covid_fips_df[\"state\"])\n",
    "plt.show()"
   ]
  },
  {
   "cell_type": "markdown",
   "metadata": {
    "id": "PHcnlsjA2T52"
   },
   "source": [
    "### Remove special characters from string column"
   ]
  },
  {
   "cell_type": "code",
   "execution_count": null,
   "metadata": {
    "id": "BgdpENv42UUS"
   },
   "outputs": [],
   "source": [
    "### Remove special characters from string column\n",
    "# new_covid_df['county'] = new_covid_df['county'].str.replace('\\W', '', regex=True)\n",
    "# new_covid_df['state'] = new_covid_df['state'].str.replace('\\W', '', regex=True)\n",
    "# new_covid_df['county'].values.tolist()"
   ]
  },
  {
   "cell_type": "markdown",
   "metadata": {
    "id": "feBeavcZObgH"
   },
   "source": [
    "### Exporting the Covid_df for PostgreSql"
   ]
  },
  {
   "cell_type": "code",
   "execution_count": null,
   "metadata": {
    "id": "HRHYeNc3OjHU"
   },
   "outputs": [],
   "source": [
    "# Save as a csv\n",
    "# Note to avoid any issues later, use encoding=\"utf-8\"\n",
    "#covid_fips_df.to_csv(\"posgres_covid_df.csv\", encoding=\"utf-8\", index=False)"
   ]
  },
  {
   "cell_type": "markdown",
   "metadata": {
    "id": "oW448sYRrlgo"
   },
   "source": [
    "## **Conclusions**\n",
    "After exploring your dataset, provide a short summary of what you noticed from this dataset. What would you explore further with more time?"
   ]
  },
  {
   "cell_type": "code",
   "execution_count": null,
   "metadata": {
    "id": "JbDdnmWRzQtu"
   },
   "outputs": [],
   "source": []
  }
 ],
 "metadata": {
  "colab": {
   "collapsed_sections": [
    "NhYRx14fhihC",
    "oqUF4UXvhihC",
    "0GSyikA6hihD",
    "R4WEVZcBhihF",
    "kCSLIafaEGVK",
    "u-2G-BNuOJTR",
    "8nLKXlvzmeHf",
    "pHrw_W2vnRON",
    "us2iNBHnngtn"
   ],
   "provenance": []
  },
  "kernelspec": {
   "display_name": "Python [conda env:PythonAdv]",
   "language": "python",
   "name": "conda-env-PythonAdv-py"
  },
  "language_info": {
   "codemirror_mode": {
    "name": "ipython",
    "version": 3
   },
   "file_extension": ".py",
   "mimetype": "text/x-python",
   "name": "python",
   "nbconvert_exporter": "python",
   "pygments_lexer": "ipython3",
   "version": "3.6.10"
  }
 },
 "nbformat": 4,
 "nbformat_minor": 1
}
