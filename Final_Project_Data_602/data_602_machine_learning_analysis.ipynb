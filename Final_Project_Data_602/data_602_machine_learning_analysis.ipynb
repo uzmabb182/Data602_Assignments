{
  "nbformat": 4,
  "nbformat_minor": 0,
  "metadata": {
    "colab": {
      "provenance": []
    },
    "kernelspec": {
      "name": "python3",
      "display_name": "Python 3"
    },
    "language_info": {
      "name": "python"
    }
  },
  "cells": [
    {
      "cell_type": "code",
      "execution_count": 53,
      "metadata": {
        "id": "G70pZavaVPE6"
      },
      "outputs": [],
      "source": [
        "# core\n",
        "import matplotlib.pyplot as plt\n",
        "import numpy as np\n",
        "import pandas as pd\n",
        "import datetime\n",
        "\n",
        "# ml\n",
        "from sklearn import datasets as ds\n",
        "from sklearn import linear_model as lm\n",
        "from sklearn.neighbors import KNeighborsClassifier as knn\n",
        "from sklearn.model_selection import train_test_split as tts\n",
        "from sklearn.linear_model import LinearRegression\n",
        "\n",
        "from sklearn import preprocessing \n",
        "from sklearn.model_selection import train_test_split\n",
        "from pathlib import Path\n",
        "from sklearn.decomposition import PCA\n",
        "from sklearn.cluster import KMeans\n",
        "import matplotlib.pyplot as plt\n",
        "from sklearn.preprocessing import StandardScaler, MinMaxScaler, LabelEncoder, OneHotEncoder\n",
        "\n",
        "#plotly or other graphing library\n",
        "import plotly.express as px\n",
        "import warnings\n",
        "warnings.filterwarnings('ignore')"
      ]
    },
    {
      "cell_type": "code",
      "source": [
        "csv_path = 'https://raw.githubusercontent.com/uzmabb182/Data602_Assignments/main/Final_Project_Data_602/resources/tableau_modality_df.csv'\n",
        "modality_df = pd.read_csv(csv_path, encoding=\"utf-8\")\n",
        "modality_df"
      ],
      "metadata": {
        "colab": {
          "base_uri": "https://localhost:8080/",
          "height": 424
        },
        "id": "9KL4miVwXBqd",
        "outputId": "4c553dee-f198-401e-ab3f-4eb06c7bd289"
      },
      "execution_count": 54,
      "outputs": [
        {
          "output_type": "execute_result",
          "data": {
            "text/plain": [
              "    learning_modality  year  student_count         state  population  \\\n",
              "0              Hybrid  2021           8033        Alaska      736990   \n",
              "1              Hybrid  2021           5863       Alabama     4893186   \n",
              "2              Hybrid  2021           1354      Arkansas     3011873   \n",
              "3              Hybrid  2021            735       Arizona     7174064   \n",
              "4              Hybrid  2021           3320    California    39346023   \n",
              "..                ...   ...            ...           ...         ...   \n",
              "262            Remote  2022           2135  South Dakota      879336   \n",
              "263            Remote  2022          12263         Texas    28635442   \n",
              "264            Remote  2022            660          Utah     3151239   \n",
              "265            Remote  2022            232    Washington     7512465   \n",
              "266            Remote  2022          57802     Wisconsin     5806975   \n",
              "\n",
              "    abbreviation  student_count_per_10k  \n",
              "0             AK             108.997408  \n",
              "1             AL              11.981968  \n",
              "2             AR               4.495541  \n",
              "3             AZ               1.024524  \n",
              "4             CA               0.843796  \n",
              "..           ...                    ...  \n",
              "262           SD              24.279684  \n",
              "263           TX               4.282455  \n",
              "264           UT               2.094414  \n",
              "265           WA               0.308820  \n",
              "266           WI              99.538917  \n",
              "\n",
              "[267 rows x 7 columns]"
            ],
            "text/html": [
              "\n",
              "  <div id=\"df-a46f3b90-882d-46e7-9403-3f98f9fa113a\">\n",
              "    <div class=\"colab-df-container\">\n",
              "      <div>\n",
              "<style scoped>\n",
              "    .dataframe tbody tr th:only-of-type {\n",
              "        vertical-align: middle;\n",
              "    }\n",
              "\n",
              "    .dataframe tbody tr th {\n",
              "        vertical-align: top;\n",
              "    }\n",
              "\n",
              "    .dataframe thead th {\n",
              "        text-align: right;\n",
              "    }\n",
              "</style>\n",
              "<table border=\"1\" class=\"dataframe\">\n",
              "  <thead>\n",
              "    <tr style=\"text-align: right;\">\n",
              "      <th></th>\n",
              "      <th>learning_modality</th>\n",
              "      <th>year</th>\n",
              "      <th>student_count</th>\n",
              "      <th>state</th>\n",
              "      <th>population</th>\n",
              "      <th>abbreviation</th>\n",
              "      <th>student_count_per_10k</th>\n",
              "    </tr>\n",
              "  </thead>\n",
              "  <tbody>\n",
              "    <tr>\n",
              "      <th>0</th>\n",
              "      <td>Hybrid</td>\n",
              "      <td>2021</td>\n",
              "      <td>8033</td>\n",
              "      <td>Alaska</td>\n",
              "      <td>736990</td>\n",
              "      <td>AK</td>\n",
              "      <td>108.997408</td>\n",
              "    </tr>\n",
              "    <tr>\n",
              "      <th>1</th>\n",
              "      <td>Hybrid</td>\n",
              "      <td>2021</td>\n",
              "      <td>5863</td>\n",
              "      <td>Alabama</td>\n",
              "      <td>4893186</td>\n",
              "      <td>AL</td>\n",
              "      <td>11.981968</td>\n",
              "    </tr>\n",
              "    <tr>\n",
              "      <th>2</th>\n",
              "      <td>Hybrid</td>\n",
              "      <td>2021</td>\n",
              "      <td>1354</td>\n",
              "      <td>Arkansas</td>\n",
              "      <td>3011873</td>\n",
              "      <td>AR</td>\n",
              "      <td>4.495541</td>\n",
              "    </tr>\n",
              "    <tr>\n",
              "      <th>3</th>\n",
              "      <td>Hybrid</td>\n",
              "      <td>2021</td>\n",
              "      <td>735</td>\n",
              "      <td>Arizona</td>\n",
              "      <td>7174064</td>\n",
              "      <td>AZ</td>\n",
              "      <td>1.024524</td>\n",
              "    </tr>\n",
              "    <tr>\n",
              "      <th>4</th>\n",
              "      <td>Hybrid</td>\n",
              "      <td>2021</td>\n",
              "      <td>3320</td>\n",
              "      <td>California</td>\n",
              "      <td>39346023</td>\n",
              "      <td>CA</td>\n",
              "      <td>0.843796</td>\n",
              "    </tr>\n",
              "    <tr>\n",
              "      <th>...</th>\n",
              "      <td>...</td>\n",
              "      <td>...</td>\n",
              "      <td>...</td>\n",
              "      <td>...</td>\n",
              "      <td>...</td>\n",
              "      <td>...</td>\n",
              "      <td>...</td>\n",
              "    </tr>\n",
              "    <tr>\n",
              "      <th>262</th>\n",
              "      <td>Remote</td>\n",
              "      <td>2022</td>\n",
              "      <td>2135</td>\n",
              "      <td>South Dakota</td>\n",
              "      <td>879336</td>\n",
              "      <td>SD</td>\n",
              "      <td>24.279684</td>\n",
              "    </tr>\n",
              "    <tr>\n",
              "      <th>263</th>\n",
              "      <td>Remote</td>\n",
              "      <td>2022</td>\n",
              "      <td>12263</td>\n",
              "      <td>Texas</td>\n",
              "      <td>28635442</td>\n",
              "      <td>TX</td>\n",
              "      <td>4.282455</td>\n",
              "    </tr>\n",
              "    <tr>\n",
              "      <th>264</th>\n",
              "      <td>Remote</td>\n",
              "      <td>2022</td>\n",
              "      <td>660</td>\n",
              "      <td>Utah</td>\n",
              "      <td>3151239</td>\n",
              "      <td>UT</td>\n",
              "      <td>2.094414</td>\n",
              "    </tr>\n",
              "    <tr>\n",
              "      <th>265</th>\n",
              "      <td>Remote</td>\n",
              "      <td>2022</td>\n",
              "      <td>232</td>\n",
              "      <td>Washington</td>\n",
              "      <td>7512465</td>\n",
              "      <td>WA</td>\n",
              "      <td>0.308820</td>\n",
              "    </tr>\n",
              "    <tr>\n",
              "      <th>266</th>\n",
              "      <td>Remote</td>\n",
              "      <td>2022</td>\n",
              "      <td>57802</td>\n",
              "      <td>Wisconsin</td>\n",
              "      <td>5806975</td>\n",
              "      <td>WI</td>\n",
              "      <td>99.538917</td>\n",
              "    </tr>\n",
              "  </tbody>\n",
              "</table>\n",
              "<p>267 rows × 7 columns</p>\n",
              "</div>\n",
              "      <button class=\"colab-df-convert\" onclick=\"convertToInteractive('df-a46f3b90-882d-46e7-9403-3f98f9fa113a')\"\n",
              "              title=\"Convert this dataframe to an interactive table.\"\n",
              "              style=\"display:none;\">\n",
              "        \n",
              "  <svg xmlns=\"http://www.w3.org/2000/svg\" height=\"24px\"viewBox=\"0 0 24 24\"\n",
              "       width=\"24px\">\n",
              "    <path d=\"M0 0h24v24H0V0z\" fill=\"none\"/>\n",
              "    <path d=\"M18.56 5.44l.94 2.06.94-2.06 2.06-.94-2.06-.94-.94-2.06-.94 2.06-2.06.94zm-11 1L8.5 8.5l.94-2.06 2.06-.94-2.06-.94L8.5 2.5l-.94 2.06-2.06.94zm10 10l.94 2.06.94-2.06 2.06-.94-2.06-.94-.94-2.06-.94 2.06-2.06.94z\"/><path d=\"M17.41 7.96l-1.37-1.37c-.4-.4-.92-.59-1.43-.59-.52 0-1.04.2-1.43.59L10.3 9.45l-7.72 7.72c-.78.78-.78 2.05 0 2.83L4 21.41c.39.39.9.59 1.41.59.51 0 1.02-.2 1.41-.59l7.78-7.78 2.81-2.81c.8-.78.8-2.07 0-2.86zM5.41 20L4 18.59l7.72-7.72 1.47 1.35L5.41 20z\"/>\n",
              "  </svg>\n",
              "      </button>\n",
              "      \n",
              "  <style>\n",
              "    .colab-df-container {\n",
              "      display:flex;\n",
              "      flex-wrap:wrap;\n",
              "      gap: 12px;\n",
              "    }\n",
              "\n",
              "    .colab-df-convert {\n",
              "      background-color: #E8F0FE;\n",
              "      border: none;\n",
              "      border-radius: 50%;\n",
              "      cursor: pointer;\n",
              "      display: none;\n",
              "      fill: #1967D2;\n",
              "      height: 32px;\n",
              "      padding: 0 0 0 0;\n",
              "      width: 32px;\n",
              "    }\n",
              "\n",
              "    .colab-df-convert:hover {\n",
              "      background-color: #E2EBFA;\n",
              "      box-shadow: 0px 1px 2px rgba(60, 64, 67, 0.3), 0px 1px 3px 1px rgba(60, 64, 67, 0.15);\n",
              "      fill: #174EA6;\n",
              "    }\n",
              "\n",
              "    [theme=dark] .colab-df-convert {\n",
              "      background-color: #3B4455;\n",
              "      fill: #D2E3FC;\n",
              "    }\n",
              "\n",
              "    [theme=dark] .colab-df-convert:hover {\n",
              "      background-color: #434B5C;\n",
              "      box-shadow: 0px 1px 3px 1px rgba(0, 0, 0, 0.15);\n",
              "      filter: drop-shadow(0px 1px 2px rgba(0, 0, 0, 0.3));\n",
              "      fill: #FFFFFF;\n",
              "    }\n",
              "  </style>\n",
              "\n",
              "      <script>\n",
              "        const buttonEl =\n",
              "          document.querySelector('#df-a46f3b90-882d-46e7-9403-3f98f9fa113a button.colab-df-convert');\n",
              "        buttonEl.style.display =\n",
              "          google.colab.kernel.accessAllowed ? 'block' : 'none';\n",
              "\n",
              "        async function convertToInteractive(key) {\n",
              "          const element = document.querySelector('#df-a46f3b90-882d-46e7-9403-3f98f9fa113a');\n",
              "          const dataTable =\n",
              "            await google.colab.kernel.invokeFunction('convertToInteractive',\n",
              "                                                     [key], {});\n",
              "          if (!dataTable) return;\n",
              "\n",
              "          const docLinkHtml = 'Like what you see? Visit the ' +\n",
              "            '<a target=\"_blank\" href=https://colab.research.google.com/notebooks/data_table.ipynb>data table notebook</a>'\n",
              "            + ' to learn more about interactive tables.';\n",
              "          element.innerHTML = '';\n",
              "          dataTable['output_type'] = 'display_data';\n",
              "          await google.colab.output.renderOutput(dataTable, element);\n",
              "          const docLink = document.createElement('div');\n",
              "          docLink.innerHTML = docLinkHtml;\n",
              "          element.appendChild(docLink);\n",
              "        }\n",
              "      </script>\n",
              "    </div>\n",
              "  </div>\n",
              "  "
            ]
          },
          "metadata": {},
          "execution_count": 54
        }
      ]
    },
    {
      "cell_type": "code",
      "source": [
        "modality_df['learning_modality'].unique()"
      ],
      "metadata": {
        "id": "V51VxELxiqWg",
        "colab": {
          "base_uri": "https://localhost:8080/"
        },
        "outputId": "ab5409b0-7084-4479-a0c0-6b852dd94e33"
      },
      "execution_count": 55,
      "outputs": [
        {
          "output_type": "execute_result",
          "data": {
            "text/plain": [
              "array(['Hybrid', 'In Person', 'Remote'], dtype=object)"
            ]
          },
          "metadata": {},
          "execution_count": 55
        }
      ]
    },
    {
      "cell_type": "code",
      "source": [
        "modality_df.dtypes"
      ],
      "metadata": {
        "colab": {
          "base_uri": "https://localhost:8080/"
        },
        "id": "67sfUcHkhl1i",
        "outputId": "c8b03cf5-949a-4955-f50f-3cda1178e570"
      },
      "execution_count": 56,
      "outputs": [
        {
          "output_type": "execute_result",
          "data": {
            "text/plain": [
              "learning_modality         object\n",
              "year                       int64\n",
              "student_count              int64\n",
              "state                     object\n",
              "population                 int64\n",
              "abbreviation              object\n",
              "student_count_per_10k    float64\n",
              "dtype: object"
            ]
          },
          "metadata": {},
          "execution_count": 56
        }
      ]
    },
    {
      "cell_type": "code",
      "source": [
        "modality_df.loc[modality_df['abbreviation'] == 'NM']"
      ],
      "metadata": {
        "colab": {
          "base_uri": "https://localhost:8080/",
          "height": 238
        },
        "id": "NCTJ3j-SiBSk",
        "outputId": "ef01a346-0ee9-480c-c26e-307daf71df1e"
      },
      "execution_count": 57,
      "outputs": [
        {
          "output_type": "execute_result",
          "data": {
            "text/plain": [
              "    learning_modality  year  student_count       state  population  \\\n",
              "30             Hybrid  2021           1341  New Mexico     2097021   \n",
              "78             Hybrid  2022          11329  New Mexico     2097021   \n",
              "127         In Person  2021           2961  New Mexico     2097021   \n",
              "177         In Person  2022           2684  New Mexico     2097021   \n",
              "216            Remote  2021            760  New Mexico     2097021   \n",
              "255            Remote  2022            276  New Mexico     2097021   \n",
              "\n",
              "    abbreviation  student_count_per_10k  \n",
              "30            NM               6.394786  \n",
              "78            NM              54.024256  \n",
              "127           NM              14.120030  \n",
              "177           NM              12.799109  \n",
              "216           NM               3.624189  \n",
              "255           NM               1.316153  "
            ],
            "text/html": [
              "\n",
              "  <div id=\"df-91cf2bf3-6223-45b0-ad51-610e77a184e9\">\n",
              "    <div class=\"colab-df-container\">\n",
              "      <div>\n",
              "<style scoped>\n",
              "    .dataframe tbody tr th:only-of-type {\n",
              "        vertical-align: middle;\n",
              "    }\n",
              "\n",
              "    .dataframe tbody tr th {\n",
              "        vertical-align: top;\n",
              "    }\n",
              "\n",
              "    .dataframe thead th {\n",
              "        text-align: right;\n",
              "    }\n",
              "</style>\n",
              "<table border=\"1\" class=\"dataframe\">\n",
              "  <thead>\n",
              "    <tr style=\"text-align: right;\">\n",
              "      <th></th>\n",
              "      <th>learning_modality</th>\n",
              "      <th>year</th>\n",
              "      <th>student_count</th>\n",
              "      <th>state</th>\n",
              "      <th>population</th>\n",
              "      <th>abbreviation</th>\n",
              "      <th>student_count_per_10k</th>\n",
              "    </tr>\n",
              "  </thead>\n",
              "  <tbody>\n",
              "    <tr>\n",
              "      <th>30</th>\n",
              "      <td>Hybrid</td>\n",
              "      <td>2021</td>\n",
              "      <td>1341</td>\n",
              "      <td>New Mexico</td>\n",
              "      <td>2097021</td>\n",
              "      <td>NM</td>\n",
              "      <td>6.394786</td>\n",
              "    </tr>\n",
              "    <tr>\n",
              "      <th>78</th>\n",
              "      <td>Hybrid</td>\n",
              "      <td>2022</td>\n",
              "      <td>11329</td>\n",
              "      <td>New Mexico</td>\n",
              "      <td>2097021</td>\n",
              "      <td>NM</td>\n",
              "      <td>54.024256</td>\n",
              "    </tr>\n",
              "    <tr>\n",
              "      <th>127</th>\n",
              "      <td>In Person</td>\n",
              "      <td>2021</td>\n",
              "      <td>2961</td>\n",
              "      <td>New Mexico</td>\n",
              "      <td>2097021</td>\n",
              "      <td>NM</td>\n",
              "      <td>14.120030</td>\n",
              "    </tr>\n",
              "    <tr>\n",
              "      <th>177</th>\n",
              "      <td>In Person</td>\n",
              "      <td>2022</td>\n",
              "      <td>2684</td>\n",
              "      <td>New Mexico</td>\n",
              "      <td>2097021</td>\n",
              "      <td>NM</td>\n",
              "      <td>12.799109</td>\n",
              "    </tr>\n",
              "    <tr>\n",
              "      <th>216</th>\n",
              "      <td>Remote</td>\n",
              "      <td>2021</td>\n",
              "      <td>760</td>\n",
              "      <td>New Mexico</td>\n",
              "      <td>2097021</td>\n",
              "      <td>NM</td>\n",
              "      <td>3.624189</td>\n",
              "    </tr>\n",
              "    <tr>\n",
              "      <th>255</th>\n",
              "      <td>Remote</td>\n",
              "      <td>2022</td>\n",
              "      <td>276</td>\n",
              "      <td>New Mexico</td>\n",
              "      <td>2097021</td>\n",
              "      <td>NM</td>\n",
              "      <td>1.316153</td>\n",
              "    </tr>\n",
              "  </tbody>\n",
              "</table>\n",
              "</div>\n",
              "      <button class=\"colab-df-convert\" onclick=\"convertToInteractive('df-91cf2bf3-6223-45b0-ad51-610e77a184e9')\"\n",
              "              title=\"Convert this dataframe to an interactive table.\"\n",
              "              style=\"display:none;\">\n",
              "        \n",
              "  <svg xmlns=\"http://www.w3.org/2000/svg\" height=\"24px\"viewBox=\"0 0 24 24\"\n",
              "       width=\"24px\">\n",
              "    <path d=\"M0 0h24v24H0V0z\" fill=\"none\"/>\n",
              "    <path d=\"M18.56 5.44l.94 2.06.94-2.06 2.06-.94-2.06-.94-.94-2.06-.94 2.06-2.06.94zm-11 1L8.5 8.5l.94-2.06 2.06-.94-2.06-.94L8.5 2.5l-.94 2.06-2.06.94zm10 10l.94 2.06.94-2.06 2.06-.94-2.06-.94-.94-2.06-.94 2.06-2.06.94z\"/><path d=\"M17.41 7.96l-1.37-1.37c-.4-.4-.92-.59-1.43-.59-.52 0-1.04.2-1.43.59L10.3 9.45l-7.72 7.72c-.78.78-.78 2.05 0 2.83L4 21.41c.39.39.9.59 1.41.59.51 0 1.02-.2 1.41-.59l7.78-7.78 2.81-2.81c.8-.78.8-2.07 0-2.86zM5.41 20L4 18.59l7.72-7.72 1.47 1.35L5.41 20z\"/>\n",
              "  </svg>\n",
              "      </button>\n",
              "      \n",
              "  <style>\n",
              "    .colab-df-container {\n",
              "      display:flex;\n",
              "      flex-wrap:wrap;\n",
              "      gap: 12px;\n",
              "    }\n",
              "\n",
              "    .colab-df-convert {\n",
              "      background-color: #E8F0FE;\n",
              "      border: none;\n",
              "      border-radius: 50%;\n",
              "      cursor: pointer;\n",
              "      display: none;\n",
              "      fill: #1967D2;\n",
              "      height: 32px;\n",
              "      padding: 0 0 0 0;\n",
              "      width: 32px;\n",
              "    }\n",
              "\n",
              "    .colab-df-convert:hover {\n",
              "      background-color: #E2EBFA;\n",
              "      box-shadow: 0px 1px 2px rgba(60, 64, 67, 0.3), 0px 1px 3px 1px rgba(60, 64, 67, 0.15);\n",
              "      fill: #174EA6;\n",
              "    }\n",
              "\n",
              "    [theme=dark] .colab-df-convert {\n",
              "      background-color: #3B4455;\n",
              "      fill: #D2E3FC;\n",
              "    }\n",
              "\n",
              "    [theme=dark] .colab-df-convert:hover {\n",
              "      background-color: #434B5C;\n",
              "      box-shadow: 0px 1px 3px 1px rgba(0, 0, 0, 0.15);\n",
              "      filter: drop-shadow(0px 1px 2px rgba(0, 0, 0, 0.3));\n",
              "      fill: #FFFFFF;\n",
              "    }\n",
              "  </style>\n",
              "\n",
              "      <script>\n",
              "        const buttonEl =\n",
              "          document.querySelector('#df-91cf2bf3-6223-45b0-ad51-610e77a184e9 button.colab-df-convert');\n",
              "        buttonEl.style.display =\n",
              "          google.colab.kernel.accessAllowed ? 'block' : 'none';\n",
              "\n",
              "        async function convertToInteractive(key) {\n",
              "          const element = document.querySelector('#df-91cf2bf3-6223-45b0-ad51-610e77a184e9');\n",
              "          const dataTable =\n",
              "            await google.colab.kernel.invokeFunction('convertToInteractive',\n",
              "                                                     [key], {});\n",
              "          if (!dataTable) return;\n",
              "\n",
              "          const docLinkHtml = 'Like what you see? Visit the ' +\n",
              "            '<a target=\"_blank\" href=https://colab.research.google.com/notebooks/data_table.ipynb>data table notebook</a>'\n",
              "            + ' to learn more about interactive tables.';\n",
              "          element.innerHTML = '';\n",
              "          dataTable['output_type'] = 'display_data';\n",
              "          await google.colab.output.renderOutput(dataTable, element);\n",
              "          const docLink = document.createElement('div');\n",
              "          docLink.innerHTML = docLinkHtml;\n",
              "          element.appendChild(docLink);\n",
              "        }\n",
              "      </script>\n",
              "    </div>\n",
              "  </div>\n",
              "  "
            ]
          },
          "metadata": {},
          "execution_count": 57
        }
      ]
    },
    {
      "cell_type": "code",
      "source": [
        "# Remove column name 'abbreviation'\n",
        "modality_df = modality_df.drop(['abbreviation'], axis=1)\n",
        "modality_df"
      ],
      "metadata": {
        "colab": {
          "base_uri": "https://localhost:8080/",
          "height": 424
        },
        "id": "CQ3yLvtTiWh0",
        "outputId": "5ca95ec8-613c-4a1d-ac96-acbf30a32467"
      },
      "execution_count": 58,
      "outputs": [
        {
          "output_type": "execute_result",
          "data": {
            "text/plain": [
              "    learning_modality  year  student_count         state  population  \\\n",
              "0              Hybrid  2021           8033        Alaska      736990   \n",
              "1              Hybrid  2021           5863       Alabama     4893186   \n",
              "2              Hybrid  2021           1354      Arkansas     3011873   \n",
              "3              Hybrid  2021            735       Arizona     7174064   \n",
              "4              Hybrid  2021           3320    California    39346023   \n",
              "..                ...   ...            ...           ...         ...   \n",
              "262            Remote  2022           2135  South Dakota      879336   \n",
              "263            Remote  2022          12263         Texas    28635442   \n",
              "264            Remote  2022            660          Utah     3151239   \n",
              "265            Remote  2022            232    Washington     7512465   \n",
              "266            Remote  2022          57802     Wisconsin     5806975   \n",
              "\n",
              "     student_count_per_10k  \n",
              "0               108.997408  \n",
              "1                11.981968  \n",
              "2                 4.495541  \n",
              "3                 1.024524  \n",
              "4                 0.843796  \n",
              "..                     ...  \n",
              "262              24.279684  \n",
              "263               4.282455  \n",
              "264               2.094414  \n",
              "265               0.308820  \n",
              "266              99.538917  \n",
              "\n",
              "[267 rows x 6 columns]"
            ],
            "text/html": [
              "\n",
              "  <div id=\"df-75ff0cf0-6a76-4174-a3b8-05a3fd8625de\">\n",
              "    <div class=\"colab-df-container\">\n",
              "      <div>\n",
              "<style scoped>\n",
              "    .dataframe tbody tr th:only-of-type {\n",
              "        vertical-align: middle;\n",
              "    }\n",
              "\n",
              "    .dataframe tbody tr th {\n",
              "        vertical-align: top;\n",
              "    }\n",
              "\n",
              "    .dataframe thead th {\n",
              "        text-align: right;\n",
              "    }\n",
              "</style>\n",
              "<table border=\"1\" class=\"dataframe\">\n",
              "  <thead>\n",
              "    <tr style=\"text-align: right;\">\n",
              "      <th></th>\n",
              "      <th>learning_modality</th>\n",
              "      <th>year</th>\n",
              "      <th>student_count</th>\n",
              "      <th>state</th>\n",
              "      <th>population</th>\n",
              "      <th>student_count_per_10k</th>\n",
              "    </tr>\n",
              "  </thead>\n",
              "  <tbody>\n",
              "    <tr>\n",
              "      <th>0</th>\n",
              "      <td>Hybrid</td>\n",
              "      <td>2021</td>\n",
              "      <td>8033</td>\n",
              "      <td>Alaska</td>\n",
              "      <td>736990</td>\n",
              "      <td>108.997408</td>\n",
              "    </tr>\n",
              "    <tr>\n",
              "      <th>1</th>\n",
              "      <td>Hybrid</td>\n",
              "      <td>2021</td>\n",
              "      <td>5863</td>\n",
              "      <td>Alabama</td>\n",
              "      <td>4893186</td>\n",
              "      <td>11.981968</td>\n",
              "    </tr>\n",
              "    <tr>\n",
              "      <th>2</th>\n",
              "      <td>Hybrid</td>\n",
              "      <td>2021</td>\n",
              "      <td>1354</td>\n",
              "      <td>Arkansas</td>\n",
              "      <td>3011873</td>\n",
              "      <td>4.495541</td>\n",
              "    </tr>\n",
              "    <tr>\n",
              "      <th>3</th>\n",
              "      <td>Hybrid</td>\n",
              "      <td>2021</td>\n",
              "      <td>735</td>\n",
              "      <td>Arizona</td>\n",
              "      <td>7174064</td>\n",
              "      <td>1.024524</td>\n",
              "    </tr>\n",
              "    <tr>\n",
              "      <th>4</th>\n",
              "      <td>Hybrid</td>\n",
              "      <td>2021</td>\n",
              "      <td>3320</td>\n",
              "      <td>California</td>\n",
              "      <td>39346023</td>\n",
              "      <td>0.843796</td>\n",
              "    </tr>\n",
              "    <tr>\n",
              "      <th>...</th>\n",
              "      <td>...</td>\n",
              "      <td>...</td>\n",
              "      <td>...</td>\n",
              "      <td>...</td>\n",
              "      <td>...</td>\n",
              "      <td>...</td>\n",
              "    </tr>\n",
              "    <tr>\n",
              "      <th>262</th>\n",
              "      <td>Remote</td>\n",
              "      <td>2022</td>\n",
              "      <td>2135</td>\n",
              "      <td>South Dakota</td>\n",
              "      <td>879336</td>\n",
              "      <td>24.279684</td>\n",
              "    </tr>\n",
              "    <tr>\n",
              "      <th>263</th>\n",
              "      <td>Remote</td>\n",
              "      <td>2022</td>\n",
              "      <td>12263</td>\n",
              "      <td>Texas</td>\n",
              "      <td>28635442</td>\n",
              "      <td>4.282455</td>\n",
              "    </tr>\n",
              "    <tr>\n",
              "      <th>264</th>\n",
              "      <td>Remote</td>\n",
              "      <td>2022</td>\n",
              "      <td>660</td>\n",
              "      <td>Utah</td>\n",
              "      <td>3151239</td>\n",
              "      <td>2.094414</td>\n",
              "    </tr>\n",
              "    <tr>\n",
              "      <th>265</th>\n",
              "      <td>Remote</td>\n",
              "      <td>2022</td>\n",
              "      <td>232</td>\n",
              "      <td>Washington</td>\n",
              "      <td>7512465</td>\n",
              "      <td>0.308820</td>\n",
              "    </tr>\n",
              "    <tr>\n",
              "      <th>266</th>\n",
              "      <td>Remote</td>\n",
              "      <td>2022</td>\n",
              "      <td>57802</td>\n",
              "      <td>Wisconsin</td>\n",
              "      <td>5806975</td>\n",
              "      <td>99.538917</td>\n",
              "    </tr>\n",
              "  </tbody>\n",
              "</table>\n",
              "<p>267 rows × 6 columns</p>\n",
              "</div>\n",
              "      <button class=\"colab-df-convert\" onclick=\"convertToInteractive('df-75ff0cf0-6a76-4174-a3b8-05a3fd8625de')\"\n",
              "              title=\"Convert this dataframe to an interactive table.\"\n",
              "              style=\"display:none;\">\n",
              "        \n",
              "  <svg xmlns=\"http://www.w3.org/2000/svg\" height=\"24px\"viewBox=\"0 0 24 24\"\n",
              "       width=\"24px\">\n",
              "    <path d=\"M0 0h24v24H0V0z\" fill=\"none\"/>\n",
              "    <path d=\"M18.56 5.44l.94 2.06.94-2.06 2.06-.94-2.06-.94-.94-2.06-.94 2.06-2.06.94zm-11 1L8.5 8.5l.94-2.06 2.06-.94-2.06-.94L8.5 2.5l-.94 2.06-2.06.94zm10 10l.94 2.06.94-2.06 2.06-.94-2.06-.94-.94-2.06-.94 2.06-2.06.94z\"/><path d=\"M17.41 7.96l-1.37-1.37c-.4-.4-.92-.59-1.43-.59-.52 0-1.04.2-1.43.59L10.3 9.45l-7.72 7.72c-.78.78-.78 2.05 0 2.83L4 21.41c.39.39.9.59 1.41.59.51 0 1.02-.2 1.41-.59l7.78-7.78 2.81-2.81c.8-.78.8-2.07 0-2.86zM5.41 20L4 18.59l7.72-7.72 1.47 1.35L5.41 20z\"/>\n",
              "  </svg>\n",
              "      </button>\n",
              "      \n",
              "  <style>\n",
              "    .colab-df-container {\n",
              "      display:flex;\n",
              "      flex-wrap:wrap;\n",
              "      gap: 12px;\n",
              "    }\n",
              "\n",
              "    .colab-df-convert {\n",
              "      background-color: #E8F0FE;\n",
              "      border: none;\n",
              "      border-radius: 50%;\n",
              "      cursor: pointer;\n",
              "      display: none;\n",
              "      fill: #1967D2;\n",
              "      height: 32px;\n",
              "      padding: 0 0 0 0;\n",
              "      width: 32px;\n",
              "    }\n",
              "\n",
              "    .colab-df-convert:hover {\n",
              "      background-color: #E2EBFA;\n",
              "      box-shadow: 0px 1px 2px rgba(60, 64, 67, 0.3), 0px 1px 3px 1px rgba(60, 64, 67, 0.15);\n",
              "      fill: #174EA6;\n",
              "    }\n",
              "\n",
              "    [theme=dark] .colab-df-convert {\n",
              "      background-color: #3B4455;\n",
              "      fill: #D2E3FC;\n",
              "    }\n",
              "\n",
              "    [theme=dark] .colab-df-convert:hover {\n",
              "      background-color: #434B5C;\n",
              "      box-shadow: 0px 1px 3px 1px rgba(0, 0, 0, 0.15);\n",
              "      filter: drop-shadow(0px 1px 2px rgba(0, 0, 0, 0.3));\n",
              "      fill: #FFFFFF;\n",
              "    }\n",
              "  </style>\n",
              "\n",
              "      <script>\n",
              "        const buttonEl =\n",
              "          document.querySelector('#df-75ff0cf0-6a76-4174-a3b8-05a3fd8625de button.colab-df-convert');\n",
              "        buttonEl.style.display =\n",
              "          google.colab.kernel.accessAllowed ? 'block' : 'none';\n",
              "\n",
              "        async function convertToInteractive(key) {\n",
              "          const element = document.querySelector('#df-75ff0cf0-6a76-4174-a3b8-05a3fd8625de');\n",
              "          const dataTable =\n",
              "            await google.colab.kernel.invokeFunction('convertToInteractive',\n",
              "                                                     [key], {});\n",
              "          if (!dataTable) return;\n",
              "\n",
              "          const docLinkHtml = 'Like what you see? Visit the ' +\n",
              "            '<a target=\"_blank\" href=https://colab.research.google.com/notebooks/data_table.ipynb>data table notebook</a>'\n",
              "            + ' to learn more about interactive tables.';\n",
              "          element.innerHTML = '';\n",
              "          dataTable['output_type'] = 'display_data';\n",
              "          await google.colab.output.renderOutput(dataTable, element);\n",
              "          const docLink = document.createElement('div');\n",
              "          docLink.innerHTML = docLinkHtml;\n",
              "          element.appendChild(docLink);\n",
              "        }\n",
              "      </script>\n",
              "    </div>\n",
              "  </div>\n",
              "  "
            ]
          },
          "metadata": {},
          "execution_count": 58
        }
      ]
    },
    {
      "cell_type": "code",
      "source": [
        "# Checking the missing data\n",
        "modality_df.isna().sum().sort_values()"
      ],
      "metadata": {
        "colab": {
          "base_uri": "https://localhost:8080/"
        },
        "id": "OunYoMqa8di1",
        "outputId": "17687a5e-6062-4cff-f6a3-039be540014c"
      },
      "execution_count": 59,
      "outputs": [
        {
          "output_type": "execute_result",
          "data": {
            "text/plain": [
              "learning_modality        0\n",
              "year                     0\n",
              "student_count            0\n",
              "state                    0\n",
              "population               0\n",
              "student_count_per_10k    0\n",
              "dtype: int64"
            ]
          },
          "metadata": {},
          "execution_count": 59
        }
      ]
    },
    {
      "cell_type": "code",
      "source": [
        "from sklearn.preprocessing import LabelEncoder\n",
        "le_learning_modality = LabelEncoder()\n",
        "modality_df['learning_modality'] = le_learning_modality.fit_transform(modality_df['learning_modality'])\n",
        "modality_df['learning_modality'].unique()"
      ],
      "metadata": {
        "colab": {
          "base_uri": "https://localhost:8080/"
        },
        "id": "I7UZ7-_13BpE",
        "outputId": "0cc26f30-4e8c-4c0a-c252-85a7daf6d003"
      },
      "execution_count": 60,
      "outputs": [
        {
          "output_type": "execute_result",
          "data": {
            "text/plain": [
              "array([0, 1, 2])"
            ]
          },
          "metadata": {},
          "execution_count": 60
        }
      ]
    },
    {
      "cell_type": "code",
      "source": [
        "\n",
        "le_learning_modality = LabelEncoder()\n",
        "modality_df['state'] = le_learning_modality.fit_transform(modality_df['state'])\n",
        "modality_df['state'].unique()"
      ],
      "metadata": {
        "colab": {
          "base_uri": "https://localhost:8080/"
        },
        "id": "azNoVetR4XV3",
        "outputId": "a5f79510-e2d3-42db-c7df-f1fc3a52d367"
      },
      "execution_count": 61,
      "outputs": [
        {
          "output_type": "execute_result",
          "data": {
            "text/plain": [
              "array([ 1,  0,  3,  2,  4,  5,  6,  8,  7,  9, 10, 14, 11, 12, 13, 15, 16,\n",
              "       17, 20, 19, 18, 21, 22, 24, 23, 25, 32, 26, 28, 29, 30, 27, 31, 34,\n",
              "       35, 36, 37, 38, 39, 40, 41, 42, 43, 45, 44, 46, 48, 47, 33, 49])"
            ]
          },
          "metadata": {},
          "execution_count": 61
        }
      ]
    },
    {
      "cell_type": "code",
      "source": [
        "# Scaling in scikit-learn\n",
        "from sklearn.preprocessing import StandardScaler\n",
        "\n",
        "X = modality_df.drop('learning_modality', axis=1).values\n",
        "y = modality_df['learning_modality'].values\n",
        "\n",
        "X_train, X_test, y_train, y_test = train_test_split(X, y, test_size=0.2, random_state=42)\n",
        "\n",
        "scaler = StandardScaler()\n",
        "\n",
        "X_train_scaled = scaler.fit_transform(X_train)\n",
        "X_test_scaled = scaler.fit_transform(X_test)\n",
        "\n",
        "print(np.mean(X), np.std(X))\n",
        "print(np.mean(X_train_scaled), np.std(X_train_scaled))"
      ],
      "metadata": {
        "colab": {
          "base_uri": "https://localhost:8080/"
        },
        "id": "gyMssnkF40S0",
        "outputId": "3ab5041f-f999-4742-d6f3-56fee752ce3e"
      },
      "execution_count": 62,
      "outputs": [
        {
          "output_type": "stream",
          "name": "stdout",
          "text": [
            "1363490.8221557988 4280229.36741213\n",
            "-8.936826239912247e-15 0.9999999999999996\n"
          ]
        }
      ]
    },
    {
      "cell_type": "code",
      "source": [
        "print(X.shape, y.shape)\n",
        "\n"
      ],
      "metadata": {
        "colab": {
          "base_uri": "https://localhost:8080/"
        },
        "id": "pQTSYP86FOEN",
        "outputId": "f9426c94-8c6d-41f7-abb6-56ca0e4454c8"
      },
      "execution_count": 63,
      "outputs": [
        {
          "output_type": "stream",
          "name": "stdout",
          "text": [
            "(267, 5) (267,)\n"
          ]
        }
      ]
    },
    {
      "cell_type": "code",
      "source": [
        "from sklearn.neighbors import KNeighborsClassifier\n",
        "knn = KNeighborsClassifier(n_neighbors=6)\n"
      ],
      "metadata": {
        "id": "I7WZlMwhKU_I"
      },
      "execution_count": 64,
      "outputs": []
    },
    {
      "cell_type": "code",
      "source": [
        "# Scaling in a pipeline\n",
        "from sklearn.pipeline import Pipeline\n",
        "\n",
        "steps = [('scaler', StandardScaler()),\n",
        "         ('knn', KNeighborsClassifier(n_neighbors=6))]\n",
        "\n",
        "pipeline = Pipeline(steps)\n",
        "\n",
        "X_train, X_test, y_train, y_test = train_test_split(X, y, test_size=0.2, random_state=21)\n",
        "\n",
        "knn_scaled = pipeline.fit(X_train, y_train)\n",
        "y_pred = knn_scaled.predict(X_test)\n",
        "print(y_pred)\n",
        "print(knn_scaled.score(X_test, y_test))\n"
      ],
      "metadata": {
        "colab": {
          "base_uri": "https://localhost:8080/"
        },
        "id": "oFTqEj5XLG23",
        "outputId": "d79c114c-386c-4e5d-8bd2-8091d04c4e8d"
      },
      "execution_count": 65,
      "outputs": [
        {
          "output_type": "stream",
          "name": "stdout",
          "text": [
            "[0 1 0 0 2 0 1 1 1 0 0 1 0 0 1 2 0 0 0 2 2 0 1 0 0 1 1 0 0 2 0 1 0 2 1 1 0\n",
            " 1 0 1 2 0 0 1 0 0 0 0 0 2 2 1 1 2]\n",
            "0.2777777777777778\n"
          ]
        }
      ]
    },
    {
      "cell_type": "code",
      "source": [],
      "metadata": {
        "id": "eCJ9ogk9OEcf"
      },
      "execution_count": 65,
      "outputs": []
    },
    {
      "cell_type": "code",
      "source": [
        "# Comparing the performance using the unscaled data\n",
        "\n",
        "X_train, X_test, y_train, y_test = train_test_split(X, y, test_size=0.2, random_state=21)\n",
        "\n",
        "knn_unscaled = KNeighborsClassifier(n_neighbors=6).fit(X_train, y_train)\n",
        "print(knn_unscaled.score(X_test, y_test))"
      ],
      "metadata": {
        "colab": {
          "base_uri": "https://localhost:8080/"
        },
        "id": "nVX2KC0eOTEN",
        "outputId": "b99c9b9b-ad7f-43d9-a81f-2bf7a5b96c23"
      },
      "execution_count": 66,
      "outputs": [
        {
          "output_type": "stream",
          "name": "stdout",
          "text": [
            "0.2037037037037037\n"
          ]
        }
      ]
    },
    {
      "cell_type": "code",
      "source": [
        "# Cross Validation and Scaling in a Pipeline\n",
        "\n",
        "from sklearn.model_selection import GridSearchCV\n",
        "\n",
        "steps = [('scaler', StandardScaler()),\n",
        "         ('knn', KNeighborsClassifier())]\n",
        "\n",
        "pipeline = Pipeline(steps)\n",
        "\n",
        "parameters = {\"knn__n_neighbors\": np.arange(1, 50)}\n",
        "\n",
        "X_train, X_test, y_train, y_test = train_test_split(X, y, test_size=0.2, random_state=21)\n",
        "\n",
        "cv = GridSearchCV(pipeline, param_grid=parameters)\n",
        "cv.fit(X_train, y_train)\n",
        "\n",
        "y_pred = cv.predict(X_test)\n",
        "print(y_pred)"
      ],
      "metadata": {
        "colab": {
          "base_uri": "https://localhost:8080/"
        },
        "id": "XQKVFMb0QIGl",
        "outputId": "182936f8-bc55-43e5-f504-790928dc2da4"
      },
      "execution_count": 67,
      "outputs": [
        {
          "output_type": "stream",
          "name": "stdout",
          "text": [
            "[1 1 2 1 0 1 1 1 1 0 1 1 0 0 2 1 1 2 0 2 1 0 1 0 0 1 1 0 1 1 0 1 0 1 0 1 2\n",
            " 1 1 0 2 0 0 1 2 1 0 0 1 2 1 1 1 1]\n"
          ]
        }
      ]
    },
    {
      "cell_type": "code",
      "source": [
        "# Checking Model Parameters\n",
        "# value for K\n",
        "print(cv.best_score_)\n",
        "print(cv.best_params_)"
      ],
      "metadata": {
        "colab": {
          "base_uri": "https://localhost:8080/"
        },
        "id": "IsoYYAnfSA0q",
        "outputId": "d24d6216-3167-49ae-cda4-5d3704405089"
      },
      "execution_count": 68,
      "outputs": [
        {
          "output_type": "stream",
          "name": "stdout",
          "text": [
            "0.35758582502768554\n",
            "{'knn__n_neighbors': 21}\n"
          ]
        }
      ]
    },
    {
      "cell_type": "markdown",
      "source": [
        "### Model Complexity Curve and over/underfitting\n",
        "### To plot test accuracy and train accuracy Vs K value."
      ],
      "metadata": {
        "id": "9frLu2FUr8Te"
      }
    },
    {
      "cell_type": "code",
      "source": [
        "# To plot test accuracy and train accuracy Vs K value.\n",
        "p = list(range(1, 31))\n",
        "lst_test =[]\n",
        "lst_train =[]\n",
        "for i in p:\n",
        "    knn = KNeighborsClassifier(n_neighbors = i)\n",
        "    knn.fit(X_train, y_train)\n",
        "    z = knn.score(X_test, y_test)\n",
        "    t = knn.score(X_train, y_train)\n",
        "    lst_test.append(z)\n",
        "    lst_train.append(t)\n",
        "      \n",
        "plt.plot(p, lst_test, color ='red', label ='Test Accuracy')\n",
        "plt.plot(p, lst_train, color ='b', label ='Train Accuracy')\n",
        "plt.xlabel('K VALUES --->')\n",
        "plt.title('FINDING BEST VALUE FOR K (Number of Neighbors')\n",
        "plt.legend()\n"
      ],
      "metadata": {
        "colab": {
          "base_uri": "https://localhost:8080/",
          "height": 312
        },
        "id": "4Rax6TAPYiay",
        "outputId": "b09409b8-813a-41f2-fbc2-0ec662218e59"
      },
      "execution_count": 69,
      "outputs": [
        {
          "output_type": "execute_result",
          "data": {
            "text/plain": [
              "<matplotlib.legend.Legend at 0x7fb7c7854a90>"
            ]
          },
          "metadata": {},
          "execution_count": 69
        },
        {
          "output_type": "display_data",
          "data": {
            "text/plain": [
              "<Figure size 432x288 with 1 Axes>"
            ],
            "image/png": "[encoded data removed]"
          },
          "metadata": {
            "needs_background": "light"
          }
        }
      ]
    },
    {
      "cell_type": "markdown",
      "source": [
        "### **Evaluating Classification Models**"
      ],
      "metadata": {
        "id": "-Ejh2lbauAla"
      }
    },
    {
      "cell_type": "code",
      "source": [
        "import matplotlib.pyplot as plt\n",
        "from sklearn.preprocessing import StandardScaler\n",
        "from sklearn.model_selection import cross_val_score, KFold, train_test_split\n",
        "from sklearn.neighbors import KNeighborsClassifier\n",
        "from sklearn.linear_model import LogisticRegression\n",
        "from sklearn.tree import DecisionTreeClassifier\n",
        "\n",
        "X = modality_df.drop('learning_modality', axis=1).values\n",
        "y = modality_df['learning_modality'].values\n",
        "\n",
        "X_train, X_test, y_train, y_test = train_test_split(X, y, test_size=0.2, random_state=42)\n",
        "\n",
        "scaler = StandardScaler()\n",
        "\n",
        "X_train_scaled = scaler.fit_transform(X_train)\n",
        "X_test_scaled = scaler.fit_transform(X_test)\n"
      ],
      "metadata": {
        "id": "H8k9nTm1tZ3W"
      },
      "execution_count": 70,
      "outputs": []
    },
    {
      "cell_type": "code",
      "source": [
        "models = {\"Logistic Regression\": LogisticRegression(), \"KNN\": KNeighborsClassifier(), \n",
        "          \"Decision Tree\": DecisionTreeClassifier()}\n",
        "\n",
        "results = []\n",
        "\n",
        "for model in models.values():\n",
        "  kf = KFold(n_splits=6, random_state=42, shuffle=True)\n",
        "  cv_results = cross_val_score(model, X_train_scaled, y_train, cv=kf)\n",
        "  results.append(cv_results)\n",
        "plt.boxplot(results, labels=models.keys())\n",
        "plt.show()"
      ],
      "metadata": {
        "colab": {
          "base_uri": "https://localhost:8080/",
          "height": 265
        },
        "id": "SYxp8pfTyzYB",
        "outputId": "54b18379-9af3-473a-8cdc-aaf515bf9af3"
      },
      "execution_count": 71,
      "outputs": [
        {
          "output_type": "display_data",
          "data": {
            "text/plain": [
              "<Figure size 432x288 with 1 Axes>"
            ],
            "image/png": "[encoded data removed]"
          },
          "metadata": {
            "needs_background": "light"
          }
        }
      ]
    },
    {
      "cell_type": "code",
      "source": [],
      "metadata": {
        "id": "KKPqenIU2AXI"
      },
      "execution_count": 71,
      "outputs": []
    },
    {
      "cell_type": "markdown",
      "source": [
        "### **Test Set Performance**"
      ],
      "metadata": {
        "id": "58vxW9eB0pEa"
      }
    },
    {
      "cell_type": "code",
      "source": [
        "for name, model in models.items():\n",
        "  model.fit(X_train_scaled, y_train)\n",
        "  test_score = model.score(X_test_scaled, y_test)\n",
        "  print(\"{} Test Set Accuracy: {}\".format(name, test_score))"
      ],
      "metadata": {
        "colab": {
          "base_uri": "https://localhost:8080/"
        },
        "id": "Eo5wOp240vnr",
        "outputId": "7a4fb2c3-0e6c-40dc-a677-ef0cbac11185"
      },
      "execution_count": 73,
      "outputs": [
        {
          "output_type": "stream",
          "name": "stdout",
          "text": [
            "Logistic Regression Test Set Accuracy: 0.5\n",
            "KNN Test Set Accuracy: 0.2037037037037037\n",
            "Decision Tree Test Set Accuracy: 0.3888888888888889\n"
          ]
        }
      ]
    }
  ]
}