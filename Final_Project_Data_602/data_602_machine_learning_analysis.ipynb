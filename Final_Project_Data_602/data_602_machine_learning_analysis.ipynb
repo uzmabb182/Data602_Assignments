{
  "nbformat": 4,
  "nbformat_minor": 0,
  "metadata": {
    "colab": {
      "provenance": []
    },
    "kernelspec": {
      "name": "python3",
      "display_name": "Python 3"
    },
    "language_info": {
      "name": "python"
    }
  },
  "cells": [
    {
      "cell_type": "code",
      "execution_count": 65,
      "metadata": {
        "id": "G70pZavaVPE6"
      },
      "outputs": [],
      "source": [
        "# core\n",
        "import matplotlib.pyplot as plt\n",
        "import numpy as np\n",
        "import pandas as pd\n",
        "import datetime\n",
        "\n",
        "# ml\n",
        "from sklearn import datasets as ds\n",
        "from sklearn import linear_model as lm\n",
        "from sklearn.neighbors import KNeighborsClassifier as knn\n",
        "from sklearn.model_selection import train_test_split as tts\n",
        "from sklearn.linear_model import LinearRegression\n",
        "\n",
        "from sklearn import preprocessing \n",
        "from sklearn.model_selection import train_test_split\n",
        "from pathlib import Path\n",
        "from sklearn.decomposition import PCA\n",
        "from sklearn.cluster import KMeans\n",
        "import matplotlib.pyplot as plt\n",
        "from sklearn.preprocessing import StandardScaler, MinMaxScaler, LabelEncoder, OneHotEncoder\n",
        "\n",
        "#plotly or other graphing library\n",
        "import plotly.express as px\n",
        "import warnings\n",
        "warnings.filterwarnings('ignore')"
      ]
    },
    {
      "cell_type": "code",
      "source": [
        "csv_path = 'https://raw.githubusercontent.com/uzmabb182/Data602_Assignments/main/Final_Project_Data_602/resources/posgres_modality_df.csv'\n",
        "modality_df = pd.read_csv(csv_path, encoding=\"utf-8\")\n",
        "modality_df"
      ],
      "metadata": {
        "colab": {
          "base_uri": "https://localhost:8080/",
          "height": 424
        },
        "id": "9KL4miVwXBqd",
        "outputId": "cd86e6fd-fb0d-4129-e299-188f22a9eaa1"
      },
      "execution_count": 66,
      "outputs": [
        {
          "output_type": "execute_result",
          "data": {
            "text/plain": [
              "            countyname   fips learning_modality           state abbreviation  \\\n",
              "0     Abbeville County  45001            Hybrid  South Carolina           SC   \n",
              "1     Abbeville County  45001         In Person  South Carolina           SC   \n",
              "2     Abbeville County  45001         In Person  South Carolina           SC   \n",
              "3        Acadia Parish  22001         In Person       Louisiana           LA   \n",
              "4        Acadia Parish  22001         In Person       Louisiana           LA   \n",
              "...                ...    ...               ...             ...          ...   \n",
              "8496     Zapata County  48505         In Person           Texas           TX   \n",
              "8497     Zapata County  48505         In Person           Texas           TX   \n",
              "8498     Zavala County  48507         In Person           Texas           TX   \n",
              "8499     Zavala County  48507         In Person           Texas           TX   \n",
              "8500    Ziebach County  46137         In Person    South Dakota           SD   \n",
              "\n",
              "      year  avg_student_count  \n",
              "0     2022               5945  \n",
              "1     2021               3828  \n",
              "2     2022               3837  \n",
              "3     2021               7722  \n",
              "4     2022               7722  \n",
              "...    ...                ...  \n",
              "8496  2021               3549  \n",
              "8497  2022               3549  \n",
              "8498  2021               1209  \n",
              "8499  2022               1209  \n",
              "8500  2022                396  \n",
              "\n",
              "[8501 rows x 7 columns]"
            ],
            "text/html": [
              "\n",
              "  <div id=\"df-09823692-1244-4833-a43c-80b9de534d0c\">\n",
              "    <div class=\"colab-df-container\">\n",
              "      <div>\n",
              "<style scoped>\n",
              "    .dataframe tbody tr th:only-of-type {\n",
              "        vertical-align: middle;\n",
              "    }\n",
              "\n",
              "    .dataframe tbody tr th {\n",
              "        vertical-align: top;\n",
              "    }\n",
              "\n",
              "    .dataframe thead th {\n",
              "        text-align: right;\n",
              "    }\n",
              "</style>\n",
              "<table border=\"1\" class=\"dataframe\">\n",
              "  <thead>\n",
              "    <tr style=\"text-align: right;\">\n",
              "      <th></th>\n",
              "      <th>countyname</th>\n",
              "      <th>fips</th>\n",
              "      <th>learning_modality</th>\n",
              "      <th>state</th>\n",
              "      <th>abbreviation</th>\n",
              "      <th>year</th>\n",
              "      <th>avg_student_count</th>\n",
              "    </tr>\n",
              "  </thead>\n",
              "  <tbody>\n",
              "    <tr>\n",
              "      <th>0</th>\n",
              "      <td>Abbeville County</td>\n",
              "      <td>45001</td>\n",
              "      <td>Hybrid</td>\n",
              "      <td>South Carolina</td>\n",
              "      <td>SC</td>\n",
              "      <td>2022</td>\n",
              "      <td>5945</td>\n",
              "    </tr>\n",
              "    <tr>\n",
              "      <th>1</th>\n",
              "      <td>Abbeville County</td>\n",
              "      <td>45001</td>\n",
              "      <td>In Person</td>\n",
              "      <td>South Carolina</td>\n",
              "      <td>SC</td>\n",
              "      <td>2021</td>\n",
              "      <td>3828</td>\n",
              "    </tr>\n",
              "    <tr>\n",
              "      <th>2</th>\n",
              "      <td>Abbeville County</td>\n",
              "      <td>45001</td>\n",
              "      <td>In Person</td>\n",
              "      <td>South Carolina</td>\n",
              "      <td>SC</td>\n",
              "      <td>2022</td>\n",
              "      <td>3837</td>\n",
              "    </tr>\n",
              "    <tr>\n",
              "      <th>3</th>\n",
              "      <td>Acadia Parish</td>\n",
              "      <td>22001</td>\n",
              "      <td>In Person</td>\n",
              "      <td>Louisiana</td>\n",
              "      <td>LA</td>\n",
              "      <td>2021</td>\n",
              "      <td>7722</td>\n",
              "    </tr>\n",
              "    <tr>\n",
              "      <th>4</th>\n",
              "      <td>Acadia Parish</td>\n",
              "      <td>22001</td>\n",
              "      <td>In Person</td>\n",
              "      <td>Louisiana</td>\n",
              "      <td>LA</td>\n",
              "      <td>2022</td>\n",
              "      <td>7722</td>\n",
              "    </tr>\n",
              "    <tr>\n",
              "      <th>...</th>\n",
              "      <td>...</td>\n",
              "      <td>...</td>\n",
              "      <td>...</td>\n",
              "      <td>...</td>\n",
              "      <td>...</td>\n",
              "      <td>...</td>\n",
              "      <td>...</td>\n",
              "    </tr>\n",
              "    <tr>\n",
              "      <th>8496</th>\n",
              "      <td>Zapata County</td>\n",
              "      <td>48505</td>\n",
              "      <td>In Person</td>\n",
              "      <td>Texas</td>\n",
              "      <td>TX</td>\n",
              "      <td>2021</td>\n",
              "      <td>3549</td>\n",
              "    </tr>\n",
              "    <tr>\n",
              "      <th>8497</th>\n",
              "      <td>Zapata County</td>\n",
              "      <td>48505</td>\n",
              "      <td>In Person</td>\n",
              "      <td>Texas</td>\n",
              "      <td>TX</td>\n",
              "      <td>2022</td>\n",
              "      <td>3549</td>\n",
              "    </tr>\n",
              "    <tr>\n",
              "      <th>8498</th>\n",
              "      <td>Zavala County</td>\n",
              "      <td>48507</td>\n",
              "      <td>In Person</td>\n",
              "      <td>Texas</td>\n",
              "      <td>TX</td>\n",
              "      <td>2021</td>\n",
              "      <td>1209</td>\n",
              "    </tr>\n",
              "    <tr>\n",
              "      <th>8499</th>\n",
              "      <td>Zavala County</td>\n",
              "      <td>48507</td>\n",
              "      <td>In Person</td>\n",
              "      <td>Texas</td>\n",
              "      <td>TX</td>\n",
              "      <td>2022</td>\n",
              "      <td>1209</td>\n",
              "    </tr>\n",
              "    <tr>\n",
              "      <th>8500</th>\n",
              "      <td>Ziebach County</td>\n",
              "      <td>46137</td>\n",
              "      <td>In Person</td>\n",
              "      <td>South Dakota</td>\n",
              "      <td>SD</td>\n",
              "      <td>2022</td>\n",
              "      <td>396</td>\n",
              "    </tr>\n",
              "  </tbody>\n",
              "</table>\n",
              "<p>8501 rows × 7 columns</p>\n",
              "</div>\n",
              "      <button class=\"colab-df-convert\" onclick=\"convertToInteractive('df-09823692-1244-4833-a43c-80b9de534d0c')\"\n",
              "              title=\"Convert this dataframe to an interactive table.\"\n",
              "              style=\"display:none;\">\n",
              "        \n",
              "  <svg xmlns=\"http://www.w3.org/2000/svg\" height=\"24px\"viewBox=\"0 0 24 24\"\n",
              "       width=\"24px\">\n",
              "    <path d=\"M0 0h24v24H0V0z\" fill=\"none\"/>\n",
              "    <path d=\"M18.56 5.44l.94 2.06.94-2.06 2.06-.94-2.06-.94-.94-2.06-.94 2.06-2.06.94zm-11 1L8.5 8.5l.94-2.06 2.06-.94-2.06-.94L8.5 2.5l-.94 2.06-2.06.94zm10 10l.94 2.06.94-2.06 2.06-.94-2.06-.94-.94-2.06-.94 2.06-2.06.94z\"/><path d=\"M17.41 7.96l-1.37-1.37c-.4-.4-.92-.59-1.43-.59-.52 0-1.04.2-1.43.59L10.3 9.45l-7.72 7.72c-.78.78-.78 2.05 0 2.83L4 21.41c.39.39.9.59 1.41.59.51 0 1.02-.2 1.41-.59l7.78-7.78 2.81-2.81c.8-.78.8-2.07 0-2.86zM5.41 20L4 18.59l7.72-7.72 1.47 1.35L5.41 20z\"/>\n",
              "  </svg>\n",
              "      </button>\n",
              "      \n",
              "  <style>\n",
              "    .colab-df-container {\n",
              "      display:flex;\n",
              "      flex-wrap:wrap;\n",
              "      gap: 12px;\n",
              "    }\n",
              "\n",
              "    .colab-df-convert {\n",
              "      background-color: #E8F0FE;\n",
              "      border: none;\n",
              "      border-radius: 50%;\n",
              "      cursor: pointer;\n",
              "      display: none;\n",
              "      fill: #1967D2;\n",
              "      height: 32px;\n",
              "      padding: 0 0 0 0;\n",
              "      width: 32px;\n",
              "    }\n",
              "\n",
              "    .colab-df-convert:hover {\n",
              "      background-color: #E2EBFA;\n",
              "      box-shadow: 0px 1px 2px rgba(60, 64, 67, 0.3), 0px 1px 3px 1px rgba(60, 64, 67, 0.15);\n",
              "      fill: #174EA6;\n",
              "    }\n",
              "\n",
              "    [theme=dark] .colab-df-convert {\n",
              "      background-color: #3B4455;\n",
              "      fill: #D2E3FC;\n",
              "    }\n",
              "\n",
              "    [theme=dark] .colab-df-convert:hover {\n",
              "      background-color: #434B5C;\n",
              "      box-shadow: 0px 1px 3px 1px rgba(0, 0, 0, 0.15);\n",
              "      filter: drop-shadow(0px 1px 2px rgba(0, 0, 0, 0.3));\n",
              "      fill: #FFFFFF;\n",
              "    }\n",
              "  </style>\n",
              "\n",
              "      <script>\n",
              "        const buttonEl =\n",
              "          document.querySelector('#df-09823692-1244-4833-a43c-80b9de534d0c button.colab-df-convert');\n",
              "        buttonEl.style.display =\n",
              "          google.colab.kernel.accessAllowed ? 'block' : 'none';\n",
              "\n",
              "        async function convertToInteractive(key) {\n",
              "          const element = document.querySelector('#df-09823692-1244-4833-a43c-80b9de534d0c');\n",
              "          const dataTable =\n",
              "            await google.colab.kernel.invokeFunction('convertToInteractive',\n",
              "                                                     [key], {});\n",
              "          if (!dataTable) return;\n",
              "\n",
              "          const docLinkHtml = 'Like what you see? Visit the ' +\n",
              "            '<a target=\"_blank\" href=https://colab.research.google.com/notebooks/data_table.ipynb>data table notebook</a>'\n",
              "            + ' to learn more about interactive tables.';\n",
              "          element.innerHTML = '';\n",
              "          dataTable['output_type'] = 'display_data';\n",
              "          await google.colab.output.renderOutput(dataTable, element);\n",
              "          const docLink = document.createElement('div');\n",
              "          docLink.innerHTML = docLinkHtml;\n",
              "          element.appendChild(docLink);\n",
              "        }\n",
              "      </script>\n",
              "    </div>\n",
              "  </div>\n",
              "  "
            ]
          },
          "metadata": {},
          "execution_count": 66
        }
      ]
    },
    {
      "cell_type": "code",
      "source": [
        "modality_df['learning_modality'].unique()"
      ],
      "metadata": {
        "id": "V51VxELxiqWg",
        "colab": {
          "base_uri": "https://localhost:8080/"
        },
        "outputId": "b08c3eae-2fd5-43b0-9079-06aeac2060ad"
      },
      "execution_count": 67,
      "outputs": [
        {
          "output_type": "execute_result",
          "data": {
            "text/plain": [
              "array(['Hybrid', 'In Person', 'Remote'], dtype=object)"
            ]
          },
          "metadata": {},
          "execution_count": 67
        }
      ]
    },
    {
      "cell_type": "code",
      "source": [
        "# Remove column name 'countyname'\n",
        "modality_df = modality_df.drop(['countyname', 'abbreviation'], axis=1)\n",
        "modality_df"
      ],
      "metadata": {
        "colab": {
          "base_uri": "https://localhost:8080/",
          "height": 424
        },
        "id": "TQg0-yU106-S",
        "outputId": "495a82a8-5840-422c-d4fb-5811780e3b64"
      },
      "execution_count": 68,
      "outputs": [
        {
          "output_type": "execute_result",
          "data": {
            "text/plain": [
              "       fips learning_modality           state  year  avg_student_count\n",
              "0     45001            Hybrid  South Carolina  2022               5945\n",
              "1     45001         In Person  South Carolina  2021               3828\n",
              "2     45001         In Person  South Carolina  2022               3837\n",
              "3     22001         In Person       Louisiana  2021               7722\n",
              "4     22001         In Person       Louisiana  2022               7722\n",
              "...     ...               ...             ...   ...                ...\n",
              "8496  48505         In Person           Texas  2021               3549\n",
              "8497  48505         In Person           Texas  2022               3549\n",
              "8498  48507         In Person           Texas  2021               1209\n",
              "8499  48507         In Person           Texas  2022               1209\n",
              "8500  46137         In Person    South Dakota  2022                396\n",
              "\n",
              "[8501 rows x 5 columns]"
            ],
            "text/html": [
              "\n",
              "  <div id=\"df-9b4a87e8-e5aa-4ed1-8b4c-93c9c4bf086c\">\n",
              "    <div class=\"colab-df-container\">\n",
              "      <div>\n",
              "<style scoped>\n",
              "    .dataframe tbody tr th:only-of-type {\n",
              "        vertical-align: middle;\n",
              "    }\n",
              "\n",
              "    .dataframe tbody tr th {\n",
              "        vertical-align: top;\n",
              "    }\n",
              "\n",
              "    .dataframe thead th {\n",
              "        text-align: right;\n",
              "    }\n",
              "</style>\n",
              "<table border=\"1\" class=\"dataframe\">\n",
              "  <thead>\n",
              "    <tr style=\"text-align: right;\">\n",
              "      <th></th>\n",
              "      <th>fips</th>\n",
              "      <th>learning_modality</th>\n",
              "      <th>state</th>\n",
              "      <th>year</th>\n",
              "      <th>avg_student_count</th>\n",
              "    </tr>\n",
              "  </thead>\n",
              "  <tbody>\n",
              "    <tr>\n",
              "      <th>0</th>\n",
              "      <td>45001</td>\n",
              "      <td>Hybrid</td>\n",
              "      <td>South Carolina</td>\n",
              "      <td>2022</td>\n",
              "      <td>5945</td>\n",
              "    </tr>\n",
              "    <tr>\n",
              "      <th>1</th>\n",
              "      <td>45001</td>\n",
              "      <td>In Person</td>\n",
              "      <td>South Carolina</td>\n",
              "      <td>2021</td>\n",
              "      <td>3828</td>\n",
              "    </tr>\n",
              "    <tr>\n",
              "      <th>2</th>\n",
              "      <td>45001</td>\n",
              "      <td>In Person</td>\n",
              "      <td>South Carolina</td>\n",
              "      <td>2022</td>\n",
              "      <td>3837</td>\n",
              "    </tr>\n",
              "    <tr>\n",
              "      <th>3</th>\n",
              "      <td>22001</td>\n",
              "      <td>In Person</td>\n",
              "      <td>Louisiana</td>\n",
              "      <td>2021</td>\n",
              "      <td>7722</td>\n",
              "    </tr>\n",
              "    <tr>\n",
              "      <th>4</th>\n",
              "      <td>22001</td>\n",
              "      <td>In Person</td>\n",
              "      <td>Louisiana</td>\n",
              "      <td>2022</td>\n",
              "      <td>7722</td>\n",
              "    </tr>\n",
              "    <tr>\n",
              "      <th>...</th>\n",
              "      <td>...</td>\n",
              "      <td>...</td>\n",
              "      <td>...</td>\n",
              "      <td>...</td>\n",
              "      <td>...</td>\n",
              "    </tr>\n",
              "    <tr>\n",
              "      <th>8496</th>\n",
              "      <td>48505</td>\n",
              "      <td>In Person</td>\n",
              "      <td>Texas</td>\n",
              "      <td>2021</td>\n",
              "      <td>3549</td>\n",
              "    </tr>\n",
              "    <tr>\n",
              "      <th>8497</th>\n",
              "      <td>48505</td>\n",
              "      <td>In Person</td>\n",
              "      <td>Texas</td>\n",
              "      <td>2022</td>\n",
              "      <td>3549</td>\n",
              "    </tr>\n",
              "    <tr>\n",
              "      <th>8498</th>\n",
              "      <td>48507</td>\n",
              "      <td>In Person</td>\n",
              "      <td>Texas</td>\n",
              "      <td>2021</td>\n",
              "      <td>1209</td>\n",
              "    </tr>\n",
              "    <tr>\n",
              "      <th>8499</th>\n",
              "      <td>48507</td>\n",
              "      <td>In Person</td>\n",
              "      <td>Texas</td>\n",
              "      <td>2022</td>\n",
              "      <td>1209</td>\n",
              "    </tr>\n",
              "    <tr>\n",
              "      <th>8500</th>\n",
              "      <td>46137</td>\n",
              "      <td>In Person</td>\n",
              "      <td>South Dakota</td>\n",
              "      <td>2022</td>\n",
              "      <td>396</td>\n",
              "    </tr>\n",
              "  </tbody>\n",
              "</table>\n",
              "<p>8501 rows × 5 columns</p>\n",
              "</div>\n",
              "      <button class=\"colab-df-convert\" onclick=\"convertToInteractive('df-9b4a87e8-e5aa-4ed1-8b4c-93c9c4bf086c')\"\n",
              "              title=\"Convert this dataframe to an interactive table.\"\n",
              "              style=\"display:none;\">\n",
              "        \n",
              "  <svg xmlns=\"http://www.w3.org/2000/svg\" height=\"24px\"viewBox=\"0 0 24 24\"\n",
              "       width=\"24px\">\n",
              "    <path d=\"M0 0h24v24H0V0z\" fill=\"none\"/>\n",
              "    <path d=\"M18.56 5.44l.94 2.06.94-2.06 2.06-.94-2.06-.94-.94-2.06-.94 2.06-2.06.94zm-11 1L8.5 8.5l.94-2.06 2.06-.94-2.06-.94L8.5 2.5l-.94 2.06-2.06.94zm10 10l.94 2.06.94-2.06 2.06-.94-2.06-.94-.94-2.06-.94 2.06-2.06.94z\"/><path d=\"M17.41 7.96l-1.37-1.37c-.4-.4-.92-.59-1.43-.59-.52 0-1.04.2-1.43.59L10.3 9.45l-7.72 7.72c-.78.78-.78 2.05 0 2.83L4 21.41c.39.39.9.59 1.41.59.51 0 1.02-.2 1.41-.59l7.78-7.78 2.81-2.81c.8-.78.8-2.07 0-2.86zM5.41 20L4 18.59l7.72-7.72 1.47 1.35L5.41 20z\"/>\n",
              "  </svg>\n",
              "      </button>\n",
              "      \n",
              "  <style>\n",
              "    .colab-df-container {\n",
              "      display:flex;\n",
              "      flex-wrap:wrap;\n",
              "      gap: 12px;\n",
              "    }\n",
              "\n",
              "    .colab-df-convert {\n",
              "      background-color: #E8F0FE;\n",
              "      border: none;\n",
              "      border-radius: 50%;\n",
              "      cursor: pointer;\n",
              "      display: none;\n",
              "      fill: #1967D2;\n",
              "      height: 32px;\n",
              "      padding: 0 0 0 0;\n",
              "      width: 32px;\n",
              "    }\n",
              "\n",
              "    .colab-df-convert:hover {\n",
              "      background-color: #E2EBFA;\n",
              "      box-shadow: 0px 1px 2px rgba(60, 64, 67, 0.3), 0px 1px 3px 1px rgba(60, 64, 67, 0.15);\n",
              "      fill: #174EA6;\n",
              "    }\n",
              "\n",
              "    [theme=dark] .colab-df-convert {\n",
              "      background-color: #3B4455;\n",
              "      fill: #D2E3FC;\n",
              "    }\n",
              "\n",
              "    [theme=dark] .colab-df-convert:hover {\n",
              "      background-color: #434B5C;\n",
              "      box-shadow: 0px 1px 3px 1px rgba(0, 0, 0, 0.15);\n",
              "      filter: drop-shadow(0px 1px 2px rgba(0, 0, 0, 0.3));\n",
              "      fill: #FFFFFF;\n",
              "    }\n",
              "  </style>\n",
              "\n",
              "      <script>\n",
              "        const buttonEl =\n",
              "          document.querySelector('#df-9b4a87e8-e5aa-4ed1-8b4c-93c9c4bf086c button.colab-df-convert');\n",
              "        buttonEl.style.display =\n",
              "          google.colab.kernel.accessAllowed ? 'block' : 'none';\n",
              "\n",
              "        async function convertToInteractive(key) {\n",
              "          const element = document.querySelector('#df-9b4a87e8-e5aa-4ed1-8b4c-93c9c4bf086c');\n",
              "          const dataTable =\n",
              "            await google.colab.kernel.invokeFunction('convertToInteractive',\n",
              "                                                     [key], {});\n",
              "          if (!dataTable) return;\n",
              "\n",
              "          const docLinkHtml = 'Like what you see? Visit the ' +\n",
              "            '<a target=\"_blank\" href=https://colab.research.google.com/notebooks/data_table.ipynb>data table notebook</a>'\n",
              "            + ' to learn more about interactive tables.';\n",
              "          element.innerHTML = '';\n",
              "          dataTable['output_type'] = 'display_data';\n",
              "          await google.colab.output.renderOutput(dataTable, element);\n",
              "          const docLink = document.createElement('div');\n",
              "          docLink.innerHTML = docLinkHtml;\n",
              "          element.appendChild(docLink);\n",
              "        }\n",
              "      </script>\n",
              "    </div>\n",
              "  </div>\n",
              "  "
            ]
          },
          "metadata": {},
          "execution_count": 68
        }
      ]
    },
    {
      "cell_type": "code",
      "source": [
        "# Checking the missing data\n",
        "modality_df.isna().sum().sort_values()"
      ],
      "metadata": {
        "colab": {
          "base_uri": "https://localhost:8080/"
        },
        "id": "OunYoMqa8di1",
        "outputId": "45e88305-1be3-4ab3-eca0-40116d377242"
      },
      "execution_count": 69,
      "outputs": [
        {
          "output_type": "execute_result",
          "data": {
            "text/plain": [
              "fips                 0\n",
              "learning_modality    0\n",
              "state                0\n",
              "year                 0\n",
              "avg_student_count    0\n",
              "dtype: int64"
            ]
          },
          "metadata": {},
          "execution_count": 69
        }
      ]
    },
    {
      "cell_type": "code",
      "source": [
        "from sklearn.preprocessing import LabelEncoder\n",
        "le_learning_modality = LabelEncoder()\n",
        "modality_df['learning_modality'] = le_learning_modality.fit_transform(modality_df['learning_modality'])\n",
        "modality_df['learning_modality'].unique()"
      ],
      "metadata": {
        "colab": {
          "base_uri": "https://localhost:8080/"
        },
        "id": "I7UZ7-_13BpE",
        "outputId": "2b74be6c-04d4-43ea-bd92-bad7130258f8"
      },
      "execution_count": 70,
      "outputs": [
        {
          "output_type": "execute_result",
          "data": {
            "text/plain": [
              "array([0, 1, 2])"
            ]
          },
          "metadata": {},
          "execution_count": 70
        }
      ]
    },
    {
      "cell_type": "code",
      "source": [
        "\n",
        "le_learning_modality = LabelEncoder()\n",
        "modality_df['state'] = le_learning_modality.fit_transform(modality_df['state'])\n",
        "modality_df['state'].unique()"
      ],
      "metadata": {
        "colab": {
          "base_uri": "https://localhost:8080/"
        },
        "id": "azNoVetR4XV3",
        "outputId": "8376ce8f-3c05-45f9-a8ca-ecccd1d349c5"
      },
      "execution_count": 71,
      "outputs": [
        {
          "output_type": "execute_result",
          "data": {
            "text/plain": [
              "array([40, 18, 12, 15, 17, 25, 36,  5, 13, 14, 24, 27, 34, 35, 38, 47, 49,\n",
              "       45, 23,  9, 33,  4, 32, 50, 46, 22,  1, 20, 16, 42, 43, 19,  2, 10,\n",
              "        3, 30, 41,  0, 37, 48, 21, 44, 26, 29, 31, 39, 28,  8,  6, 11,  7])"
            ]
          },
          "metadata": {},
          "execution_count": 71
        }
      ]
    },
    {
      "cell_type": "code",
      "source": [
        "# Scaling in scikit-learn\n",
        "from sklearn.preprocessing import StandardScaler\n",
        "\n",
        "X = modality_df.drop('learning_modality', axis=1).values\n",
        "y = modality_df['learning_modality'].values\n",
        "\n",
        "X_train, X_test, y_train, y_test = train_test_split(X, y, test_size=0.2, random_state=42)\n",
        "\n",
        "scaler = StandardScaler()\n",
        "\n",
        "X_train_scaled = scaler.fit_transform(X_train)\n",
        "X_test_scaled = scaler.fit_transform(X_test)\n",
        "\n",
        "print(np.mean(X), np.std(X))\n",
        "print(np.mean(X_train_scaled), np.std(X_train_scaled))"
      ],
      "metadata": {
        "colab": {
          "base_uri": "https://localhost:8080/"
        },
        "id": "gyMssnkF40S0",
        "outputId": "bf65076c-d752-4a58-8de3-c10b6fa65984"
      },
      "execution_count": 72,
      "outputs": [
        {
          "output_type": "stream",
          "name": "stdout",
          "text": [
            "9358.718474297142 16435.52651352877\n",
            "3.001233248850814e-14 0.9999999999999932\n"
          ]
        }
      ]
    },
    {
      "cell_type": "code",
      "source": [
        "print(X.shape, y.shape)\n",
        "\n"
      ],
      "metadata": {
        "colab": {
          "base_uri": "https://localhost:8080/"
        },
        "id": "pQTSYP86FOEN",
        "outputId": "82e049e4-ef33-49f1-a8c0-b380093534f7"
      },
      "execution_count": 75,
      "outputs": [
        {
          "output_type": "stream",
          "name": "stdout",
          "text": [
            "(8501, 4) (8501,)\n"
          ]
        }
      ]
    },
    {
      "cell_type": "code",
      "source": [
        "from sklearn.neighbors import KNeighborsClassifier\n",
        "knn = KNeighborsClassifier(n_neighbors=6)\n"
      ],
      "metadata": {
        "id": "I7WZlMwhKU_I"
      },
      "execution_count": 77,
      "outputs": []
    },
    {
      "cell_type": "code",
      "source": [
        "# Scaling in a pipeline\n",
        "from sklearn.pipeline import Pipeline\n",
        "\n",
        "steps = [('scaler', StandardScaler()),\n",
        "         ('knn', KNeighborsClassifier(n_neighbors=6))]\n",
        "\n",
        "pipeline = Pipeline(steps)\n",
        "\n",
        "X_train, X_test, y_train, y_test = train_test_split(X, y, test_size=0.2, random_state=21)\n",
        "\n",
        "knn_scaled = pipeline.fit(X_train, y_train)\n",
        "y_pred = knn_scaled.predict(X_test)\n",
        "print(y_pred)\n",
        "print(knn_scaled.score(X_test, y_test))\n"
      ],
      "metadata": {
        "colab": {
          "base_uri": "https://localhost:8080/"
        },
        "id": "oFTqEj5XLG23",
        "outputId": "5380ffed-3a7c-4520-ddfd-9bb9b1bb4aa6"
      },
      "execution_count": 84,
      "outputs": [
        {
          "output_type": "stream",
          "name": "stdout",
          "text": [
            "[1 0 1 ... 1 1 1]\n",
            "0.7160493827160493\n"
          ]
        }
      ]
    },
    {
      "cell_type": "code",
      "source": [],
      "metadata": {
        "colab": {
          "base_uri": "https://localhost:8080/"
        },
        "id": "eCJ9ogk9OEcf",
        "outputId": "1b31abc7-9a98-4a25-f243-243a324467a2"
      },
      "execution_count": 83,
      "outputs": [
        {
          "output_type": "stream",
          "name": "stdout",
          "text": [
            "0.7160493827160493\n"
          ]
        }
      ]
    },
    {
      "cell_type": "code",
      "source": [
        "# Comparing the performance using the unscaled data\n",
        "\n",
        "X_train, X_test, y_train, y_test = train_test_split(X, y, test_size=0.2, random_state=21)\n",
        "\n",
        "knn_unscaled = KNeighborsClassifier(n_neighbors=6).fit(X_train, y_train)\n",
        "print(knn_unscaled.score(X_test, y_test))"
      ],
      "metadata": {
        "colab": {
          "base_uri": "https://localhost:8080/"
        },
        "id": "nVX2KC0eOTEN",
        "outputId": "26692142-40d3-42d6-fcde-d194ff0dfc70"
      },
      "execution_count": 85,
      "outputs": [
        {
          "output_type": "stream",
          "name": "stdout",
          "text": [
            "0.7313345091122869\n"
          ]
        }
      ]
    },
    {
      "cell_type": "code",
      "source": [
        "# Cross Validation and Scaling in a Pipeline\n",
        "\n",
        "from sklearn.model_selection import GridSearchCV\n",
        "\n",
        "steps = [('scaler', StandardScaler()),\n",
        "         ('knn', KNeighborsClassifier())]\n",
        "\n",
        "pipeline = Pipeline(steps)\n",
        "\n",
        "parameters = {\"knn__n_neighbors\": np.arange(1, 50)}\n",
        "\n",
        "X_train, X_test, y_train, y_test = train_test_split(X, y, test_size=0.2, random_state=21)\n",
        "\n",
        "cv = GridSearchCV(pipeline, param_grid=parameters)\n",
        "cv.fit(X_train, y_train)\n",
        "\n",
        "y_pred = cv.predict(X_test)\n",
        "print(y_pred)"
      ],
      "metadata": {
        "colab": {
          "base_uri": "https://localhost:8080/"
        },
        "id": "XQKVFMb0QIGl",
        "outputId": "e2073beb-c485-4444-a4c7-0da7bc480a0c"
      },
      "execution_count": 87,
      "outputs": [
        {
          "output_type": "stream",
          "name": "stdout",
          "text": [
            "[1 0 1 ... 1 1 1]\n"
          ]
        }
      ]
    },
    {
      "cell_type": "code",
      "source": [
        "# Checking Model Parameters\n",
        "# value for K\n",
        "print(cv.best_score_)\n",
        "print(cv.best_params_)"
      ],
      "metadata": {
        "colab": {
          "base_uri": "https://localhost:8080/"
        },
        "id": "IsoYYAnfSA0q",
        "outputId": "c2e04729-1af2-4e93-dd56-d60e6596ba34"
      },
      "execution_count": 89,
      "outputs": [
        {
          "output_type": "stream",
          "name": "stdout",
          "text": [
            "0.7369117647058824\n",
            "{'knn__n_neighbors': 26}\n"
          ]
        }
      ]
    },
    {
      "cell_type": "markdown",
      "source": [
        "### Model Complexity Curve and over/underfitting\n",
        "### To plot test accuracy and train accuracy Vs K value."
      ],
      "metadata": {
        "id": "9frLu2FUr8Te"
      }
    },
    {
      "cell_type": "code",
      "source": [
        "# To plot test accuracy and train accuracy Vs K value.\n",
        "p = list(range(1, 31))\n",
        "lst_test =[]\n",
        "lst_train =[]\n",
        "for i in p:\n",
        "    knn = KNeighborsClassifier(n_neighbors = i)\n",
        "    knn.fit(X_train, y_train)\n",
        "    z = knn.score(X_test, y_test)\n",
        "    t = knn.score(X_train, y_train)\n",
        "    lst_test.append(z)\n",
        "    lst_train.append(t)\n",
        "      \n",
        "plt.plot(p, lst_test, color ='red', label ='Test Accuracy')\n",
        "plt.plot(p, lst_train, color ='b', label ='Train Accuracy')\n",
        "plt.xlabel('K VALUES --->')\n",
        "plt.title('FINDING BEST VALUE FOR K (Number of Neighbors')\n",
        "plt.legend()\n"
      ],
      "metadata": {
        "colab": {
          "base_uri": "https://localhost:8080/",
          "height": 312
        },
        "id": "4Rax6TAPYiay",
        "outputId": "e10fe001-7d38-49ce-f6d4-17924b8f81a6"
      },
      "execution_count": 91,
      "outputs": [
        {
          "output_type": "execute_result",
          "data": {
            "text/plain": [
              "<matplotlib.legend.Legend at 0x7fa4e872e110>"
            ]
          },
          "metadata": {},
          "execution_count": 91
        },
        {
          "output_type": "display_data",
          "data": {
            "text/plain": [
              "<Figure size 432x288 with 1 Axes>"
            ],
            "image/png": "[encoded data removed]"
          },
          "metadata": {
            "needs_background": "light"
          }
        }
      ]
    },
    {
      "cell_type": "markdown",
      "source": [
        "### **Evaluating Classification Models**"
      ],
      "metadata": {
        "id": "-Ejh2lbauAla"
      }
    },
    {
      "cell_type": "code",
      "source": [
        "import matplotlib.pyplot as plt\n",
        "from sklearn.preprocessing import StandardScaler\n",
        "from sklearn.model_selection import cross_val_score, KFold, train_test_split\n",
        "from sklearn.neighbors import KNeighborsClassifier\n",
        "from sklearn.linear_model import LogisticRegression\n",
        "from sklearn.tree import DecisionTreeClassifier\n",
        "\n",
        "X = modality_df.drop('learning_modality', axis=1).values\n",
        "y = modality_df['learning_modality'].values\n",
        "\n",
        "X_train, X_test, y_train, y_test = train_test_split(X, y, test_size=0.2, random_state=42)\n",
        "\n",
        "scaler = StandardScaler()\n",
        "\n",
        "X_train_scaled = scaler.fit_transform(X_train)\n",
        "X_test_scaled = scaler.fit_transform(X_test)\n"
      ],
      "metadata": {
        "id": "H8k9nTm1tZ3W"
      },
      "execution_count": 92,
      "outputs": []
    },
    {
      "cell_type": "code",
      "source": [
        "models = {\"Logistic Regression\": LogisticRegression(), \"KNN\": KNeighborsClassifier(), \n",
        "          \"Decision Tree\": DecisionTreeClassifier()}\n",
        "\n",
        "results = []\n",
        "\n",
        "for model in models.values():\n",
        "  kf = KFold(n_splits=6, random_state=42, shuffle=True)\n",
        "  cv_results = cross_val_score(model, X_train_scaled, y_train, cv=kf)\n",
        "  results.append(cv_results)\n",
        "plt.boxplot(results, labels=models.keys())\n",
        "plt.show()"
      ],
      "metadata": {
        "colab": {
          "base_uri": "https://localhost:8080/",
          "height": 265
        },
        "id": "SYxp8pfTyzYB",
        "outputId": "576b6a41-b315-452d-c94e-e2441513830d"
      },
      "execution_count": 94,
      "outputs": [
        {
          "output_type": "display_data",
          "data": {
            "text/plain": [
              "<Figure size 432x288 with 1 Axes>"
            ],
            "image/png": "[encoded data removed]"
          },
          "metadata": {
            "needs_background": "light"
          }
        }
      ]
    },
    {
      "cell_type": "code",
      "source": [],
      "metadata": {
        "id": "KKPqenIU2AXI"
      },
      "execution_count": null,
      "outputs": []
    },
    {
      "cell_type": "markdown",
      "source": [
        "### **Test Set Performance**"
      ],
      "metadata": {
        "id": "58vxW9eB0pEa"
      }
    },
    {
      "cell_type": "code",
      "source": [
        "for name, model in models.items():\n",
        "  model.fit(X_train_scaled, y_train)\n",
        "  test_score = model.score(X_test_scaled, y_test)\n",
        "  print(\"{} Test Set Accuracy: {}\".format(name, test_score))"
      ],
      "metadata": {
        "colab": {
          "base_uri": "https://localhost:8080/"
        },
        "id": "Eo5wOp240vnr",
        "outputId": "4cb8553d-c8c9-49f7-d8a9-675ced357e61"
      },
      "execution_count": 95,
      "outputs": [
        {
          "output_type": "stream",
          "name": "stdout",
          "text": [
            "Logistic Regression Test Set Accuracy: 0.7119341563786008\n",
            "KNN Test Set Accuracy: 0.7066431510875956\n",
            "Decision Tree Test Set Accuracy: 0.6278659611992945\n"
          ]
        }
      ]
    }
  ]
}