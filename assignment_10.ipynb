{
  "nbformat": 4,
  "nbformat_minor": 0,
  "metadata": {
    "colab": {
      "provenance": [],
      "collapsed_sections": []
    },
    "kernelspec": {
      "name": "python3",
      "display_name": "Python 3"
    },
    "language_info": {
      "name": "python"
    }
  },
  "cells": [
    {
      "cell_type": "markdown",
      "source": [
        "# **Assignment 10**"
      ],
      "metadata": {
        "id": "xqXbEBZtB8-u"
      }
    },
    {
      "cell_type": "code",
      "source": [
        "# core\n",
        "import matplotlib.pyplot as plt\n",
        "import numpy as np\n",
        "import pandas as pd\n",
        "import datetime\n",
        "\n",
        "# ml\n",
        "from sklearn import datasets as ds\n",
        "from sklearn import linear_model as lm\n",
        "from sklearn.neighbors import KNeighborsClassifier as KNN\n",
        "from sklearn.model_selection import train_test_split as tts\n",
        "from sklearn.linear_model import LinearRegression\n",
        "\n",
        "from sklearn import preprocessing \n",
        "from sklearn.model_selection import train_test_split\n",
        "from pathlib import Path\n",
        "from sklearn.decomposition import PCA\n",
        "from sklearn.cluster import KMeans\n",
        "import matplotlib.pyplot as plt\n",
        "from sklearn.preprocessing import StandardScaler, MinMaxScaler, LabelEncoder, OneHotEncoder\n",
        "\n",
        "#plotly or other graphing library\n",
        "import plotly.express as px"
      ],
      "metadata": {
        "id": "Iqswq2_ak3e-"
      },
      "execution_count": 87,
      "outputs": []
    },
    {
      "cell_type": "code",
      "source": [
        "# Reading the data from GitHub\n",
        "csv_path = 'https://raw.githubusercontent.com/uzmabb182/Data602_Assignments/main/resources/Iris.csv'\n",
        "iris_df = pd.read_csv(csv_path, encoding=\"utf-8\")\n",
        "# iris_df.head()\n",
        "\n",
        "csv_path = 'https://raw.githubusercontent.com/uzmabb182/Data602_Assignments/main/resources/Boston.csv'\n",
        "boston_df = pd.read_csv(csv_path, encoding=\"utf-8\")\n",
        "# boston_df.head()\n"
      ],
      "metadata": {
        "id": "K1bgf8kXskei"
      },
      "execution_count": 88,
      "outputs": []
    },
    {
      "cell_type": "markdown",
      "source": [
        "### Label Encoding for target variable"
      ],
      "metadata": {
        "id": "t6JzBY2UbFqQ"
      }
    },
    {
      "cell_type": "code",
      "source": [
        "# Convert categorical data to numeric and separate target feature for training data\n",
        "# using LabelEncoder() encoding method for the entire dataframe \n",
        "\n",
        "iris_df[\"Species\"] = LabelEncoder().fit_transform(iris_df[\"Species\"])\n",
        "iris_df.head()"
      ],
      "metadata": {
        "colab": {
          "base_uri": "https://localhost:8080/",
          "height": 206
        },
        "id": "qDAArWqWt4Wz",
        "outputId": "5b4b1dfe-d1b5-4a77-ab5e-f8f05a5476d0"
      },
      "execution_count": 89,
      "outputs": [
        {
          "output_type": "execute_result",
          "data": {
            "text/plain": [
              "   Id  SepalLengthCm  SepalWidthCm  PetalLengthCm  PetalWidthCm  Species\n",
              "0   1            5.1           3.5            1.4           0.2        0\n",
              "1   2            4.9           3.0            1.4           0.2        0\n",
              "2   3            4.7           3.2            1.3           0.2        0\n",
              "3   4            4.6           3.1            1.5           0.2        0\n",
              "4   5            5.0           3.6            1.4           0.2        0"
            ],
            "text/html": [
              "\n",
              "  <div id=\"df-b1ec6d9e-c42d-400b-9363-fb425c3369fb\">\n",
              "    <div class=\"colab-df-container\">\n",
              "      <div>\n",
              "<style scoped>\n",
              "    .dataframe tbody tr th:only-of-type {\n",
              "        vertical-align: middle;\n",
              "    }\n",
              "\n",
              "    .dataframe tbody tr th {\n",
              "        vertical-align: top;\n",
              "    }\n",
              "\n",
              "    .dataframe thead th {\n",
              "        text-align: right;\n",
              "    }\n",
              "</style>\n",
              "<table border=\"1\" class=\"dataframe\">\n",
              "  <thead>\n",
              "    <tr style=\"text-align: right;\">\n",
              "      <th></th>\n",
              "      <th>Id</th>\n",
              "      <th>SepalLengthCm</th>\n",
              "      <th>SepalWidthCm</th>\n",
              "      <th>PetalLengthCm</th>\n",
              "      <th>PetalWidthCm</th>\n",
              "      <th>Species</th>\n",
              "    </tr>\n",
              "  </thead>\n",
              "  <tbody>\n",
              "    <tr>\n",
              "      <th>0</th>\n",
              "      <td>1</td>\n",
              "      <td>5.1</td>\n",
              "      <td>3.5</td>\n",
              "      <td>1.4</td>\n",
              "      <td>0.2</td>\n",
              "      <td>0</td>\n",
              "    </tr>\n",
              "    <tr>\n",
              "      <th>1</th>\n",
              "      <td>2</td>\n",
              "      <td>4.9</td>\n",
              "      <td>3.0</td>\n",
              "      <td>1.4</td>\n",
              "      <td>0.2</td>\n",
              "      <td>0</td>\n",
              "    </tr>\n",
              "    <tr>\n",
              "      <th>2</th>\n",
              "      <td>3</td>\n",
              "      <td>4.7</td>\n",
              "      <td>3.2</td>\n",
              "      <td>1.3</td>\n",
              "      <td>0.2</td>\n",
              "      <td>0</td>\n",
              "    </tr>\n",
              "    <tr>\n",
              "      <th>3</th>\n",
              "      <td>4</td>\n",
              "      <td>4.6</td>\n",
              "      <td>3.1</td>\n",
              "      <td>1.5</td>\n",
              "      <td>0.2</td>\n",
              "      <td>0</td>\n",
              "    </tr>\n",
              "    <tr>\n",
              "      <th>4</th>\n",
              "      <td>5</td>\n",
              "      <td>5.0</td>\n",
              "      <td>3.6</td>\n",
              "      <td>1.4</td>\n",
              "      <td>0.2</td>\n",
              "      <td>0</td>\n",
              "    </tr>\n",
              "  </tbody>\n",
              "</table>\n",
              "</div>\n",
              "      <button class=\"colab-df-convert\" onclick=\"convertToInteractive('df-b1ec6d9e-c42d-400b-9363-fb425c3369fb')\"\n",
              "              title=\"Convert this dataframe to an interactive table.\"\n",
              "              style=\"display:none;\">\n",
              "        \n",
              "  <svg xmlns=\"http://www.w3.org/2000/svg\" height=\"24px\"viewBox=\"0 0 24 24\"\n",
              "       width=\"24px\">\n",
              "    <path d=\"M0 0h24v24H0V0z\" fill=\"none\"/>\n",
              "    <path d=\"M18.56 5.44l.94 2.06.94-2.06 2.06-.94-2.06-.94-.94-2.06-.94 2.06-2.06.94zm-11 1L8.5 8.5l.94-2.06 2.06-.94-2.06-.94L8.5 2.5l-.94 2.06-2.06.94zm10 10l.94 2.06.94-2.06 2.06-.94-2.06-.94-.94-2.06-.94 2.06-2.06.94z\"/><path d=\"M17.41 7.96l-1.37-1.37c-.4-.4-.92-.59-1.43-.59-.52 0-1.04.2-1.43.59L10.3 9.45l-7.72 7.72c-.78.78-.78 2.05 0 2.83L4 21.41c.39.39.9.59 1.41.59.51 0 1.02-.2 1.41-.59l7.78-7.78 2.81-2.81c.8-.78.8-2.07 0-2.86zM5.41 20L4 18.59l7.72-7.72 1.47 1.35L5.41 20z\"/>\n",
              "  </svg>\n",
              "      </button>\n",
              "      \n",
              "  <style>\n",
              "    .colab-df-container {\n",
              "      display:flex;\n",
              "      flex-wrap:wrap;\n",
              "      gap: 12px;\n",
              "    }\n",
              "\n",
              "    .colab-df-convert {\n",
              "      background-color: #E8F0FE;\n",
              "      border: none;\n",
              "      border-radius: 50%;\n",
              "      cursor: pointer;\n",
              "      display: none;\n",
              "      fill: #1967D2;\n",
              "      height: 32px;\n",
              "      padding: 0 0 0 0;\n",
              "      width: 32px;\n",
              "    }\n",
              "\n",
              "    .colab-df-convert:hover {\n",
              "      background-color: #E2EBFA;\n",
              "      box-shadow: 0px 1px 2px rgba(60, 64, 67, 0.3), 0px 1px 3px 1px rgba(60, 64, 67, 0.15);\n",
              "      fill: #174EA6;\n",
              "    }\n",
              "\n",
              "    [theme=dark] .colab-df-convert {\n",
              "      background-color: #3B4455;\n",
              "      fill: #D2E3FC;\n",
              "    }\n",
              "\n",
              "    [theme=dark] .colab-df-convert:hover {\n",
              "      background-color: #434B5C;\n",
              "      box-shadow: 0px 1px 3px 1px rgba(0, 0, 0, 0.15);\n",
              "      filter: drop-shadow(0px 1px 2px rgba(0, 0, 0, 0.3));\n",
              "      fill: #FFFFFF;\n",
              "    }\n",
              "  </style>\n",
              "\n",
              "      <script>\n",
              "        const buttonEl =\n",
              "          document.querySelector('#df-b1ec6d9e-c42d-400b-9363-fb425c3369fb button.colab-df-convert');\n",
              "        buttonEl.style.display =\n",
              "          google.colab.kernel.accessAllowed ? 'block' : 'none';\n",
              "\n",
              "        async function convertToInteractive(key) {\n",
              "          const element = document.querySelector('#df-b1ec6d9e-c42d-400b-9363-fb425c3369fb');\n",
              "          const dataTable =\n",
              "            await google.colab.kernel.invokeFunction('convertToInteractive',\n",
              "                                                     [key], {});\n",
              "          if (!dataTable) return;\n",
              "\n",
              "          const docLinkHtml = 'Like what you see? Visit the ' +\n",
              "            '<a target=\"_blank\" href=https://colab.research.google.com/notebooks/data_table.ipynb>data table notebook</a>'\n",
              "            + ' to learn more about interactive tables.';\n",
              "          element.innerHTML = '';\n",
              "          dataTable['output_type'] = 'display_data';\n",
              "          await google.colab.output.renderOutput(dataTable, element);\n",
              "          const docLink = document.createElement('div');\n",
              "          docLink.innerHTML = docLinkHtml;\n",
              "          element.appendChild(docLink);\n",
              "        }\n",
              "      </script>\n",
              "    </div>\n",
              "  </div>\n",
              "  "
            ]
          },
          "metadata": {},
          "execution_count": 89
        }
      ]
    },
    {
      "cell_type": "markdown",
      "source": [
        "### Loading the Boston Dataset "
      ],
      "metadata": {
        "id": "k56ANnS8rz5k"
      }
    },
    {
      "cell_type": "code",
      "source": [
        "data_url = \"http://lib.stat.cmu.edu/datasets/boston\"\n",
        "raw_df = pd.read_csv(data_url, sep=\"\\s+\", skiprows=22, header=None)\n",
        "data = np.hstack([raw_df.values[::2, :], raw_df.values[1::2, :2]])\n",
        "target = raw_df.values[1::2, 2]"
      ],
      "metadata": {
        "id": "NGaB5PwVrURf"
      },
      "execution_count": 90,
      "outputs": []
    },
    {
      "cell_type": "markdown",
      "source": [
        "### Loading the Iris dataset by calling the function load_iris()"
      ],
      "metadata": {
        "id": "M7yWJdkVr90O"
      }
    },
    {
      "cell_type": "code",
      "source": [
        "# Load datasets here once and assign to variables iris and boston\n",
        "\n",
        "iris_data = ds.load_iris()\n",
        "boston_data = ds.load_boston()\n",
        "boston_data"
      ],
      "metadata": {
        "id": "92pRcki-k3kH",
        "colab": {
          "base_uri": "https://localhost:8080/"
        },
        "outputId": "d22e2ab3-4c6a-4f38-8fec-5028f36b1314"
      },
      "execution_count": 91,
      "outputs": [
        {
          "output_type": "stream",
          "name": "stderr",
          "text": [
            "/usr/local/lib/python3.7/dist-packages/sklearn/utils/deprecation.py:87: FutureWarning: Function load_boston is deprecated; `load_boston` is deprecated in 1.0 and will be removed in 1.2.\n",
            "\n",
            "    The Boston housing prices dataset has an ethical problem. You can refer to\n",
            "    the documentation of this function for further details.\n",
            "\n",
            "    The scikit-learn maintainers therefore strongly discourage the use of this\n",
            "    dataset unless the purpose of the code is to study and educate about\n",
            "    ethical issues in data science and machine learning.\n",
            "\n",
            "    In this special case, you can fetch the dataset from the original\n",
            "    source::\n",
            "\n",
            "        import pandas as pd\n",
            "        import numpy as np\n",
            "\n",
            "\n",
            "        data_url = \"http://lib.stat.cmu.edu/datasets/boston\"\n",
            "        raw_df = pd.read_csv(data_url, sep=\"\\s+\", skiprows=22, header=None)\n",
            "        data = np.hstack([raw_df.values[::2, :], raw_df.values[1::2, :2]])\n",
            "        target = raw_df.values[1::2, 2]\n",
            "\n",
            "    Alternative datasets include the California housing dataset (i.e.\n",
            "    :func:`~sklearn.datasets.fetch_california_housing`) and the Ames housing\n",
            "    dataset. You can load the datasets as follows::\n",
            "\n",
            "        from sklearn.datasets import fetch_california_housing\n",
            "        housing = fetch_california_housing()\n",
            "\n",
            "    for the California housing dataset and::\n",
            "\n",
            "        from sklearn.datasets import fetch_openml\n",
            "        housing = fetch_openml(name=\"house_prices\", as_frame=True)\n",
            "\n",
            "    for the Ames housing dataset.\n",
            "    \n",
            "  warnings.warn(msg, category=FutureWarning)\n"
          ]
        },
        {
          "output_type": "execute_result",
          "data": {
            "text/plain": [
              "{'data': array([[6.3200e-03, 1.8000e+01, 2.3100e+00, ..., 1.5300e+01, 3.9690e+02,\n",
              "         4.9800e+00],\n",
              "        [2.7310e-02, 0.0000e+00, 7.0700e+00, ..., 1.7800e+01, 3.9690e+02,\n",
              "         9.1400e+00],\n",
              "        [2.7290e-02, 0.0000e+00, 7.0700e+00, ..., 1.7800e+01, 3.9283e+02,\n",
              "         4.0300e+00],\n",
              "        ...,\n",
              "        [6.0760e-02, 0.0000e+00, 1.1930e+01, ..., 2.1000e+01, 3.9690e+02,\n",
              "         5.6400e+00],\n",
              "        [1.0959e-01, 0.0000e+00, 1.1930e+01, ..., 2.1000e+01, 3.9345e+02,\n",
              "         6.4800e+00],\n",
              "        [4.7410e-02, 0.0000e+00, 1.1930e+01, ..., 2.1000e+01, 3.9690e+02,\n",
              "         7.8800e+00]]),\n",
              " 'target': array([24. , 21.6, 34.7, 33.4, 36.2, 28.7, 22.9, 27.1, 16.5, 18.9, 15. ,\n",
              "        18.9, 21.7, 20.4, 18.2, 19.9, 23.1, 17.5, 20.2, 18.2, 13.6, 19.6,\n",
              "        15.2, 14.5, 15.6, 13.9, 16.6, 14.8, 18.4, 21. , 12.7, 14.5, 13.2,\n",
              "        13.1, 13.5, 18.9, 20. , 21. , 24.7, 30.8, 34.9, 26.6, 25.3, 24.7,\n",
              "        21.2, 19.3, 20. , 16.6, 14.4, 19.4, 19.7, 20.5, 25. , 23.4, 18.9,\n",
              "        35.4, 24.7, 31.6, 23.3, 19.6, 18.7, 16. , 22.2, 25. , 33. , 23.5,\n",
              "        19.4, 22. , 17.4, 20.9, 24.2, 21.7, 22.8, 23.4, 24.1, 21.4, 20. ,\n",
              "        20.8, 21.2, 20.3, 28. , 23.9, 24.8, 22.9, 23.9, 26.6, 22.5, 22.2,\n",
              "        23.6, 28.7, 22.6, 22. , 22.9, 25. , 20.6, 28.4, 21.4, 38.7, 43.8,\n",
              "        33.2, 27.5, 26.5, 18.6, 19.3, 20.1, 19.5, 19.5, 20.4, 19.8, 19.4,\n",
              "        21.7, 22.8, 18.8, 18.7, 18.5, 18.3, 21.2, 19.2, 20.4, 19.3, 22. ,\n",
              "        20.3, 20.5, 17.3, 18.8, 21.4, 15.7, 16.2, 18. , 14.3, 19.2, 19.6,\n",
              "        23. , 18.4, 15.6, 18.1, 17.4, 17.1, 13.3, 17.8, 14. , 14.4, 13.4,\n",
              "        15.6, 11.8, 13.8, 15.6, 14.6, 17.8, 15.4, 21.5, 19.6, 15.3, 19.4,\n",
              "        17. , 15.6, 13.1, 41.3, 24.3, 23.3, 27. , 50. , 50. , 50. , 22.7,\n",
              "        25. , 50. , 23.8, 23.8, 22.3, 17.4, 19.1, 23.1, 23.6, 22.6, 29.4,\n",
              "        23.2, 24.6, 29.9, 37.2, 39.8, 36.2, 37.9, 32.5, 26.4, 29.6, 50. ,\n",
              "        32. , 29.8, 34.9, 37. , 30.5, 36.4, 31.1, 29.1, 50. , 33.3, 30.3,\n",
              "        34.6, 34.9, 32.9, 24.1, 42.3, 48.5, 50. , 22.6, 24.4, 22.5, 24.4,\n",
              "        20. , 21.7, 19.3, 22.4, 28.1, 23.7, 25. , 23.3, 28.7, 21.5, 23. ,\n",
              "        26.7, 21.7, 27.5, 30.1, 44.8, 50. , 37.6, 31.6, 46.7, 31.5, 24.3,\n",
              "        31.7, 41.7, 48.3, 29. , 24. , 25.1, 31.5, 23.7, 23.3, 22. , 20.1,\n",
              "        22.2, 23.7, 17.6, 18.5, 24.3, 20.5, 24.5, 26.2, 24.4, 24.8, 29.6,\n",
              "        42.8, 21.9, 20.9, 44. , 50. , 36. , 30.1, 33.8, 43.1, 48.8, 31. ,\n",
              "        36.5, 22.8, 30.7, 50. , 43.5, 20.7, 21.1, 25.2, 24.4, 35.2, 32.4,\n",
              "        32. , 33.2, 33.1, 29.1, 35.1, 45.4, 35.4, 46. , 50. , 32.2, 22. ,\n",
              "        20.1, 23.2, 22.3, 24.8, 28.5, 37.3, 27.9, 23.9, 21.7, 28.6, 27.1,\n",
              "        20.3, 22.5, 29. , 24.8, 22. , 26.4, 33.1, 36.1, 28.4, 33.4, 28.2,\n",
              "        22.8, 20.3, 16.1, 22.1, 19.4, 21.6, 23.8, 16.2, 17.8, 19.8, 23.1,\n",
              "        21. , 23.8, 23.1, 20.4, 18.5, 25. , 24.6, 23. , 22.2, 19.3, 22.6,\n",
              "        19.8, 17.1, 19.4, 22.2, 20.7, 21.1, 19.5, 18.5, 20.6, 19. , 18.7,\n",
              "        32.7, 16.5, 23.9, 31.2, 17.5, 17.2, 23.1, 24.5, 26.6, 22.9, 24.1,\n",
              "        18.6, 30.1, 18.2, 20.6, 17.8, 21.7, 22.7, 22.6, 25. , 19.9, 20.8,\n",
              "        16.8, 21.9, 27.5, 21.9, 23.1, 50. , 50. , 50. , 50. , 50. , 13.8,\n",
              "        13.8, 15. , 13.9, 13.3, 13.1, 10.2, 10.4, 10.9, 11.3, 12.3,  8.8,\n",
              "         7.2, 10.5,  7.4, 10.2, 11.5, 15.1, 23.2,  9.7, 13.8, 12.7, 13.1,\n",
              "        12.5,  8.5,  5. ,  6.3,  5.6,  7.2, 12.1,  8.3,  8.5,  5. , 11.9,\n",
              "        27.9, 17.2, 27.5, 15. , 17.2, 17.9, 16.3,  7. ,  7.2,  7.5, 10.4,\n",
              "         8.8,  8.4, 16.7, 14.2, 20.8, 13.4, 11.7,  8.3, 10.2, 10.9, 11. ,\n",
              "         9.5, 14.5, 14.1, 16.1, 14.3, 11.7, 13.4,  9.6,  8.7,  8.4, 12.8,\n",
              "        10.5, 17.1, 18.4, 15.4, 10.8, 11.8, 14.9, 12.6, 14.1, 13. , 13.4,\n",
              "        15.2, 16.1, 17.8, 14.9, 14.1, 12.7, 13.5, 14.9, 20. , 16.4, 17.7,\n",
              "        19.5, 20.2, 21.4, 19.9, 19. , 19.1, 19.1, 20.1, 19.9, 19.6, 23.2,\n",
              "        29.8, 13.8, 13.3, 16.7, 12. , 14.6, 21.4, 23. , 23.7, 25. , 21.8,\n",
              "        20.6, 21.2, 19.1, 20.6, 15.2,  7. ,  8.1, 13.6, 20.1, 21.8, 24.5,\n",
              "        23.1, 19.7, 18.3, 21.2, 17.5, 16.8, 22.4, 20.6, 23.9, 22. , 11.9]),\n",
              " 'feature_names': array(['CRIM', 'ZN', 'INDUS', 'CHAS', 'NOX', 'RM', 'AGE', 'DIS', 'RAD',\n",
              "        'TAX', 'PTRATIO', 'B', 'LSTAT'], dtype='<U7'),\n",
              " 'DESCR': \".. _boston_dataset:\\n\\nBoston house prices dataset\\n---------------------------\\n\\n**Data Set Characteristics:**  \\n\\n    :Number of Instances: 506 \\n\\n    :Number of Attributes: 13 numeric/categorical predictive. Median Value (attribute 14) is usually the target.\\n\\n    :Attribute Information (in order):\\n        - CRIM     per capita crime rate by town\\n        - ZN       proportion of residential land zoned for lots over 25,000 sq.ft.\\n        - INDUS    proportion of non-retail business acres per town\\n        - CHAS     Charles River dummy variable (= 1 if tract bounds river; 0 otherwise)\\n        - NOX      nitric oxides concentration (parts per 10 million)\\n        - RM       average number of rooms per dwelling\\n        - AGE      proportion of owner-occupied units built prior to 1940\\n        - DIS      weighted distances to five Boston employment centres\\n        - RAD      index of accessibility to radial highways\\n        - TAX      full-value property-tax rate per $10,000\\n        - PTRATIO  pupil-teacher ratio by town\\n        - B        1000(Bk - 0.63)^2 where Bk is the proportion of black people by town\\n        - LSTAT    % lower status of the population\\n        - MEDV     Median value of owner-occupied homes in $1000's\\n\\n    :Missing Attribute Values: None\\n\\n    :Creator: Harrison, D. and Rubinfeld, D.L.\\n\\nThis is a copy of UCI ML housing dataset.\\nhttps://archive.ics.uci.edu/ml/machine-learning-databases/housing/\\n\\n\\nThis dataset was taken from the StatLib library which is maintained at Carnegie Mellon University.\\n\\nThe Boston house-price data of Harrison, D. and Rubinfeld, D.L. 'Hedonic\\nprices and the demand for clean air', J. Environ. Economics & Management,\\nvol.5, 81-102, 1978.   Used in Belsley, Kuh & Welsch, 'Regression diagnostics\\n...', Wiley, 1980.   N.B. Various transformations are used in the table on\\npages 244-261 of the latter.\\n\\nThe Boston house-price data has been used in many machine learning papers that address regression\\nproblems.   \\n     \\n.. topic:: References\\n\\n   - Belsley, Kuh & Welsch, 'Regression diagnostics: Identifying Influential Data and Sources of Collinearity', Wiley, 1980. 244-261.\\n   - Quinlan,R. (1993). Combining Instance-Based and Model-Based Learning. In Proceedings on the Tenth International Conference of Machine Learning, 236-243, University of Massachusetts, Amherst. Morgan Kaufmann.\\n\",\n",
              " 'filename': 'boston_house_prices.csv',\n",
              " 'data_module': 'sklearn.datasets.data'}"
            ]
          },
          "metadata": {},
          "execution_count": 91
        }
      ]
    },
    {
      "cell_type": "markdown",
      "source": [
        "**Q1** \n",
        "\n",
        "**Data set: Iris**\n",
        "\n",
        "* Return the first 5 rows of the data including the feature names as column headings in a DataFrame and a\n",
        "separate Python list containing target names"
      ],
      "metadata": {
        "id": "lA9exQg2lFEn"
      }
    },
    {
      "cell_type": "code",
      "source": [
        "# import iris dataset\n",
        "iris_data = ds.load_iris()\n",
        "# np.c_ is the numpy concatenate function\n",
        "df = pd.DataFrame(data= np.c_[iris_data['data'], iris_data['target']],\n",
        "                      columns= iris_data['feature_names'] + ['target'])\n",
        "df.head()"
      ],
      "metadata": {
        "colab": {
          "base_uri": "https://localhost:8080/",
          "height": 206
        },
        "id": "FMfMXnUMsWPG",
        "outputId": "e79e9280-7f66-433d-ed2a-1b8781cb8ef9"
      },
      "execution_count": 92,
      "outputs": [
        {
          "output_type": "execute_result",
          "data": {
            "text/plain": [
              "   sepal length (cm)  sepal width (cm)  petal length (cm)  petal width (cm)  \\\n",
              "0                5.1               3.5                1.4               0.2   \n",
              "1                4.9               3.0                1.4               0.2   \n",
              "2                4.7               3.2                1.3               0.2   \n",
              "3                4.6               3.1                1.5               0.2   \n",
              "4                5.0               3.6                1.4               0.2   \n",
              "\n",
              "   target  \n",
              "0     0.0  \n",
              "1     0.0  \n",
              "2     0.0  \n",
              "3     0.0  \n",
              "4     0.0  "
            ],
            "text/html": [
              "\n",
              "  <div id=\"df-04436965-06c3-4c29-a09d-e994991218d0\">\n",
              "    <div class=\"colab-df-container\">\n",
              "      <div>\n",
              "<style scoped>\n",
              "    .dataframe tbody tr th:only-of-type {\n",
              "        vertical-align: middle;\n",
              "    }\n",
              "\n",
              "    .dataframe tbody tr th {\n",
              "        vertical-align: top;\n",
              "    }\n",
              "\n",
              "    .dataframe thead th {\n",
              "        text-align: right;\n",
              "    }\n",
              "</style>\n",
              "<table border=\"1\" class=\"dataframe\">\n",
              "  <thead>\n",
              "    <tr style=\"text-align: right;\">\n",
              "      <th></th>\n",
              "      <th>sepal length (cm)</th>\n",
              "      <th>sepal width (cm)</th>\n",
              "      <th>petal length (cm)</th>\n",
              "      <th>petal width (cm)</th>\n",
              "      <th>target</th>\n",
              "    </tr>\n",
              "  </thead>\n",
              "  <tbody>\n",
              "    <tr>\n",
              "      <th>0</th>\n",
              "      <td>5.1</td>\n",
              "      <td>3.5</td>\n",
              "      <td>1.4</td>\n",
              "      <td>0.2</td>\n",
              "      <td>0.0</td>\n",
              "    </tr>\n",
              "    <tr>\n",
              "      <th>1</th>\n",
              "      <td>4.9</td>\n",
              "      <td>3.0</td>\n",
              "      <td>1.4</td>\n",
              "      <td>0.2</td>\n",
              "      <td>0.0</td>\n",
              "    </tr>\n",
              "    <tr>\n",
              "      <th>2</th>\n",
              "      <td>4.7</td>\n",
              "      <td>3.2</td>\n",
              "      <td>1.3</td>\n",
              "      <td>0.2</td>\n",
              "      <td>0.0</td>\n",
              "    </tr>\n",
              "    <tr>\n",
              "      <th>3</th>\n",
              "      <td>4.6</td>\n",
              "      <td>3.1</td>\n",
              "      <td>1.5</td>\n",
              "      <td>0.2</td>\n",
              "      <td>0.0</td>\n",
              "    </tr>\n",
              "    <tr>\n",
              "      <th>4</th>\n",
              "      <td>5.0</td>\n",
              "      <td>3.6</td>\n",
              "      <td>1.4</td>\n",
              "      <td>0.2</td>\n",
              "      <td>0.0</td>\n",
              "    </tr>\n",
              "  </tbody>\n",
              "</table>\n",
              "</div>\n",
              "      <button class=\"colab-df-convert\" onclick=\"convertToInteractive('df-04436965-06c3-4c29-a09d-e994991218d0')\"\n",
              "              title=\"Convert this dataframe to an interactive table.\"\n",
              "              style=\"display:none;\">\n",
              "        \n",
              "  <svg xmlns=\"http://www.w3.org/2000/svg\" height=\"24px\"viewBox=\"0 0 24 24\"\n",
              "       width=\"24px\">\n",
              "    <path d=\"M0 0h24v24H0V0z\" fill=\"none\"/>\n",
              "    <path d=\"M18.56 5.44l.94 2.06.94-2.06 2.06-.94-2.06-.94-.94-2.06-.94 2.06-2.06.94zm-11 1L8.5 8.5l.94-2.06 2.06-.94-2.06-.94L8.5 2.5l-.94 2.06-2.06.94zm10 10l.94 2.06.94-2.06 2.06-.94-2.06-.94-.94-2.06-.94 2.06-2.06.94z\"/><path d=\"M17.41 7.96l-1.37-1.37c-.4-.4-.92-.59-1.43-.59-.52 0-1.04.2-1.43.59L10.3 9.45l-7.72 7.72c-.78.78-.78 2.05 0 2.83L4 21.41c.39.39.9.59 1.41.59.51 0 1.02-.2 1.41-.59l7.78-7.78 2.81-2.81c.8-.78.8-2.07 0-2.86zM5.41 20L4 18.59l7.72-7.72 1.47 1.35L5.41 20z\"/>\n",
              "  </svg>\n",
              "      </button>\n",
              "      \n",
              "  <style>\n",
              "    .colab-df-container {\n",
              "      display:flex;\n",
              "      flex-wrap:wrap;\n",
              "      gap: 12px;\n",
              "    }\n",
              "\n",
              "    .colab-df-convert {\n",
              "      background-color: #E8F0FE;\n",
              "      border: none;\n",
              "      border-radius: 50%;\n",
              "      cursor: pointer;\n",
              "      display: none;\n",
              "      fill: #1967D2;\n",
              "      height: 32px;\n",
              "      padding: 0 0 0 0;\n",
              "      width: 32px;\n",
              "    }\n",
              "\n",
              "    .colab-df-convert:hover {\n",
              "      background-color: #E2EBFA;\n",
              "      box-shadow: 0px 1px 2px rgba(60, 64, 67, 0.3), 0px 1px 3px 1px rgba(60, 64, 67, 0.15);\n",
              "      fill: #174EA6;\n",
              "    }\n",
              "\n",
              "    [theme=dark] .colab-df-convert {\n",
              "      background-color: #3B4455;\n",
              "      fill: #D2E3FC;\n",
              "    }\n",
              "\n",
              "    [theme=dark] .colab-df-convert:hover {\n",
              "      background-color: #434B5C;\n",
              "      box-shadow: 0px 1px 3px 1px rgba(0, 0, 0, 0.15);\n",
              "      filter: drop-shadow(0px 1px 2px rgba(0, 0, 0, 0.3));\n",
              "      fill: #FFFFFF;\n",
              "    }\n",
              "  </style>\n",
              "\n",
              "      <script>\n",
              "        const buttonEl =\n",
              "          document.querySelector('#df-04436965-06c3-4c29-a09d-e994991218d0 button.colab-df-convert');\n",
              "        buttonEl.style.display =\n",
              "          google.colab.kernel.accessAllowed ? 'block' : 'none';\n",
              "\n",
              "        async function convertToInteractive(key) {\n",
              "          const element = document.querySelector('#df-04436965-06c3-4c29-a09d-e994991218d0');\n",
              "          const dataTable =\n",
              "            await google.colab.kernel.invokeFunction('convertToInteractive',\n",
              "                                                     [key], {});\n",
              "          if (!dataTable) return;\n",
              "\n",
              "          const docLinkHtml = 'Like what you see? Visit the ' +\n",
              "            '<a target=\"_blank\" href=https://colab.research.google.com/notebooks/data_table.ipynb>data table notebook</a>'\n",
              "            + ' to learn more about interactive tables.';\n",
              "          element.innerHTML = '';\n",
              "          dataTable['output_type'] = 'display_data';\n",
              "          await google.colab.output.renderOutput(dataTable, element);\n",
              "          const docLink = document.createElement('div');\n",
              "          docLink.innerHTML = docLinkHtml;\n",
              "          element.appendChild(docLink);\n",
              "        }\n",
              "      </script>\n",
              "    </div>\n",
              "  </div>\n",
              "  "
            ]
          },
          "metadata": {},
          "execution_count": 92
        }
      ]
    },
    {
      "cell_type": "markdown",
      "source": [
        "### Preparing the data for classification\n",
        "### Creating NumPy arrays for the features and the target variable"
      ],
      "metadata": {
        "id": "Lh2D-8om7o0X"
      }
    },
    {
      "cell_type": "code",
      "source": [
        "iris_df.columns"
      ],
      "metadata": {
        "colab": {
          "base_uri": "https://localhost:8080/"
        },
        "id": "kgpaPW0n85QE",
        "outputId": "9fee2c30-4d97-4bac-ce0a-99903f983bfb"
      },
      "execution_count": 93,
      "outputs": [
        {
          "output_type": "execute_result",
          "data": {
            "text/plain": [
              "Index(['Id', 'SepalLengthCm', 'SepalWidthCm', 'PetalLengthCm', 'PetalWidthCm',\n",
              "       'Species'],\n",
              "      dtype='object')"
            ]
          },
          "metadata": {},
          "execution_count": 93
        }
      ]
    },
    {
      "cell_type": "code",
      "source": [
        "y = iris_df[\"Species\"].values\n",
        "\n",
        "X = iris_df[['SepalLengthCm', 'SepalWidthCm', 'PetalLengthCm', 'PetalWidthCm']].values"
      ],
      "metadata": {
        "id": "uyfV7jAK62f1"
      },
      "execution_count": 94,
      "outputs": []
    },
    {
      "cell_type": "code",
      "source": [
        "y.shape"
      ],
      "metadata": {
        "colab": {
          "base_uri": "https://localhost:8080/"
        },
        "id": "HjutScSwTp-g",
        "outputId": "fc0d87de-04b1-472b-dc87-087bfaa68369"
      },
      "execution_count": 95,
      "outputs": [
        {
          "output_type": "execute_result",
          "data": {
            "text/plain": [
              "(150,)"
            ]
          },
          "metadata": {},
          "execution_count": 95
        }
      ]
    },
    {
      "cell_type": "code",
      "source": [
        "X.shape"
      ],
      "metadata": {
        "colab": {
          "base_uri": "https://localhost:8080/"
        },
        "id": "niwXhv2OTuyC",
        "outputId": "6f13980e-b949-4e8d-a325-3dd5d66b57f8"
      },
      "execution_count": 96,
      "outputs": [
        {
          "output_type": "execute_result",
          "data": {
            "text/plain": [
              "(150, 4)"
            ]
          },
          "metadata": {},
          "execution_count": 96
        }
      ]
    },
    {
      "cell_type": "markdown",
      "source": [
        "### Splitting the data using scikit-learn’s built-in, train_test_split function"
      ],
      "metadata": {
        "id": "uxIaE4TRZbPA"
      }
    },
    {
      "cell_type": "code",
      "source": [
        "X_train, X_test, y_train, y_test = train_test_split(X, y, test_size=0.3, random_state=21, stratify=y)\n",
        "\n",
        "print(X_train.shape)\n",
        "print(y_train.shape)\n",
        "print(X_test.shape)\n",
        "print(y_test.shape)"
      ],
      "metadata": {
        "colab": {
          "base_uri": "https://localhost:8080/"
        },
        "id": "Tg6op63vZaAa",
        "outputId": "10d733a5-18df-4914-ec9c-6f87ad429cc9"
      },
      "execution_count": 97,
      "outputs": [
        {
          "output_type": "stream",
          "name": "stdout",
          "text": [
            "(105, 4)\n",
            "(105,)\n",
            "(45, 4)\n",
            "(45,)\n"
          ]
        }
      ]
    },
    {
      "cell_type": "markdown",
      "source": [
        "### Scaling the Data by Standard Scaler Function:"
      ],
      "metadata": {
        "id": "ke4cL21jfeQH"
      }
    },
    {
      "cell_type": "code",
      "source": [
        "# Scaling the X_train data by using the StandardScaler() function\n",
        "scaler = StandardScaler()\n",
        "\n",
        "# Fitting the scaler\n",
        "X_scaler = scaler.fit(X_train)\n",
        "\n",
        "# Scaling data\n",
        "X_train_scaled = X_scaler.transform(X_train)\n",
        "X_train_scaled"
      ],
      "metadata": {
        "id": "PcICiSpTfgXm",
        "colab": {
          "base_uri": "https://localhost:8080/"
        },
        "outputId": "8d065c15-fb2a-4927-eb41-00ed0ad3a7e6"
      },
      "execution_count": 98,
      "outputs": [
        {
          "output_type": "execute_result",
          "data": {
            "text/plain": [
              "array([[ 7.25650803e-01,  3.47647490e-01,  4.22322444e-01,\n",
              "         3.97758449e-01],\n",
              "       [ 2.35661515e-01, -1.90562328e+00,  1.38793949e-01,\n",
              "        -2.63074417e-01],\n",
              "       [-1.31830451e-01, -1.22964205e+00,  7.05850940e-01,\n",
              "         1.05859131e+00],\n",
              "       [-9.33312930e-03,  2.15026410e+00, -1.44896562e+00,\n",
              "        -1.32040700e+00],\n",
              "       [ 8.48148125e-01, -1.03006664e-01,  8.19262338e-01,\n",
              "         1.05859131e+00],\n",
              "       [-8.66814384e-01,  1.02362872e+00, -1.33555423e+00,\n",
              "        -1.32040700e+00],\n",
              "       [ 3.58158837e-01, -5.53660817e-01,  1.38793949e-01,\n",
              "         1.33425302e-01],\n",
              "       [ 6.03153481e-01, -1.22964205e+00,  7.05850940e-01,\n",
              "         9.26424741e-01],\n",
              "       [ 1.13164193e-01,  3.47647490e-01,  5.92439542e-01,\n",
              "         7.94258168e-01],\n",
              "       [-7.44317062e-01,  1.02362872e+00, -1.27884853e+00,\n",
              "        -1.32040700e+00],\n",
              "       [ 8.48148125e-01, -1.03006664e-01,  1.15949653e+00,\n",
              "         1.32292446e+00],\n",
              "       [-8.66814384e-01,  5.72974566e-01, -1.16543713e+00,\n",
              "        -9.23907283e-01],\n",
              "       [ 3.58158837e-01, -1.03006664e-01,  4.79028143e-01,\n",
              "         2.65591876e-01],\n",
              "       [-2.54327774e-01, -1.22964205e+00,  8.20882501e-02,\n",
              "        -1.30907844e-01],\n",
              "       [ 6.03153481e-01,  5.72974566e-01,  1.27290793e+00,\n",
              "         1.71942418e+00],\n",
              "       [ 3.58158837e-01, -3.28333740e-01,  5.35733842e-01,\n",
              "         2.65591876e-01],\n",
              "       [ 7.25650803e-01, -5.53660817e-01,  1.04608513e+00,\n",
              "         1.32292446e+00],\n",
              "       [-9.33312930e-03, -1.00431497e+00,  1.38793949e-01,\n",
              "         1.25872927e-03],\n",
              "       [ 8.48148125e-01, -5.53660817e-01,  4.79028143e-01,\n",
              "         3.97758449e-01],\n",
              "       [-2.54327774e-01, -1.03006664e-01,  4.22322444e-01,\n",
              "         3.97758449e-01],\n",
              "       [ 2.35661515e-01, -1.90562328e+00,  7.05850940e-01,\n",
              "         3.97758449e-01],\n",
              "       [-8.66814384e-01,  1.02362872e+00, -1.33555423e+00,\n",
              "        -1.18824043e+00],\n",
              "       [-2.54327774e-01, -1.03006664e-01,  1.95499648e-01,\n",
              "         1.33425302e-01],\n",
              "       [ 1.09314277e+00,  1.22320413e-01,  5.35733842e-01,\n",
              "         3.97758449e-01],\n",
              "       [ 3.58158837e-01, -5.53660817e-01,  5.35733842e-01,\n",
              "         1.25872927e-03],\n",
              "       [-9.89311706e-01,  1.02362872e+00, -1.39225993e+00,\n",
              "        -1.18824043e+00],\n",
              "       [ 1.21564009e+00, -5.53660817e-01,  5.92439542e-01,\n",
              "         2.65591876e-01],\n",
              "       [-7.44317062e-01,  2.37559118e+00, -1.27884853e+00,\n",
              "        -1.45257358e+00],\n",
              "       [ 6.03153481e-01,  7.98301643e-01,  1.04608513e+00,\n",
              "         1.58725761e+00],\n",
              "       [ 1.09314277e+00, -1.22964205e+00,  1.15949653e+00,\n",
              "         7.94258168e-01],\n",
              "       [-3.76825096e-01, -1.68029620e+00,  1.38793949e-01,\n",
              "         1.33425302e-01],\n",
              "       [ 1.09314277e+00, -1.03006664e-01,  7.05850940e-01,\n",
              "         6.62091595e-01],\n",
              "       [ 2.31811599e+00, -1.00431497e+00,  1.78325922e+00,\n",
              "         1.45509103e+00],\n",
              "       [-2.54327774e-01, -5.53660817e-01,  6.49145241e-01,\n",
              "         1.05859131e+00],\n",
              "       [ 6.03153481e-01, -5.53660817e-01,  7.62556639e-01,\n",
              "         3.97758449e-01],\n",
              "       [-1.47930099e+00,  7.98301643e-01, -1.33555423e+00,\n",
              "        -1.18824043e+00],\n",
              "       [-1.72429564e+00,  3.47647490e-01, -1.39225993e+00,\n",
              "        -1.32040700e+00],\n",
              "       [-2.54327774e-01, -7.78987893e-01,  2.52205347e-01,\n",
              "         1.33425302e-01],\n",
              "       [-1.47930099e+00,  1.22320413e-01, -1.27884853e+00,\n",
              "        -1.32040700e+00],\n",
              "       [-9.33312930e-03, -7.78987893e-01,  8.20882501e-02,\n",
              "         1.25872927e-03],\n",
              "       [-9.33312930e-03, -7.78987893e-01,  1.95499648e-01,\n",
              "        -2.63074417e-01],\n",
              "       [-1.35680367e+00,  3.47647490e-01, -1.22214283e+00,\n",
              "        -1.32040700e+00],\n",
              "       [ 4.80656159e-01, -3.28333740e-01,  3.08911046e-01,\n",
              "         1.33425302e-01],\n",
              "       [ 2.56311063e+00,  1.69960995e+00,  1.49973073e+00,\n",
              "         1.05859131e+00],\n",
              "       [ 1.58313206e+00, -1.03006664e-01,  1.21620223e+00,\n",
              "         1.19075789e+00],\n",
              "       [ 6.03153481e-01, -1.68029620e+00,  3.65616745e-01,\n",
              "         1.33425302e-01],\n",
              "       [-1.11180903e+00,  1.22320413e-01, -1.27884853e+00,\n",
              "        -1.45257358e+00],\n",
              "       [-9.89311706e-01, -2.35627743e+00, -1.44734546e-01,\n",
              "        -2.63074417e-01],\n",
              "       [ 3.58158837e-01, -1.03006664e-01,  6.49145241e-01,\n",
              "         7.94258168e-01],\n",
              "       [ 3.58158837e-01, -1.00431497e+00,  1.04608513e+00,\n",
              "         2.65591876e-01],\n",
              "       [-7.44317062e-01,  7.98301643e-01, -1.33555423e+00,\n",
              "        -1.32040700e+00],\n",
              "       [-4.99322418e-01,  1.92493703e+00, -1.39225993e+00,\n",
              "        -1.05607386e+00],\n",
              "       [-1.47930099e+00,  3.47647490e-01, -1.33555423e+00,\n",
              "        -1.32040700e+00],\n",
              "       [ 1.82812670e+00, -3.28333740e-01,  1.44302503e+00,\n",
              "         7.94258168e-01],\n",
              "       [ 1.21564009e+00, -1.03006664e-01,  9.89379435e-01,\n",
              "         1.19075789e+00],\n",
              "       [-3.76825096e-01, -1.45496912e+00, -3.13231480e-02,\n",
              "        -2.63074417e-01],\n",
              "       [ 7.25650803e-01,  1.22320413e-01,  9.89379435e-01,\n",
              "         7.94258168e-01],\n",
              "       [ 4.80656159e-01,  7.98301643e-01,  9.32673736e-01,\n",
              "         1.45509103e+00],\n",
              "       [ 6.03153481e-01, -1.22964205e+00,  6.49145241e-01,\n",
              "         3.97758449e-01],\n",
              "       [ 7.25650803e-01, -7.78987893e-01,  8.75968037e-01,\n",
              "         9.26424741e-01],\n",
              "       [-3.76825096e-01,  2.60091826e+00, -1.33555423e+00,\n",
              "        -1.32040700e+00],\n",
              "       [ 1.33813741e+00,  3.47647490e-01,  1.10279083e+00,\n",
              "         1.45509103e+00],\n",
              "       [-1.31830451e-01, -1.03006664e-01,  2.52205347e-01,\n",
              "         1.25872927e-03],\n",
              "       [ 6.03153481e-01, -7.78987893e-01,  6.49145241e-01,\n",
              "         7.94258168e-01],\n",
              "       [-1.23430635e+00, -1.03006664e-01, -1.33555423e+00,\n",
              "        -1.18824043e+00],\n",
              "       [-9.33312930e-03, -7.78987893e-01,  7.62556639e-01,\n",
              "         9.26424741e-01],\n",
              "       [-8.66814384e-01,  1.69960995e+00, -1.05202573e+00,\n",
              "        -1.05607386e+00],\n",
              "       [-1.84679296e+00, -1.03006664e-01, -1.50567132e+00,\n",
              "        -1.45257358e+00],\n",
              "       [-9.89311706e-01, -1.68029620e+00, -2.58145944e-01,\n",
              "        -2.63074417e-01],\n",
              "       [ 2.31811599e+00, -5.53660817e-01,  1.66984782e+00,\n",
              "         1.05859131e+00],\n",
              "       [-9.89311706e-01,  7.98301643e-01, -1.22214283e+00,\n",
              "        -1.05607386e+00],\n",
              "       [-1.23430635e+00,  1.22320413e-01, -1.22214283e+00,\n",
              "        -1.32040700e+00],\n",
              "       [ 6.03153481e-01,  5.72974566e-01,  5.35733842e-01,\n",
              "         5.29925022e-01],\n",
              "       [-4.99322418e-01,  7.98301643e-01, -1.27884853e+00,\n",
              "        -1.05607386e+00],\n",
              "       [ 4.80656159e-01, -5.53660817e-01,  5.92439542e-01,\n",
              "         7.94258168e-01],\n",
              "       [-1.23430635e+00,  7.98301643e-01, -1.05202573e+00,\n",
              "        -1.32040700e+00],\n",
              "       [-1.11180903e+00, -1.22964205e+00,  4.22322444e-01,\n",
              "         6.62091595e-01],\n",
              "       [-9.89311706e-01,  1.02362872e+00, -1.22214283e+00,\n",
              "        -7.91740710e-01],\n",
              "       [-8.66814384e-01,  1.69960995e+00, -1.22214283e+00,\n",
              "        -1.32040700e+00],\n",
              "       [-7.44317062e-01, -7.78987893e-01,  8.20882501e-02,\n",
              "         2.65591876e-01],\n",
              "       [ 2.19561867e+00, -1.03006664e-01,  1.61314212e+00,\n",
              "         1.19075789e+00],\n",
              "       [-1.23430635e+00,  7.98301643e-01, -1.22214283e+00,\n",
              "        -1.32040700e+00],\n",
              "       [ 7.25650803e-01,  3.47647490e-01,  8.75968037e-01,\n",
              "         1.45509103e+00],\n",
              "       [ 1.09314277e+00,  5.72974566e-01,  1.10279083e+00,\n",
              "         1.71942418e+00],\n",
              "       [-1.31830451e-01, -3.28333740e-01,  2.52205347e-01,\n",
              "         1.33425302e-01],\n",
              "       [-9.33312930e-03, -5.53660817e-01,  7.62556639e-01,\n",
              "         1.58725761e+00],\n",
              "       [-9.89311706e-01,  7.98301643e-01, -1.27884853e+00,\n",
              "        -1.32040700e+00],\n",
              "       [ 1.70562938e+00, -1.03006664e-01,  1.15949653e+00,\n",
              "         5.29925022e-01],\n",
              "       [ 1.13164193e-01, -1.03006664e-01,  2.52205347e-01,\n",
              "         3.97758449e-01],\n",
              "       [-9.89311706e-01,  5.72974566e-01, -1.33555423e+00,\n",
              "        -1.32040700e+00],\n",
              "       [-8.66814384e-01,  1.47428287e+00, -1.27884853e+00,\n",
              "        -1.05607386e+00],\n",
              "       [-1.35680367e+00,  3.47647490e-01, -1.39225993e+00,\n",
              "        -1.32040700e+00],\n",
              "       [-6.21819740e-01,  1.47428287e+00, -1.27884853e+00,\n",
              "        -1.32040700e+00],\n",
              "       [ 1.09314277e+00,  1.22320413e-01,  1.04608513e+00,\n",
              "         1.58725761e+00],\n",
              "       [-8.66814384e-01, -1.22964205e+00, -4.28263041e-01,\n",
              "        -1.30907844e-01],\n",
              "       [ 2.31811599e+00,  1.69960995e+00,  1.66984782e+00,\n",
              "         1.32292446e+00],\n",
              "       [-1.31830451e-01, -1.00431497e+00, -1.44734546e-01,\n",
              "        -2.63074417e-01],\n",
              "       [ 4.80656159e-01, -1.90562328e+00,  4.22322444e-01,\n",
              "         3.97758449e-01],\n",
              "       [-4.99322418e-01, -1.03006664e-01,  4.22322444e-01,\n",
              "         3.97758449e-01],\n",
              "       [-8.66814384e-01,  1.69960995e+00, -1.27884853e+00,\n",
              "        -1.18824043e+00],\n",
              "       [ 2.35661515e-01,  7.98301643e-01,  4.22322444e-01,\n",
              "         5.29925022e-01],\n",
              "       [-1.11180903e+00, -1.03006664e-01, -1.33555423e+00,\n",
              "        -1.32040700e+00],\n",
              "       [-9.89311706e-01, -1.03006664e-01, -1.22214283e+00,\n",
              "        -1.32040700e+00],\n",
              "       [ 1.33813741e+00,  1.22320413e-01,  9.32673736e-01,\n",
              "         1.19075789e+00],\n",
              "       [-1.47930099e+00,  1.24895580e+00, -1.56237702e+00,\n",
              "        -1.32040700e+00]])"
            ]
          },
          "metadata": {},
          "execution_count": 98
        }
      ]
    },
    {
      "cell_type": "code",
      "source": [
        "# Scaling the X_test data by using StandardScaler()\n",
        "scaler = StandardScaler()\n",
        "\n",
        "# Fitting the scaler\n",
        "X_scaler = scaler.fit(X_test)\n",
        "\n",
        "# Scaling data\n",
        "X_test_scaled = X_scaler.transform(X_test)\n",
        "X_test_scaled"
      ],
      "metadata": {
        "id": "GzwsMJqLfrPo",
        "colab": {
          "base_uri": "https://localhost:8080/"
        },
        "outputId": "6b02c605-f9d8-4fe3-8439-f5da47deee55"
      },
      "execution_count": 99,
      "outputs": [
        {
          "output_type": "execute_result",
          "data": {
            "text/plain": [
              "array([[ 1.15880315e+00,  6.61722223e-02,  7.63269830e-01,\n",
              "         1.43174515e+00],\n",
              "       [ 8.73070868e-02, -1.81973611e-01,  5.91534118e-01,\n",
              "         7.82263984e-01],\n",
              "       [ 5.63527560e-01, -6.78265278e-01,  1.04949602e+00,\n",
              "         1.17195268e+00],\n",
              "       [ 1.75407874e+00, -6.78265278e-01,  1.33572220e+00,\n",
              "         9.12160218e-01],\n",
              "       [ 8.01637797e-01, -4.30119445e-01,  4.77043644e-01,\n",
              "         1.32782816e-01],\n",
              "       [-1.10324410e+00,  3.14318056e-01, -1.46929442e+00,\n",
              "        -1.29607575e+00],\n",
              "       [ 9.20692915e-01,  6.61722223e-02,  3.62553169e-01,\n",
              "         2.62679050e-01],\n",
              "       [-6.27023623e-01,  1.55504722e+00, -1.29755871e+00,\n",
              "        -1.29607575e+00],\n",
              "       [-1.22229922e+00,  6.61722223e-02, -1.29755871e+00,\n",
              "        -1.42597199e+00],\n",
              "       [ 1.15880315e+00,  6.61722223e-02,  6.48779355e-01,\n",
              "         3.92575283e-01],\n",
              "       [-5.07968505e-01,  1.05875556e+00, -1.41204919e+00,\n",
              "        -1.29607575e+00],\n",
              "       [ 9.20692915e-01,  5.62463889e-01,  1.10674125e+00,\n",
              "         1.17195268e+00],\n",
              "       [-2.69858268e-01,  3.29206806e+00, -1.29755871e+00,\n",
              "        -1.03628329e+00],\n",
              "       [ 8.73070868e-02, -9.26411112e-01,  7.63269830e-01,\n",
              "         5.22471517e-01],\n",
              "       [ 1.51596851e+00,  1.30690139e+00,  1.33572220e+00,\n",
              "         1.69153762e+00],\n",
              "       [-1.81757481e+00, -4.30119445e-01, -1.35480395e+00,\n",
              "        -1.29607575e+00],\n",
              "       [-1.22229922e+00,  6.61722223e-02, -1.29755871e+00,\n",
              "        -1.42597199e+00],\n",
              "       [-6.27023623e-01,  8.10609723e-01, -1.18306824e+00,\n",
              "        -1.29607575e+00],\n",
              "       [-2.69858268e-01, -6.78265278e-01,  1.90817457e-01,\n",
              "         1.32782816e-01],\n",
              "       [-9.84188978e-01,  8.10609723e-01, -1.29755871e+00,\n",
              "        -1.29607575e+00],\n",
              "       [ 9.20692915e-01, -1.81973611e-01,  8.20515067e-01,\n",
              "         1.43174515e+00],\n",
              "       [ 1.51596851e+00,  3.14318056e-01,  1.27847696e+00,\n",
              "         7.82263984e-01],\n",
              "       [ 4.44472442e-01, -4.30119445e-01,  1.04949602e+00,\n",
              "         7.82263984e-01],\n",
              "       [-1.34135433e+00, -1.81973611e-01, -1.35480395e+00,\n",
              "        -1.42597199e+00],\n",
              "       [ 8.73070868e-02, -4.30119445e-01,  4.19798406e-01,\n",
              "         3.92575283e-01],\n",
              "       [-2.69858268e-01, -6.78265278e-01,  4.19798406e-01,\n",
              "         1.32782816e-01],\n",
              "       [-5.07968505e-01, -1.67084861e+00,  1.90817457e-02,\n",
              "        -1.27009651e-01],\n",
              "       [-2.69858268e-01,  1.80319306e+00, -1.18306824e+00,\n",
              "        -1.16617952e+00],\n",
              "       [-6.27023623e-01,  2.05133889e+00, -1.18306824e+00,\n",
              "        -1.03628329e+00],\n",
              "       [-3.88913387e-01, -4.30119445e-01, -9.54087287e-02,\n",
              "         1.32782816e-01],\n",
              "       [ 2.11124410e+00, -1.81973611e-01,  1.33572220e+00,\n",
              "         1.43174515e+00],\n",
              "       [ 1.03974803e+00,  3.14318056e-01,  1.22123173e+00,\n",
              "         1.43174515e+00],\n",
              "       [-1.81757481e+00, -1.81973611e-01, -1.41204919e+00,\n",
              "        -1.29607575e+00],\n",
              "       [-1.10324410e+00,  1.30690139e+00, -1.35480395e+00,\n",
              "        -1.29607575e+00],\n",
              "       [ 1.27785827e+00,  3.14318056e-01,  5.34288881e-01,\n",
              "         2.62679050e-01],\n",
              "       [ 6.82582679e-01, -1.81973611e-01,  9.92250779e-01,\n",
              "         7.82263984e-01],\n",
              "       [-3.17480316e-02, -1.81973611e-01,  7.63269830e-01,\n",
              "         7.82263984e-01],\n",
              "       [ 5.63527560e-01, -4.30119445e-01,  3.05307932e-01,\n",
              "         1.32782816e-01],\n",
              "       [-1.22229922e+00, -1.67084861e+00, -2.67144440e-01,\n",
              "        -2.56905884e-01],\n",
              "       [ 6.82582679e-01,  3.14318056e-01,  7.63269830e-01,\n",
              "         1.04205645e+00],\n",
              "       [ 8.01637797e-01, -1.81973611e-01,  3.62553169e-01,\n",
              "         2.62679050e-01],\n",
              "       [-5.07968505e-01, -1.17455695e+00,  3.62553169e-01,\n",
              "         2.88658297e-03],\n",
              "       [-1.69851969e+00, -1.91899445e+00, -1.41204919e+00,\n",
              "        -1.16617952e+00],\n",
              "       [-1.50803150e-01, -9.26411112e-01,  7.63269830e-01,\n",
              "         9.12160218e-01],\n",
              "       [-5.07968505e-01, -1.42270278e+00,  1.33572220e-01,\n",
              "         1.32782816e-01]])"
            ]
          },
          "metadata": {},
          "execution_count": 99
        }
      ]
    },
    {
      "cell_type": "markdown",
      "source": [
        "### Instantiate the model, a KNN Classifier with 5 Neighbors"
      ],
      "metadata": {
        "id": "HdIxhOxG9dvt"
      }
    },
    {
      "cell_type": "markdown",
      "source": [
        "**Q2**\n",
        "\n",
        "**Data set: Iris**\n",
        "\n",
        "* Fit the Iris dataset into a kNN model with neighbors=5 and predict the category of observations passed in \n",
        "argument new_observations. Return back the target names of each prediction (and not their encoded values,\n",
        " i.e. return setosa instead of 0)."
      ],
      "metadata": {
        "id": "o2GEIhqzlT-i"
      }
    },
    {
      "cell_type": "markdown",
      "source": [
        "**Q3** 15 pts\n",
        "\n",
        "**Data set: Iris**\n",
        "\n",
        "* Split the Iris dataset into a train / test model with the split ratio between the two established by the function parameter split.\n",
        "\n",
        "* Fit KNN with the training data with number of neighbors equal to the function parameter neighbors\n",
        "\n",
        "* Generate and return back an accuracy score using the test data that was split out"
      ],
      "metadata": {
        "id": "GHAeLfKCh29o"
      }
    },
    {
      "cell_type": "markdown",
      "source": [],
      "metadata": {
        "id": "cuoYVrhychAr"
      }
    },
    {
      "cell_type": "code",
      "source": [
        "knn = KNN(n_neighbors=5)\n",
        "\n",
        "knn"
      ],
      "metadata": {
        "colab": {
          "base_uri": "https://localhost:8080/"
        },
        "id": "O1pZiU2Zt1U1",
        "outputId": "46b6e010-463a-4ec4-cc23-8efe9883be41"
      },
      "execution_count": 100,
      "outputs": [
        {
          "output_type": "execute_result",
          "data": {
            "text/plain": [
              "KNeighborsClassifier()"
            ]
          },
          "metadata": {},
          "execution_count": 100
        }
      ]
    },
    {
      "cell_type": "markdown",
      "source": [
        "### Fit the model classifier on the training data"
      ],
      "metadata": {
        "id": "QzAGeESf-OrC"
      }
    },
    {
      "cell_type": "code",
      "source": [
        "# knn.fit(X_train_scaled, y_train)\n",
        "knn.fit(X_train, y_train)"
      ],
      "metadata": {
        "id": "wyqbRKh5lAzg",
        "colab": {
          "base_uri": "https://localhost:8080/"
        },
        "outputId": "b6202f5b-811b-4a10-ec82-bd7f3e1a63df"
      },
      "execution_count": 101,
      "outputs": [
        {
          "output_type": "execute_result",
          "data": {
            "text/plain": [
              "KNeighborsClassifier()"
            ]
          },
          "metadata": {},
          "execution_count": 101
        }
      ]
    },
    {
      "cell_type": "markdown",
      "source": [
        "### Now pass the unseen data using the .predict() method and passing the multi dimensional NumPy array"
      ],
      "metadata": {
        "id": "MEzwYMcN-puR"
      }
    },
    {
      "cell_type": "code",
      "source": [
        "# y_pred = knn.predict(X_test_scaled)\n",
        "y_pred = knn.predict(X_test)"
      ],
      "metadata": {
        "id": "1cshPX1pYGia"
      },
      "execution_count": 102,
      "outputs": []
    },
    {
      "cell_type": "markdown",
      "source": [
        "### Print the predictions for X_test"
      ],
      "metadata": {
        "id": "gtL1YRMJexDH"
      }
    },
    {
      "cell_type": "code",
      "source": [
        "print(\"Predictions: {}\".format(y_pred))"
      ],
      "metadata": {
        "colab": {
          "base_uri": "https://localhost:8080/"
        },
        "id": "5DnesPsaeyrF",
        "outputId": "440ed426-fb57-435b-a396-81d1a09231c8"
      },
      "execution_count": 103,
      "outputs": [
        {
          "output_type": "stream",
          "name": "stdout",
          "text": [
            "Predictions: [2 2 2 2 1 0 1 0 0 1 0 2 0 2 2 0 0 0 1 0 2 2 2 0 1 1 1 0 0 1 2 2 0 0 1 2 2\n",
            " 1 1 2 1 1 0 2 1]\n"
          ]
        }
      ]
    },
    {
      "cell_type": "markdown",
      "source": [
        "### Measuring the model Performance for checking if the model is making correct predictions"
      ],
      "metadata": {
        "id": "Y-Mh-eeyhGLI"
      }
    },
    {
      "cell_type": "code",
      "source": [
        "knn.score(X_test, y_test)"
      ],
      "metadata": {
        "colab": {
          "base_uri": "https://localhost:8080/"
        },
        "id": "dx4KOMRFhQPQ",
        "outputId": "2794eba1-779a-4686-d8d9-2699cb6fbe8e"
      },
      "execution_count": 104,
      "outputs": [
        {
          "output_type": "execute_result",
          "data": {
            "text/plain": [
              "0.9777777777777777"
            ]
          },
          "metadata": {},
          "execution_count": 104
        }
      ]
    },
    {
      "cell_type": "markdown",
      "source": [
        "### How to interpret K;\n",
        "Large K = less complex model = can cause underfitting (less able to detect relationship in the datasets)\n",
        "\n",
        "Small K = more complex model = can lead to overfitting (sensitive to noise in the data rather than reflecting general trends)\n"
      ],
      "metadata": {
        "id": "ppjC22x3kcuy"
      }
    },
    {
      "cell_type": "markdown",
      "source": [
        "**Q4**\n",
        "\n",
        "**Data set: Iris**\n",
        "\n",
        "* Generate an overfitting / underfitting curve of kNN each of the testing and training accuracy performance scores series for a range of neighbor (k) values from 1 to 30 and plot the curves (number of neighbors is x-axis, performance score is y-axis on the chart)."
      ],
      "metadata": {
        "id": "GupwxBDVl8n2"
      }
    },
    {
      "cell_type": "markdown",
      "source": [
        "### Model Complexity Curve and over/underfitting"
      ],
      "metadata": {
        "id": "pzB-wkqYldc6"
      }
    },
    {
      "cell_type": "markdown",
      "source": [
        "### Plotting the Curves:"
      ],
      "metadata": {
        "id": "Q_kiMJueqX0W"
      }
    },
    {
      "cell_type": "code",
      "source": [
        "# To plot test accuracy and train accuracy Vs K value.\n",
        "p = list(range(1, 31))\n",
        "lst_test =[]\n",
        "lst_train =[]\n",
        "for i in p:\n",
        "    knn = KNN(n_neighbors = i)\n",
        "    knn.fit(X_train, y_train)\n",
        "    z = knn.score(X_test, y_test)\n",
        "    t = knn.score(X_train, y_train)\n",
        "    lst_test.append(z)\n",
        "    lst_train.append(t)\n",
        "      \n",
        "plt.plot(p, lst_test, color ='red', label ='Test Accuracy')\n",
        "plt.plot(p, lst_train, color ='b', label ='Train Accuracy')\n",
        "plt.xlabel('K VALUES --->')\n",
        "plt.title('FINDING BEST VALUE FOR K')\n",
        "plt.legend()"
      ],
      "metadata": {
        "id": "VL18-LzeqjRx",
        "colab": {
          "base_uri": "https://localhost:8080/",
          "height": 312
        },
        "outputId": "3aac8d53-fef8-49ce-ae00-9b78159a3c93"
      },
      "execution_count": 105,
      "outputs": [
        {
          "output_type": "execute_result",
          "data": {
            "text/plain": [
              "<matplotlib.legend.Legend at 0x7f248f51f410>"
            ]
          },
          "metadata": {},
          "execution_count": 105
        },
        {
          "output_type": "display_data",
          "data": {
            "text/plain": [
              "<Figure size 432x288 with 1 Axes>"
            ],
            "image/png": "[encoded data removed]"
          },
          "metadata": {
            "needs_background": "light"
          }
        }
      ]
    },
    {
      "cell_type": "markdown",
      "source": [
        "**Q5** 10 pts\n",
        "\n",
        "**Data set: Boston**\n",
        "\n",
        "\n",
        "* Load sklearn's Boston data into a DataFrame (only the data and feature_name as column names)\n",
        "\n",
        "* Load sklearn's Boston target values into a separate DataFrame\n",
        "\n",
        "* Return back the average of AGE, average of the target (median value of homes or MEDV), and the target as NumPy values "
      ],
      "metadata": {
        "id": "NQ8WM1UJl8Iy"
      }
    },
    {
      "cell_type": "code",
      "source": [
        "# Loading the dataset\n",
        "boston_data = ds.load_boston()\n",
        "boston_data"
      ],
      "metadata": {
        "id": "-Qi-PJvxlA8O",
        "colab": {
          "base_uri": "https://localhost:8080/"
        },
        "outputId": "efc46963-c916-4396-eb7e-e7d9158a0271"
      },
      "execution_count": 106,
      "outputs": [
        {
          "output_type": "stream",
          "name": "stderr",
          "text": [
            "/usr/local/lib/python3.7/dist-packages/sklearn/utils/deprecation.py:87: FutureWarning: Function load_boston is deprecated; `load_boston` is deprecated in 1.0 and will be removed in 1.2.\n",
            "\n",
            "    The Boston housing prices dataset has an ethical problem. You can refer to\n",
            "    the documentation of this function for further details.\n",
            "\n",
            "    The scikit-learn maintainers therefore strongly discourage the use of this\n",
            "    dataset unless the purpose of the code is to study and educate about\n",
            "    ethical issues in data science and machine learning.\n",
            "\n",
            "    In this special case, you can fetch the dataset from the original\n",
            "    source::\n",
            "\n",
            "        import pandas as pd\n",
            "        import numpy as np\n",
            "\n",
            "\n",
            "        data_url = \"http://lib.stat.cmu.edu/datasets/boston\"\n",
            "        raw_df = pd.read_csv(data_url, sep=\"\\s+\", skiprows=22, header=None)\n",
            "        data = np.hstack([raw_df.values[::2, :], raw_df.values[1::2, :2]])\n",
            "        target = raw_df.values[1::2, 2]\n",
            "\n",
            "    Alternative datasets include the California housing dataset (i.e.\n",
            "    :func:`~sklearn.datasets.fetch_california_housing`) and the Ames housing\n",
            "    dataset. You can load the datasets as follows::\n",
            "\n",
            "        from sklearn.datasets import fetch_california_housing\n",
            "        housing = fetch_california_housing()\n",
            "\n",
            "    for the California housing dataset and::\n",
            "\n",
            "        from sklearn.datasets import fetch_openml\n",
            "        housing = fetch_openml(name=\"house_prices\", as_frame=True)\n",
            "\n",
            "    for the Ames housing dataset.\n",
            "    \n",
            "  warnings.warn(msg, category=FutureWarning)\n"
          ]
        },
        {
          "output_type": "execute_result",
          "data": {
            "text/plain": [
              "{'data': array([[6.3200e-03, 1.8000e+01, 2.3100e+00, ..., 1.5300e+01, 3.9690e+02,\n",
              "         4.9800e+00],\n",
              "        [2.7310e-02, 0.0000e+00, 7.0700e+00, ..., 1.7800e+01, 3.9690e+02,\n",
              "         9.1400e+00],\n",
              "        [2.7290e-02, 0.0000e+00, 7.0700e+00, ..., 1.7800e+01, 3.9283e+02,\n",
              "         4.0300e+00],\n",
              "        ...,\n",
              "        [6.0760e-02, 0.0000e+00, 1.1930e+01, ..., 2.1000e+01, 3.9690e+02,\n",
              "         5.6400e+00],\n",
              "        [1.0959e-01, 0.0000e+00, 1.1930e+01, ..., 2.1000e+01, 3.9345e+02,\n",
              "         6.4800e+00],\n",
              "        [4.7410e-02, 0.0000e+00, 1.1930e+01, ..., 2.1000e+01, 3.9690e+02,\n",
              "         7.8800e+00]]),\n",
              " 'target': array([24. , 21.6, 34.7, 33.4, 36.2, 28.7, 22.9, 27.1, 16.5, 18.9, 15. ,\n",
              "        18.9, 21.7, 20.4, 18.2, 19.9, 23.1, 17.5, 20.2, 18.2, 13.6, 19.6,\n",
              "        15.2, 14.5, 15.6, 13.9, 16.6, 14.8, 18.4, 21. , 12.7, 14.5, 13.2,\n",
              "        13.1, 13.5, 18.9, 20. , 21. , 24.7, 30.8, 34.9, 26.6, 25.3, 24.7,\n",
              "        21.2, 19.3, 20. , 16.6, 14.4, 19.4, 19.7, 20.5, 25. , 23.4, 18.9,\n",
              "        35.4, 24.7, 31.6, 23.3, 19.6, 18.7, 16. , 22.2, 25. , 33. , 23.5,\n",
              "        19.4, 22. , 17.4, 20.9, 24.2, 21.7, 22.8, 23.4, 24.1, 21.4, 20. ,\n",
              "        20.8, 21.2, 20.3, 28. , 23.9, 24.8, 22.9, 23.9, 26.6, 22.5, 22.2,\n",
              "        23.6, 28.7, 22.6, 22. , 22.9, 25. , 20.6, 28.4, 21.4, 38.7, 43.8,\n",
              "        33.2, 27.5, 26.5, 18.6, 19.3, 20.1, 19.5, 19.5, 20.4, 19.8, 19.4,\n",
              "        21.7, 22.8, 18.8, 18.7, 18.5, 18.3, 21.2, 19.2, 20.4, 19.3, 22. ,\n",
              "        20.3, 20.5, 17.3, 18.8, 21.4, 15.7, 16.2, 18. , 14.3, 19.2, 19.6,\n",
              "        23. , 18.4, 15.6, 18.1, 17.4, 17.1, 13.3, 17.8, 14. , 14.4, 13.4,\n",
              "        15.6, 11.8, 13.8, 15.6, 14.6, 17.8, 15.4, 21.5, 19.6, 15.3, 19.4,\n",
              "        17. , 15.6, 13.1, 41.3, 24.3, 23.3, 27. , 50. , 50. , 50. , 22.7,\n",
              "        25. , 50. , 23.8, 23.8, 22.3, 17.4, 19.1, 23.1, 23.6, 22.6, 29.4,\n",
              "        23.2, 24.6, 29.9, 37.2, 39.8, 36.2, 37.9, 32.5, 26.4, 29.6, 50. ,\n",
              "        32. , 29.8, 34.9, 37. , 30.5, 36.4, 31.1, 29.1, 50. , 33.3, 30.3,\n",
              "        34.6, 34.9, 32.9, 24.1, 42.3, 48.5, 50. , 22.6, 24.4, 22.5, 24.4,\n",
              "        20. , 21.7, 19.3, 22.4, 28.1, 23.7, 25. , 23.3, 28.7, 21.5, 23. ,\n",
              "        26.7, 21.7, 27.5, 30.1, 44.8, 50. , 37.6, 31.6, 46.7, 31.5, 24.3,\n",
              "        31.7, 41.7, 48.3, 29. , 24. , 25.1, 31.5, 23.7, 23.3, 22. , 20.1,\n",
              "        22.2, 23.7, 17.6, 18.5, 24.3, 20.5, 24.5, 26.2, 24.4, 24.8, 29.6,\n",
              "        42.8, 21.9, 20.9, 44. , 50. , 36. , 30.1, 33.8, 43.1, 48.8, 31. ,\n",
              "        36.5, 22.8, 30.7, 50. , 43.5, 20.7, 21.1, 25.2, 24.4, 35.2, 32.4,\n",
              "        32. , 33.2, 33.1, 29.1, 35.1, 45.4, 35.4, 46. , 50. , 32.2, 22. ,\n",
              "        20.1, 23.2, 22.3, 24.8, 28.5, 37.3, 27.9, 23.9, 21.7, 28.6, 27.1,\n",
              "        20.3, 22.5, 29. , 24.8, 22. , 26.4, 33.1, 36.1, 28.4, 33.4, 28.2,\n",
              "        22.8, 20.3, 16.1, 22.1, 19.4, 21.6, 23.8, 16.2, 17.8, 19.8, 23.1,\n",
              "        21. , 23.8, 23.1, 20.4, 18.5, 25. , 24.6, 23. , 22.2, 19.3, 22.6,\n",
              "        19.8, 17.1, 19.4, 22.2, 20.7, 21.1, 19.5, 18.5, 20.6, 19. , 18.7,\n",
              "        32.7, 16.5, 23.9, 31.2, 17.5, 17.2, 23.1, 24.5, 26.6, 22.9, 24.1,\n",
              "        18.6, 30.1, 18.2, 20.6, 17.8, 21.7, 22.7, 22.6, 25. , 19.9, 20.8,\n",
              "        16.8, 21.9, 27.5, 21.9, 23.1, 50. , 50. , 50. , 50. , 50. , 13.8,\n",
              "        13.8, 15. , 13.9, 13.3, 13.1, 10.2, 10.4, 10.9, 11.3, 12.3,  8.8,\n",
              "         7.2, 10.5,  7.4, 10.2, 11.5, 15.1, 23.2,  9.7, 13.8, 12.7, 13.1,\n",
              "        12.5,  8.5,  5. ,  6.3,  5.6,  7.2, 12.1,  8.3,  8.5,  5. , 11.9,\n",
              "        27.9, 17.2, 27.5, 15. , 17.2, 17.9, 16.3,  7. ,  7.2,  7.5, 10.4,\n",
              "         8.8,  8.4, 16.7, 14.2, 20.8, 13.4, 11.7,  8.3, 10.2, 10.9, 11. ,\n",
              "         9.5, 14.5, 14.1, 16.1, 14.3, 11.7, 13.4,  9.6,  8.7,  8.4, 12.8,\n",
              "        10.5, 17.1, 18.4, 15.4, 10.8, 11.8, 14.9, 12.6, 14.1, 13. , 13.4,\n",
              "        15.2, 16.1, 17.8, 14.9, 14.1, 12.7, 13.5, 14.9, 20. , 16.4, 17.7,\n",
              "        19.5, 20.2, 21.4, 19.9, 19. , 19.1, 19.1, 20.1, 19.9, 19.6, 23.2,\n",
              "        29.8, 13.8, 13.3, 16.7, 12. , 14.6, 21.4, 23. , 23.7, 25. , 21.8,\n",
              "        20.6, 21.2, 19.1, 20.6, 15.2,  7. ,  8.1, 13.6, 20.1, 21.8, 24.5,\n",
              "        23.1, 19.7, 18.3, 21.2, 17.5, 16.8, 22.4, 20.6, 23.9, 22. , 11.9]),\n",
              " 'feature_names': array(['CRIM', 'ZN', 'INDUS', 'CHAS', 'NOX', 'RM', 'AGE', 'DIS', 'RAD',\n",
              "        'TAX', 'PTRATIO', 'B', 'LSTAT'], dtype='<U7'),\n",
              " 'DESCR': \".. _boston_dataset:\\n\\nBoston house prices dataset\\n---------------------------\\n\\n**Data Set Characteristics:**  \\n\\n    :Number of Instances: 506 \\n\\n    :Number of Attributes: 13 numeric/categorical predictive. Median Value (attribute 14) is usually the target.\\n\\n    :Attribute Information (in order):\\n        - CRIM     per capita crime rate by town\\n        - ZN       proportion of residential land zoned for lots over 25,000 sq.ft.\\n        - INDUS    proportion of non-retail business acres per town\\n        - CHAS     Charles River dummy variable (= 1 if tract bounds river; 0 otherwise)\\n        - NOX      nitric oxides concentration (parts per 10 million)\\n        - RM       average number of rooms per dwelling\\n        - AGE      proportion of owner-occupied units built prior to 1940\\n        - DIS      weighted distances to five Boston employment centres\\n        - RAD      index of accessibility to radial highways\\n        - TAX      full-value property-tax rate per $10,000\\n        - PTRATIO  pupil-teacher ratio by town\\n        - B        1000(Bk - 0.63)^2 where Bk is the proportion of black people by town\\n        - LSTAT    % lower status of the population\\n        - MEDV     Median value of owner-occupied homes in $1000's\\n\\n    :Missing Attribute Values: None\\n\\n    :Creator: Harrison, D. and Rubinfeld, D.L.\\n\\nThis is a copy of UCI ML housing dataset.\\nhttps://archive.ics.uci.edu/ml/machine-learning-databases/housing/\\n\\n\\nThis dataset was taken from the StatLib library which is maintained at Carnegie Mellon University.\\n\\nThe Boston house-price data of Harrison, D. and Rubinfeld, D.L. 'Hedonic\\nprices and the demand for clean air', J. Environ. Economics & Management,\\nvol.5, 81-102, 1978.   Used in Belsley, Kuh & Welsch, 'Regression diagnostics\\n...', Wiley, 1980.   N.B. Various transformations are used in the table on\\npages 244-261 of the latter.\\n\\nThe Boston house-price data has been used in many machine learning papers that address regression\\nproblems.   \\n     \\n.. topic:: References\\n\\n   - Belsley, Kuh & Welsch, 'Regression diagnostics: Identifying Influential Data and Sources of Collinearity', Wiley, 1980. 244-261.\\n   - Quinlan,R. (1993). Combining Instance-Based and Model-Based Learning. In Proceedings on the Tenth International Conference of Machine Learning, 236-243, University of Massachusetts, Amherst. Morgan Kaufmann.\\n\",\n",
              " 'filename': 'boston_house_prices.csv',\n",
              " 'data_module': 'sklearn.datasets.data'}"
            ]
          },
          "metadata": {},
          "execution_count": 106
        }
      ]
    },
    {
      "cell_type": "code",
      "source": [
        "type(boston_data)\n",
        "boston_data['data']"
      ],
      "metadata": {
        "colab": {
          "base_uri": "https://localhost:8080/"
        },
        "id": "1xolGpHM6RZK",
        "outputId": "f1f3b574-bba7-42b5-fe3c-5d7ce7c2f106"
      },
      "execution_count": 107,
      "outputs": [
        {
          "output_type": "execute_result",
          "data": {
            "text/plain": [
              "array([[6.3200e-03, 1.8000e+01, 2.3100e+00, ..., 1.5300e+01, 3.9690e+02,\n",
              "        4.9800e+00],\n",
              "       [2.7310e-02, 0.0000e+00, 7.0700e+00, ..., 1.7800e+01, 3.9690e+02,\n",
              "        9.1400e+00],\n",
              "       [2.7290e-02, 0.0000e+00, 7.0700e+00, ..., 1.7800e+01, 3.9283e+02,\n",
              "        4.0300e+00],\n",
              "       ...,\n",
              "       [6.0760e-02, 0.0000e+00, 1.1930e+01, ..., 2.1000e+01, 3.9690e+02,\n",
              "        5.6400e+00],\n",
              "       [1.0959e-01, 0.0000e+00, 1.1930e+01, ..., 2.1000e+01, 3.9345e+02,\n",
              "        6.4800e+00],\n",
              "       [4.7410e-02, 0.0000e+00, 1.1930e+01, ..., 2.1000e+01, 3.9690e+02,\n",
              "        7.8800e+00]])"
            ]
          },
          "metadata": {},
          "execution_count": 107
        }
      ]
    },
    {
      "cell_type": "code",
      "source": [
        "boston_data['data'].shape"
      ],
      "metadata": {
        "colab": {
          "base_uri": "https://localhost:8080/"
        },
        "id": "SOih5aFcA3Ta",
        "outputId": "87765860-1947-4024-8d36-ca528d0299ca"
      },
      "execution_count": 108,
      "outputs": [
        {
          "output_type": "execute_result",
          "data": {
            "text/plain": [
              "(506, 13)"
            ]
          },
          "metadata": {},
          "execution_count": 108
        }
      ]
    },
    {
      "cell_type": "code",
      "source": [
        "boston_data['feature_names']"
      ],
      "metadata": {
        "colab": {
          "base_uri": "https://localhost:8080/"
        },
        "id": "NUK4hdL6A3Zw",
        "outputId": "c1eae2eb-d318-4616-e169-b09da200855e"
      },
      "execution_count": 109,
      "outputs": [
        {
          "output_type": "execute_result",
          "data": {
            "text/plain": [
              "array(['CRIM', 'ZN', 'INDUS', 'CHAS', 'NOX', 'RM', 'AGE', 'DIS', 'RAD',\n",
              "       'TAX', 'PTRATIO', 'B', 'LSTAT'], dtype='<U7')"
            ]
          },
          "metadata": {},
          "execution_count": 109
        }
      ]
    },
    {
      "cell_type": "code",
      "source": [
        "boston_data['target'].shape"
      ],
      "metadata": {
        "colab": {
          "base_uri": "https://localhost:8080/"
        },
        "id": "UWo5OD1MBFXn",
        "outputId": "41b59fe5-4c24-46f4-cb30-f8578beeb5aa"
      },
      "execution_count": 110,
      "outputs": [
        {
          "output_type": "execute_result",
          "data": {
            "text/plain": [
              "(506,)"
            ]
          },
          "metadata": {},
          "execution_count": 110
        }
      ]
    },
    {
      "cell_type": "markdown",
      "source": [
        "### Loading Data into dataframe checking the keys"
      ],
      "metadata": {
        "id": "Kb8_J2OY7elF"
      }
    },
    {
      "cell_type": "code",
      "source": [
        "boston_data.keys()"
      ],
      "metadata": {
        "colab": {
          "base_uri": "https://localhost:8080/"
        },
        "id": "wI3lqJAK60Fw",
        "outputId": "6259dcef-2da6-4d1e-936c-2af22a168d8e"
      },
      "execution_count": 111,
      "outputs": [
        {
          "output_type": "execute_result",
          "data": {
            "text/plain": [
              "dict_keys(['data', 'target', 'feature_names', 'DESCR', 'filename', 'data_module'])"
            ]
          },
          "metadata": {},
          "execution_count": 111
        }
      ]
    },
    {
      "cell_type": "code",
      "source": [
        "boston_df = pd.DataFrame(boston_data.data)\n",
        "boston_df.shape"
      ],
      "metadata": {
        "colab": {
          "base_uri": "https://localhost:8080/"
        },
        "id": "4Buc5Xfe7Mhb",
        "outputId": "bd8dd97a-5fea-4f0b-ee36-330451902eb1"
      },
      "execution_count": 112,
      "outputs": [
        {
          "output_type": "execute_result",
          "data": {
            "text/plain": [
              "(506, 13)"
            ]
          },
          "metadata": {},
          "execution_count": 112
        }
      ]
    },
    {
      "cell_type": "code",
      "source": [
        "print(boston_data.feature_names)"
      ],
      "metadata": {
        "colab": {
          "base_uri": "https://localhost:8080/"
        },
        "id": "vIRohSxw84lm",
        "outputId": "b74e64ca-ea65-49db-a717-044e8603a398"
      },
      "execution_count": 113,
      "outputs": [
        {
          "output_type": "stream",
          "name": "stdout",
          "text": [
            "['CRIM' 'ZN' 'INDUS' 'CHAS' 'NOX' 'RM' 'AGE' 'DIS' 'RAD' 'TAX' 'PTRATIO'\n",
            " 'B' 'LSTAT']\n"
          ]
        }
      ]
    },
    {
      "cell_type": "code",
      "source": [
        "print(boston_data.DESCR)"
      ],
      "metadata": {
        "id": "DLWAvikA84tI"
      },
      "execution_count": null,
      "outputs": []
    },
    {
      "cell_type": "markdown",
      "source": [
        "### Add the column names by using the feature_names method and pass the column names into boston_pd."
      ],
      "metadata": {
        "id": "k5pKDBK4-TUi"
      }
    },
    {
      "cell_type": "code",
      "source": [
        "boston_df.columns = boston_data.feature_names\n",
        "print(boston_df)"
      ],
      "metadata": {
        "id": "cOXPlBTM-XlB"
      },
      "execution_count": null,
      "outputs": []
    },
    {
      "cell_type": "code",
      "source": [
        "boston_df.columns"
      ],
      "metadata": {
        "colab": {
          "base_uri": "https://localhost:8080/"
        },
        "id": "C2Brtv2ZCZzO",
        "outputId": "84fe9fa8-061a-4727-f245-d884cffe0f1e"
      },
      "execution_count": 116,
      "outputs": [
        {
          "output_type": "execute_result",
          "data": {
            "text/plain": [
              "Index(['CRIM', 'ZN', 'INDUS', 'CHAS', 'NOX', 'RM', 'AGE', 'DIS', 'RAD', 'TAX',\n",
              "       'PTRATIO', 'B', 'LSTAT'],\n",
              "      dtype='object')"
            ]
          },
          "metadata": {},
          "execution_count": 116
        }
      ]
    },
    {
      "cell_type": "markdown",
      "source": [
        "### Loading the Target into seperate dataframe"
      ],
      "metadata": {
        "id": "d_tBdr6IC3da"
      }
    },
    {
      "cell_type": "code",
      "source": [
        "boston_data['target'].shape"
      ],
      "metadata": {
        "colab": {
          "base_uri": "https://localhost:8080/"
        },
        "id": "6CVMWgSSM8T8",
        "outputId": "83e81cfb-763b-45b8-9a71-06c93bd5bf85"
      },
      "execution_count": 123,
      "outputs": [
        {
          "output_type": "execute_result",
          "data": {
            "text/plain": [
              "(506,)"
            ]
          },
          "metadata": {},
          "execution_count": 123
        }
      ]
    },
    {
      "cell_type": "code",
      "source": [
        "boston_data.target\n",
        "target_df= pd.DataFrame(boston_data.target)\n",
        "target_df.shape"
      ],
      "metadata": {
        "colab": {
          "base_uri": "https://localhost:8080/"
        },
        "id": "K9p_SpoeC1NO",
        "outputId": "5db8c566-4e52-48f8-e553-eec9057df160"
      },
      "execution_count": 124,
      "outputs": [
        {
          "output_type": "execute_result",
          "data": {
            "text/plain": [
              "(506, 1)"
            ]
          },
          "metadata": {},
          "execution_count": 124
        }
      ]
    },
    {
      "cell_type": "code",
      "source": [
        "boston_df.shape"
      ],
      "metadata": {
        "colab": {
          "base_uri": "https://localhost:8080/"
        },
        "id": "NoKQn2y3DZMy",
        "outputId": "2d0babe9-15b5-419d-c286-4d2da4ccff6c"
      },
      "execution_count": 125,
      "outputs": [
        {
          "output_type": "execute_result",
          "data": {
            "text/plain": [
              "(506, 13)"
            ]
          },
          "metadata": {},
          "execution_count": 125
        }
      ]
    },
    {
      "cell_type": "markdown",
      "source": [
        "### Return back the average of AGE, average of the target (median value of homes or MEDV), and the target as NumPy values"
      ],
      "metadata": {
        "id": "Ny1snetFHEgY"
      }
    },
    {
      "cell_type": "code",
      "source": [
        "boston_df[\"AGE\"].mean()"
      ],
      "metadata": {
        "colab": {
          "base_uri": "https://localhost:8080/"
        },
        "id": "Ga9HdLJuHQJN",
        "outputId": "e49886c9-2dd1-4c41-bfd7-9be0d390ada3"
      },
      "execution_count": 120,
      "outputs": [
        {
          "output_type": "execute_result",
          "data": {
            "text/plain": [
              "68.57490118577076"
            ]
          },
          "metadata": {},
          "execution_count": 120
        }
      ]
    },
    {
      "cell_type": "code",
      "source": [
        "target_df.mean()"
      ],
      "metadata": {
        "colab": {
          "base_uri": "https://localhost:8080/"
        },
        "id": "8hmxMC0uHbJ_",
        "outputId": "21962def-6f34-4a2c-d172-98482d9672dd"
      },
      "execution_count": 126,
      "outputs": [
        {
          "output_type": "execute_result",
          "data": {
            "text/plain": [
              "0    22.532806\n",
              "dtype: float64"
            ]
          },
          "metadata": {},
          "execution_count": 126
        }
      ]
    },
    {
      "cell_type": "code",
      "source": [
        "# convert dataframe to numpy array\n",
        "numpy_arr = target_df.to_numpy()\n",
        "numpy_arr"
      ],
      "metadata": {
        "id": "H6XlvJ15H63P"
      },
      "execution_count": null,
      "outputs": []
    },
    {
      "cell_type": "markdown",
      "source": [
        "**Q6** \n",
        "\n",
        "**Data set: Boston**\n",
        "\n",
        "* In the Boston dataset, the feature PTRATIO refers to pupil teacher ratio.\n",
        "\n",
        "* Using a matplotlib scatter plot, plot MEDV median value of homes as y-axis and PTRATIO as x-axis\n",
        "\n",
        "* Return back PTRATIO as a NumPy array"
      ],
      "metadata": {
        "id": "-z7LddLfmNyP"
      }
    },
    {
      "cell_type": "code",
      "source": [
        "# Now in the correct shape for the model\n",
        "X = boston_df[\"PTRATIO\"].values\n",
        "X = X.reshape(-1, 1)\n",
        "print(X.shape)"
      ],
      "metadata": {
        "colab": {
          "base_uri": "https://localhost:8080/"
        },
        "id": "w1OWG2FJvULk",
        "outputId": "529b757a-2060-4c44-9378-711c6d4179cc"
      },
      "execution_count": 128,
      "outputs": [
        {
          "output_type": "stream",
          "name": "stdout",
          "text": [
            "(506, 1)\n"
          ]
        }
      ]
    },
    {
      "cell_type": "code",
      "source": [
        "y = target_df.values\n",
        "print(y.shape)"
      ],
      "metadata": {
        "colab": {
          "base_uri": "https://localhost:8080/"
        },
        "id": "aGk5ol0ov_tf",
        "outputId": "b90978b0-7f1a-4b1f-d419-4d649ea1b171"
      },
      "execution_count": 129,
      "outputs": [
        {
          "output_type": "stream",
          "name": "stdout",
          "text": [
            "(506, 1)\n"
          ]
        }
      ]
    },
    {
      "cell_type": "code",
      "source": [
        "plt.scatter(X, y, color=\"green\", marker=\"s\")\n",
        "\n",
        "plt.xlabel(\"PTRATIO-Pupil Teacher Ratio\")\n",
        "plt.ylabel(\"MEDV-Median Values of Homes\")\n",
        "\n",
        "plt.show()"
      ],
      "metadata": {
        "colab": {
          "base_uri": "https://localhost:8080/",
          "height": 279
        },
        "id": "_kF6BTD6LJaA",
        "outputId": "556978be-af9a-47cf-ef6d-23ad105a20c9"
      },
      "execution_count": 130,
      "outputs": [
        {
          "output_type": "display_data",
          "data": {
            "text/plain": [
              "<Figure size 432x288 with 1 Axes>"
            ],
            "image/png": "[encoded data removed]"
          },
          "metadata": {
            "needs_background": "light"
          }
        }
      ]
    },
    {
      "cell_type": "code",
      "source": [
        "# Converting to NumPy\n",
        "boston_df[\"PTRATIO\"].to_numpy()"
      ],
      "metadata": {
        "id": "5IJ5tNdIVN4k"
      },
      "execution_count": null,
      "outputs": []
    },
    {
      "cell_type": "markdown",
      "source": [
        "**Q7**\n",
        "\n",
        "**Data set: Boston**\n",
        "\n",
        "* Create a regression model for MEDV / PTRATIO and display a chart showing the regression line using matplotlib\n",
        "\n",
        "\n",
        "* Use np.linspace() to generate prediction X values from min to max PTRATIO\n",
        "\n",
        "* Return back the regression prediction space and regression predicted values\n",
        "\n",
        "* Make sure to labels axes appropriately"
      ],
      "metadata": {
        "id": "vmsmxjBcmZZ1"
      }
    },
    {
      "cell_type": "markdown",
      "source": [
        "### Creating a regression model for MEDV / PTRATIO and display a chart showing the regression line using matplotlib"
      ],
      "metadata": {
        "id": "olirI8G93vo_"
      }
    },
    {
      "cell_type": "code",
      "source": [
        "X = boston_df[\"PTRATIO\"].values\n",
        "y = target_df.values\n",
        "\n",
        "print(y.shape, X.shape)"
      ],
      "metadata": {
        "colab": {
          "base_uri": "https://localhost:8080/"
        },
        "id": "DmSPH9buWrEC",
        "outputId": "fd43158b-064c-4f4f-96b7-b5e27dac32fa"
      },
      "execution_count": 136,
      "outputs": [
        {
          "output_type": "stream",
          "name": "stdout",
          "text": [
            "(506, 1) (506,)\n"
          ]
        }
      ]
    },
    {
      "cell_type": "markdown",
      "source": [
        "### Convert the feature x to two dimentional array for applying linear regression."
      ],
      "metadata": {
        "id": "5uHC3OZ5cj1n"
      }
    },
    {
      "cell_type": "code",
      "source": [
        "# Now in the correct shape for the model\n",
        "X = X.reshape(-1, 1)\n",
        "print(X.shape)"
      ],
      "metadata": {
        "colab": {
          "base_uri": "https://localhost:8080/"
        },
        "id": "-dGIBWVac0zf",
        "outputId": "913887de-3851-4f19-e379-1a602b806661"
      },
      "execution_count": 133,
      "outputs": [
        {
          "output_type": "stream",
          "name": "stdout",
          "text": [
            "(506, 1)\n"
          ]
        }
      ]
    },
    {
      "cell_type": "markdown",
      "source": [
        "### Plotting the MEDV and PTRATO for the relationship"
      ],
      "metadata": {
        "id": "yCrLDiTcdyLa"
      }
    },
    {
      "cell_type": "code",
      "source": [
        "plt.scatter(X, y, color=\"green\", marker=\"s\")\n",
        "\n",
        "plt.xlabel(\"PTRATIO-Pupil Teacher Ratio\")\n",
        "plt.ylabel(\"MEDV-Median Values of Homes\")\n",
        "\n",
        "plt.show()"
      ],
      "metadata": {
        "colab": {
          "base_uri": "https://localhost:8080/",
          "height": 279
        },
        "id": "0xTraSSZeIHU",
        "outputId": "b1e003c6-2a1c-45e7-a410-fd28933fe6eb"
      },
      "execution_count": 134,
      "outputs": [
        {
          "output_type": "display_data",
          "data": {
            "text/plain": [
              "<Figure size 432x288 with 1 Axes>"
            ],
            "image/png": "[encoded data removed]"
          },
          "metadata": {
            "needs_background": "light"
          }
        }
      ]
    },
    {
      "cell_type": "markdown",
      "source": [
        "### Fitting a Linear regression model for MEDV / PTRATIO and display a chart showing the regression line using matplotlib.\n",
        "\n",
        "### This gives a line of best fit for our data"
      ],
      "metadata": {
        "id": "fmNuTO5AdaQj"
      }
    },
    {
      "cell_type": "code",
      "source": [
        "# Fitting the MEDV / PTRATIO features in the linear model\n",
        "linear_regressor = LinearRegression().fit(X, y) \n",
        "\n",
        "# Pricdicting the line of best fit for PTRATIO feature\n",
        "y_pred = linear_regressor.predict(X) \n",
        "plt.scatter(X, y, color=\"blue\")\n",
        "plt.plot(X, y_pred, color='Red')\n",
        "\n",
        "plt.xlabel(\"PTRATIO-Pupil Teacher Ratio\")\n",
        "plt.ylabel(\"MEDV-Median Values of Homes\")\n",
        "\n",
        "plt.show()"
      ],
      "metadata": {
        "colab": {
          "base_uri": "https://localhost:8080/",
          "height": 279
        },
        "id": "I58fIva_cMxP",
        "outputId": "5c331ab9-2f27-46d3-9488-872964268614"
      },
      "execution_count": 135,
      "outputs": [
        {
          "output_type": "display_data",
          "data": {
            "text/plain": [
              "<Figure size 432x288 with 1 Axes>"
            ],
            "image/png": "[encoded data removed]"
          },
          "metadata": {
            "needs_background": "light"
          }
        }
      ]
    },
    {
      "cell_type": "markdown",
      "source": [
        "### The red line represents the linear regression model fit for \"MEDV-Median Values of Homes\"and \"PTRATIO-Pupil Teacher Ratio\" and shows a negative reationship."
      ],
      "metadata": {
        "id": "T7RSFz-LgIZb"
      }
    },
    {
      "cell_type": "markdown",
      "source": [
        "### Use np.linspace() to generate prediction X values from min to max PTRATIO\n",
        "### Return back the regression prediction space and regression predicted values"
      ],
      "metadata": {
        "id": "oT5APR8K4pEu"
      }
    },
    {
      "cell_type": "code",
      "source": [
        "# Creating a sequence of length of PTRATIO values in range min to max\n",
        "\n",
        "length = len(boston_df[\"PTRATIO\"])\n",
        "max_val = boston_df[\"PTRATIO\"].max()\n",
        "min_val = boston_df[\"PTRATIO\"].min()\n",
        "\n",
        "X_arr= np.linspace(min_val, max_val, length)\n",
        "X_arr.shape"
      ],
      "metadata": {
        "id": "IyBaPFxhg4Hn",
        "colab": {
          "base_uri": "https://localhost:8080/"
        },
        "outputId": "c067b262-1851-4ed1-9e52-56f64f3c3b85"
      },
      "execution_count": 147,
      "outputs": [
        {
          "output_type": "execute_result",
          "data": {
            "text/plain": [
              "(506,)"
            ]
          },
          "metadata": {},
          "execution_count": 147
        }
      ]
    },
    {
      "cell_type": "code",
      "source": [
        "# Now in the correct shape for the model\n",
        "X = X_arr.reshape(-1, 1)\n",
        "print(X.shape)"
      ],
      "metadata": {
        "colab": {
          "base_uri": "https://localhost:8080/"
        },
        "id": "UAm3XTnEBkmo",
        "outputId": "ec9d1792-8351-4ee2-ef51-019e494ea191"
      },
      "execution_count": 148,
      "outputs": [
        {
          "output_type": "stream",
          "name": "stdout",
          "text": [
            "(506, 1)\n"
          ]
        }
      ]
    },
    {
      "cell_type": "code",
      "source": [
        "# Fitting the MEDV / PTRATIO features in the linear model\n",
        "linear_regressor = LinearRegression().fit(X, y) \n",
        "\n",
        "# Pricdicting the line of best fit for PTRATIO feature\n",
        "y_pred = linear_regressor.predict(X) \n",
        "plt.scatter(X, y, color=\"blue\")\n",
        "plt.plot(X, y_pred, color='Red')\n",
        "\n",
        "plt.xlabel(\"PTRATIO-Pupil Teacher Ratio\")\n",
        "plt.ylabel(\"MEDV-Median Values of Homes\")\n",
        "\n",
        "plt.show()"
      ],
      "metadata": {
        "colab": {
          "base_uri": "https://localhost:8080/",
          "height": 279
        },
        "id": "l5lYAqqi_m37",
        "outputId": "58636504-bb90-40a5-f9df-b64e6c41efd5"
      },
      "execution_count": 149,
      "outputs": [
        {
          "output_type": "display_data",
          "data": {
            "text/plain": [
              "<Figure size 432x288 with 1 Axes>"
            ],
            "image/png": "[encoded data removed]"
          },
          "metadata": {
            "needs_background": "light"
          }
        }
      ]
    }
  ]
}