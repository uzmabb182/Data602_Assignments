{
 "cells": [
  {
   "cell_type": "markdown",
   "metadata": {
    "id": "rd2QZetSDszc"
   },
   "source": [
    "### Assignment_08  - Matplotlip"
   ]
  },
  {
   "cell_type": "markdown",
   "metadata": {
    "id": "uW3w6p8rqgxu"
   },
   "source": [
    "# Introduction"
   ]
  },
  {
   "cell_type": "markdown",
   "metadata": {},
   "source": [
    "### Describing Dataset"
   ]
  },
  {
   "cell_type": "raw",
   "metadata": {},
   "source": [
    "This dataset is about electric vehicles. It has 103 row and 14 columns.\n",
    "\n",
    "This dataset requires detailed data cleaning before performing the data manipulation steps.\n",
    "\n",
    "The metric for the columns in the dataset are as below:\n",
    "\n",
    "Vehicle Battery capacity (in KWH)\n",
    "Acceleration (0-100) in Seconds\n",
    "Top Speed in Km/hr\n",
    "Range of Vehicle in km\n",
    "The efficiency of Vehicle in Wh/km\n",
    "Fast charge speed in km/hr\n",
    "Drive Configuration\n",
    "Number of seats\n",
    "Price in Germany (Euro)\n",
    "Price in the UK (Pound)"
   ]
  },
  {
   "cell_type": "markdown",
   "metadata": {},
   "source": [
    "### Data Source Link:"
   ]
  },
  {
   "cell_type": "raw",
   "metadata": {},
   "source": [
    "This dataset is acquired from Kaggle website and the link is provided below:\n",
    "\n",
    "https://www.kaggle.com/datasets/geoffnel/evs-one-electric-vehicle-dataset?select=ElectricCarData_Norm.csv\n",
    "https://www.kaggle.com/datasets/kkhandekar/cheapest-electric-cars"
   ]
  },
  {
   "cell_type": "markdown",
   "metadata": {},
   "source": [
    "### Justification for Dataset Selection:"
   ]
  },
  {
   "cell_type": "raw",
   "metadata": {},
   "source": [
    "There are multiple reasons for choosing this dataset. First, I eagerly wanted to do the research about the electric vehicles because I am interested in buying one for myself. In terms of carbon emission, Electric cars are good for the environment by preventing greenhouse gas emission. The operating and maintenance costs are lot lower for electric vehicles and that makes them more economical and viable in the long run. Initially, one of the biggest challenges is range anxiety and uncomfortable  feeling of not finding the charging stations within the battery range. These concerns are being taken care by the long-range batteries hitting the market and GPS apps, providing the location of the nearest charging station. And people are more likely  to buy electric vehicles. Now there are couple of questions related to electric vehicle that require analysis and those are my research questions."
   ]
  },
  {
   "cell_type": "markdown",
   "metadata": {},
   "source": [
    "# Research Questions & Objectives:"
   ]
  },
  {
   "cell_type": "raw",
   "metadata": {},
   "source": [
    "The research questions for the electric vehicle's dataset are the following:\n",
    "\n",
    "1- Which car has the fastest charging battery capacity?\n",
    "2- Which vehicle has the highest efficiency?\n",
    "3- Does a difference in power train effect the range, top speed, efficiency?\n",
    "4- What is the correlation between the variables.\n",
    "5- Which vehicle has the most range?\n",
    "5- Which manufacturer has the greatest number of vehicles?\n",
    "6- Which factors affect the price of the vehicle?\n",
    "7- Upload the dataset in the SQL database for further analysis.\n",
    "8- Predict the price of electric vehicles using machine learning.\n"
   ]
  },
  {
   "cell_type": "markdown",
   "metadata": {
    "id": "3bp8cdDxDs2t"
   },
   "source": [
    "\n",
    "# Data Exploration (EDA)\n",
    "Import your dataset into your .ipynb, create dataframes, and explore your data.  \n",
    "\n",
    "Include: \n",
    "\n",
    "* Summary statistics means, medians, quartiles, \n",
    "* Missing value information\n",
    "* Any other relevant information about the dataset.  \n",
    "\n"
   ]
  },
  {
   "cell_type": "markdown",
   "metadata": {
    "id": "1OJmbafkEhhq"
   },
   "source": [
    "### Importing Libraries:"
   ]
  },
  {
   "cell_type": "raw",
   "metadata": {},
   "source": [
    "The first step is to import Pandas and NumPy libraries for data exploration, cleaning and manipulation."
   ]
  },
  {
   "cell_type": "code",
   "execution_count": 39,
   "metadata": {
    "id": "b0WTKtqozNn1"
   },
   "outputs": [],
   "source": [
    "import pandas as pd\n",
    "import numpy as np\n",
    "import matplotlib.pyplot as plt"
   ]
  },
  {
   "cell_type": "markdown",
   "metadata": {},
   "source": [
    "### Importing CSV data file into pandas dataframe"
   ]
  },
  {
   "cell_type": "raw",
   "metadata": {},
   "source": [
    "Now defining the path for reading the CSV file. \n",
    "Using Pandas \"read_csv\" function to read the file into Pandas dataframe.\n",
    "And by passing the limit to view 5 row in the \"head() function.\n",
    "Similarly, viewing the last 5 rows using the \"tail()\" function."
   ]
  },
  {
   "cell_type": "code",
   "execution_count": 41,
   "metadata": {
    "scrolled": true
   },
   "outputs": [
    {
     "data": {
      "text/html": [
       "<div>\n",
       "<style scoped>\n",
       "    .dataframe tbody tr th:only-of-type {\n",
       "        vertical-align: middle;\n",
       "    }\n",
       "\n",
       "    .dataframe tbody tr th {\n",
       "        vertical-align: top;\n",
       "    }\n",
       "\n",
       "    .dataframe thead th {\n",
       "        text-align: right;\n",
       "    }\n",
       "</style>\n",
       "<table border=\"1\" class=\"dataframe\">\n",
       "  <thead>\n",
       "    <tr style=\"text-align: right;\">\n",
       "      <th></th>\n",
       "      <th>Brand</th>\n",
       "      <th>Model</th>\n",
       "      <th>Accel</th>\n",
       "      <th>TopSpeed</th>\n",
       "      <th>Range</th>\n",
       "      <th>Efficiency</th>\n",
       "      <th>FastCharge</th>\n",
       "      <th>RapidCharge</th>\n",
       "      <th>PowerTrain</th>\n",
       "      <th>PlugType</th>\n",
       "      <th>BodyStyle</th>\n",
       "      <th>Segment</th>\n",
       "      <th>Seats</th>\n",
       "      <th>PriceEuro</th>\n",
       "    </tr>\n",
       "  </thead>\n",
       "  <tbody>\n",
       "    <tr>\n",
       "      <th>0</th>\n",
       "      <td>Tesla</td>\n",
       "      <td>Model 3 Long Range Dual Motor</td>\n",
       "      <td>4.6 sec</td>\n",
       "      <td>233 km/h</td>\n",
       "      <td>450 km</td>\n",
       "      <td>161 Wh/km</td>\n",
       "      <td>940 km/h</td>\n",
       "      <td>Rapid charging possible</td>\n",
       "      <td>All Wheel Drive</td>\n",
       "      <td>Type 2 CCS</td>\n",
       "      <td>Sedan</td>\n",
       "      <td>D</td>\n",
       "      <td>5</td>\n",
       "      <td>55480</td>\n",
       "    </tr>\n",
       "    <tr>\n",
       "      <th>1</th>\n",
       "      <td>Volkswagen</td>\n",
       "      <td>ID.3 Pure</td>\n",
       "      <td>10.0 sec</td>\n",
       "      <td>160 km/h</td>\n",
       "      <td>270 km</td>\n",
       "      <td>167 Wh/km</td>\n",
       "      <td>250 km/h</td>\n",
       "      <td>Rapid charging possible</td>\n",
       "      <td>Rear Wheel Drive</td>\n",
       "      <td>Type 2 CCS</td>\n",
       "      <td>Hatchback</td>\n",
       "      <td>C</td>\n",
       "      <td>5</td>\n",
       "      <td>30000</td>\n",
       "    </tr>\n",
       "    <tr>\n",
       "      <th>2</th>\n",
       "      <td>Polestar</td>\n",
       "      <td>2</td>\n",
       "      <td>4.7 sec</td>\n",
       "      <td>210 km/h</td>\n",
       "      <td>400 km</td>\n",
       "      <td>181 Wh/km</td>\n",
       "      <td>620 km/h</td>\n",
       "      <td>Rapid charging possible</td>\n",
       "      <td>All Wheel Drive</td>\n",
       "      <td>Type 2 CCS</td>\n",
       "      <td>Liftback</td>\n",
       "      <td>D</td>\n",
       "      <td>5</td>\n",
       "      <td>56440</td>\n",
       "    </tr>\n",
       "    <tr>\n",
       "      <th>3</th>\n",
       "      <td>BMW</td>\n",
       "      <td>iX3</td>\n",
       "      <td>6.8 sec</td>\n",
       "      <td>180 km/h</td>\n",
       "      <td>360 km</td>\n",
       "      <td>206 Wh/km</td>\n",
       "      <td>560 km/h</td>\n",
       "      <td>Rapid charging possible</td>\n",
       "      <td>Rear Wheel Drive</td>\n",
       "      <td>Type 2 CCS</td>\n",
       "      <td>SUV</td>\n",
       "      <td>D</td>\n",
       "      <td>5</td>\n",
       "      <td>68040</td>\n",
       "    </tr>\n",
       "    <tr>\n",
       "      <th>4</th>\n",
       "      <td>Honda</td>\n",
       "      <td>e</td>\n",
       "      <td>9.5 sec</td>\n",
       "      <td>145 km/h</td>\n",
       "      <td>170 km</td>\n",
       "      <td>168 Wh/km</td>\n",
       "      <td>190 km/h</td>\n",
       "      <td>Rapid charging possible</td>\n",
       "      <td>Rear Wheel Drive</td>\n",
       "      <td>Type 2 CCS</td>\n",
       "      <td>Hatchback</td>\n",
       "      <td>B</td>\n",
       "      <td>4</td>\n",
       "      <td>32997</td>\n",
       "    </tr>\n",
       "  </tbody>\n",
       "</table>\n",
       "</div>"
      ],
      "text/plain": [
       "         Brand                          Model     Accel  TopSpeed   Range  \\\n",
       "0       Tesla   Model 3 Long Range Dual Motor   4.6 sec  233 km/h  450 km   \n",
       "1  Volkswagen                       ID.3 Pure  10.0 sec  160 km/h  270 km   \n",
       "2    Polestar                               2   4.7 sec  210 km/h  400 km   \n",
       "3         BMW                            iX3    6.8 sec  180 km/h  360 km   \n",
       "4       Honda                              e    9.5 sec  145 km/h  170 km   \n",
       "\n",
       "  Efficiency FastCharge              RapidCharge        PowerTrain  \\\n",
       "0  161 Wh/km   940 km/h  Rapid charging possible   All Wheel Drive   \n",
       "1  167 Wh/km   250 km/h  Rapid charging possible  Rear Wheel Drive   \n",
       "2  181 Wh/km   620 km/h  Rapid charging possible   All Wheel Drive   \n",
       "3  206 Wh/km   560 km/h  Rapid charging possible  Rear Wheel Drive   \n",
       "4  168 Wh/km   190 km/h  Rapid charging possible  Rear Wheel Drive   \n",
       "\n",
       "     PlugType  BodyStyle Segment  Seats  PriceEuro  \n",
       "0  Type 2 CCS      Sedan       D      5      55480  \n",
       "1  Type 2 CCS  Hatchback       C      5      30000  \n",
       "2  Type 2 CCS   Liftback       D      5      56440  \n",
       "3  Type 2 CCS        SUV       D      5      68040  \n",
       "4  Type 2 CCS  Hatchback       B      4      32997  "
      ]
     },
     "execution_count": 41,
     "metadata": {},
     "output_type": "execute_result"
    }
   ],
   "source": [
    "csv_path = 'resources/electric_car_data_norm.csv'\n",
    "cars_df1 = pd.read_csv(csv_path, encoding=\"utf-8\")\n",
    "cars_df1.head(5)"
   ]
  },
  {
   "cell_type": "code",
   "execution_count": 42,
   "metadata": {},
   "outputs": [
    {
     "data": {
      "text/html": [
       "<div>\n",
       "<style scoped>\n",
       "    .dataframe tbody tr th:only-of-type {\n",
       "        vertical-align: middle;\n",
       "    }\n",
       "\n",
       "    .dataframe tbody tr th {\n",
       "        vertical-align: top;\n",
       "    }\n",
       "\n",
       "    .dataframe thead th {\n",
       "        text-align: right;\n",
       "    }\n",
       "</style>\n",
       "<table border=\"1\" class=\"dataframe\">\n",
       "  <thead>\n",
       "    <tr style=\"text-align: right;\">\n",
       "      <th></th>\n",
       "      <th>Name</th>\n",
       "      <th>Subtitle</th>\n",
       "      <th>Acceleration</th>\n",
       "      <th>TopSpeed</th>\n",
       "      <th>Range</th>\n",
       "      <th>Efficiency</th>\n",
       "      <th>FastChargeSpeed</th>\n",
       "      <th>Drive</th>\n",
       "      <th>NumberofSeats</th>\n",
       "      <th>PriceinGermany</th>\n",
       "      <th>PriceinUK</th>\n",
       "    </tr>\n",
       "  </thead>\n",
       "  <tbody>\n",
       "    <tr>\n",
       "      <th>0</th>\n",
       "      <td>Opel Ampera-e</td>\n",
       "      <td>Battery Electric Vehicle |       58 kWh</td>\n",
       "      <td>7.3 sec</td>\n",
       "      <td>150 km/h</td>\n",
       "      <td>335 km</td>\n",
       "      <td>173 Wh/km</td>\n",
       "      <td>210 km/h</td>\n",
       "      <td>Front Wheel Drive</td>\n",
       "      <td>5</td>\n",
       "      <td>€42,990</td>\n",
       "      <td>NaN</td>\n",
       "    </tr>\n",
       "    <tr>\n",
       "      <th>1</th>\n",
       "      <td>Renault Kangoo Maxi ZE 33</td>\n",
       "      <td>Battery Electric Vehicle |       31 kWh</td>\n",
       "      <td>22.4 sec</td>\n",
       "      <td>130 km/h</td>\n",
       "      <td>160 km</td>\n",
       "      <td>194 Wh/km</td>\n",
       "      <td>-</td>\n",
       "      <td>Front Wheel Drive</td>\n",
       "      <td>5</td>\n",
       "      <td>NaN</td>\n",
       "      <td>£31,680</td>\n",
       "    </tr>\n",
       "    <tr>\n",
       "      <th>2</th>\n",
       "      <td>Nissan Leaf</td>\n",
       "      <td>Battery Electric Vehicle |       36 kWh</td>\n",
       "      <td>7.9 sec</td>\n",
       "      <td>144 km/h</td>\n",
       "      <td>220 km</td>\n",
       "      <td>164 Wh/km</td>\n",
       "      <td>230 km/h</td>\n",
       "      <td>Front Wheel Drive</td>\n",
       "      <td>5</td>\n",
       "      <td>€29,990</td>\n",
       "      <td>£25,995</td>\n",
       "    </tr>\n",
       "    <tr>\n",
       "      <th>3</th>\n",
       "      <td>Audi e-tron Sportback 55 quattro</td>\n",
       "      <td>Battery Electric Vehicle |       86.5 kWh</td>\n",
       "      <td>5.7 sec</td>\n",
       "      <td>200 km/h</td>\n",
       "      <td>375 km</td>\n",
       "      <td>231 Wh/km</td>\n",
       "      <td>600 km/h</td>\n",
       "      <td>All Wheel Drive</td>\n",
       "      <td>5</td>\n",
       "      <td>NaN</td>\n",
       "      <td>£79,900</td>\n",
       "    </tr>\n",
       "    <tr>\n",
       "      <th>4</th>\n",
       "      <td>Porsche Taycan Turbo S</td>\n",
       "      <td>Battery Electric Vehicle |       83.7 kWh</td>\n",
       "      <td>2.8 sec</td>\n",
       "      <td>260 km/h</td>\n",
       "      <td>390 km</td>\n",
       "      <td>215 Wh/km</td>\n",
       "      <td>860 km/h</td>\n",
       "      <td>All Wheel Drive</td>\n",
       "      <td>4</td>\n",
       "      <td>€186,336</td>\n",
       "      <td>£138,830</td>\n",
       "    </tr>\n",
       "  </tbody>\n",
       "</table>\n",
       "</div>"
      ],
      "text/plain": [
       "                               Name  \\\n",
       "0                    Opel Ampera-e    \n",
       "1         Renault Kangoo Maxi ZE 33   \n",
       "2                      Nissan Leaf    \n",
       "3  Audi e-tron Sportback 55 quattro   \n",
       "4            Porsche Taycan Turbo S   \n",
       "\n",
       "                                    Subtitle Acceleration  TopSpeed   Range  \\\n",
       "0   Battery Electric Vehicle |       58 kWh       7.3 sec  150 km/h  335 km   \n",
       "1   Battery Electric Vehicle |       31 kWh      22.4 sec  130 km/h  160 km   \n",
       "2   Battery Electric Vehicle |       36 kWh       7.9 sec  144 km/h  220 km   \n",
       "3  Battery Electric Vehicle |       86.5 kWh      5.7 sec  200 km/h  375 km   \n",
       "4  Battery Electric Vehicle |       83.7 kWh      2.8 sec  260 km/h  390 km   \n",
       "\n",
       "  Efficiency FastChargeSpeed              Drive  NumberofSeats PriceinGermany  \\\n",
       "0  173 Wh/km        210 km/h  Front Wheel Drive              5        €42,990   \n",
       "1  194 Wh/km               -  Front Wheel Drive              5            NaN   \n",
       "2  164 Wh/km        230 km/h  Front Wheel Drive              5        €29,990   \n",
       "3  231 Wh/km        600 km/h    All Wheel Drive              5            NaN   \n",
       "4  215 Wh/km        860 km/h    All Wheel Drive              4       €186,336   \n",
       "\n",
       "  PriceinUK  \n",
       "0       NaN  \n",
       "1   £31,680  \n",
       "2   £25,995  \n",
       "3   £79,900  \n",
       "4  £138,830  "
      ]
     },
     "execution_count": 42,
     "metadata": {},
     "output_type": "execute_result"
    }
   ],
   "source": [
    "csv_path = 'resources/cheapest_electric_cars_evdatabase.csv'\n",
    "cars_df2 = pd.read_csv(csv_path, encoding=\"utf-8\")\n",
    "cars_df2.head(5)"
   ]
  },
  {
   "cell_type": "code",
   "execution_count": 43,
   "metadata": {},
   "outputs": [
    {
     "data": {
      "text/html": [
       "<div>\n",
       "<style scoped>\n",
       "    .dataframe tbody tr th:only-of-type {\n",
       "        vertical-align: middle;\n",
       "    }\n",
       "\n",
       "    .dataframe tbody tr th {\n",
       "        vertical-align: top;\n",
       "    }\n",
       "\n",
       "    .dataframe thead th {\n",
       "        text-align: right;\n",
       "    }\n",
       "</style>\n",
       "<table border=\"1\" class=\"dataframe\">\n",
       "  <thead>\n",
       "    <tr style=\"text-align: right;\">\n",
       "      <th></th>\n",
       "      <th>Name</th>\n",
       "      <th>Subtitle</th>\n",
       "      <th>Acceleration</th>\n",
       "      <th>TopSpeed</th>\n",
       "      <th>Range</th>\n",
       "      <th>Efficiency</th>\n",
       "      <th>FastChargeSpeed</th>\n",
       "      <th>Drive</th>\n",
       "      <th>NumberofSeats</th>\n",
       "      <th>PriceinGermany</th>\n",
       "      <th>PriceinUK</th>\n",
       "    </tr>\n",
       "  </thead>\n",
       "  <tbody>\n",
       "    <tr>\n",
       "      <th>175</th>\n",
       "      <td>MG Marvel R</td>\n",
       "      <td>Battery Electric Vehicle |       65 kWh</td>\n",
       "      <td>7.9 sec</td>\n",
       "      <td>200 km/h</td>\n",
       "      <td>340 km</td>\n",
       "      <td>191 Wh/km</td>\n",
       "      <td>390 km/h</td>\n",
       "      <td>Rear Wheel Drive</td>\n",
       "      <td>5</td>\n",
       "      <td>€40,000</td>\n",
       "      <td>NaN</td>\n",
       "    </tr>\n",
       "    <tr>\n",
       "      <th>176</th>\n",
       "      <td>Tesla Model 3 Long Range Dual Motor</td>\n",
       "      <td>Battery Electric Vehicle |       76 kWh</td>\n",
       "      <td>4.4 sec</td>\n",
       "      <td>233 km/h</td>\n",
       "      <td>490 km</td>\n",
       "      <td>155 Wh/km</td>\n",
       "      <td>820 km/h</td>\n",
       "      <td>All Wheel Drive</td>\n",
       "      <td>5</td>\n",
       "      <td>€53,560</td>\n",
       "      <td>NaN</td>\n",
       "    </tr>\n",
       "    <tr>\n",
       "      <th>177</th>\n",
       "      <td>MG MG5 EV Long Range</td>\n",
       "      <td>Battery Electric Vehicle |       57 kWh</td>\n",
       "      <td>7.7 sec</td>\n",
       "      <td>185 km/h</td>\n",
       "      <td>340 km</td>\n",
       "      <td>168 Wh/km</td>\n",
       "      <td>340 km/h</td>\n",
       "      <td>Front Wheel Drive</td>\n",
       "      <td>5</td>\n",
       "      <td>NaN</td>\n",
       "      <td>£26,495</td>\n",
       "    </tr>\n",
       "    <tr>\n",
       "      <th>178</th>\n",
       "      <td>Audi Q4 e-tron 45 quattro</td>\n",
       "      <td>Battery Electric Vehicle |       76.6 kWh</td>\n",
       "      <td>6.9 sec</td>\n",
       "      <td>180 km/h</td>\n",
       "      <td>385 km</td>\n",
       "      <td>199 Wh/km</td>\n",
       "      <td>470 km/h</td>\n",
       "      <td>All Wheel Drive</td>\n",
       "      <td>5</td>\n",
       "      <td>€50,900</td>\n",
       "      <td>NaN</td>\n",
       "    </tr>\n",
       "    <tr>\n",
       "      <th>179</th>\n",
       "      <td>Audi Q4 Sportback e-tron 40</td>\n",
       "      <td>Battery Electric Vehicle |       76.6 kWh</td>\n",
       "      <td>8.5 sec</td>\n",
       "      <td>160 km/h</td>\n",
       "      <td>425 km</td>\n",
       "      <td>180 Wh/km</td>\n",
       "      <td>520 km/h</td>\n",
       "      <td>Rear Wheel Drive</td>\n",
       "      <td>5</td>\n",
       "      <td>€49,500</td>\n",
       "      <td>NaN</td>\n",
       "    </tr>\n",
       "  </tbody>\n",
       "</table>\n",
       "</div>"
      ],
      "text/plain": [
       "                                    Name  \\\n",
       "175                         MG Marvel R    \n",
       "176  Tesla Model 3 Long Range Dual Motor   \n",
       "177                 MG MG5 EV Long Range   \n",
       "178            Audi Q4 e-tron 45 quattro   \n",
       "179          Audi Q4 Sportback e-tron 40   \n",
       "\n",
       "                                      Subtitle Acceleration  TopSpeed   Range  \\\n",
       "175   Battery Electric Vehicle |       65 kWh       7.9 sec  200 km/h  340 km   \n",
       "176   Battery Electric Vehicle |       76 kWh       4.4 sec  233 km/h  490 km   \n",
       "177   Battery Electric Vehicle |       57 kWh       7.7 sec  185 km/h  340 km   \n",
       "178  Battery Electric Vehicle |       76.6 kWh      6.9 sec  180 km/h  385 km   \n",
       "179  Battery Electric Vehicle |       76.6 kWh      8.5 sec  160 km/h  425 km   \n",
       "\n",
       "    Efficiency FastChargeSpeed              Drive  NumberofSeats  \\\n",
       "175  191 Wh/km        390 km/h   Rear Wheel Drive              5   \n",
       "176  155 Wh/km        820 km/h    All Wheel Drive              5   \n",
       "177  168 Wh/km        340 km/h  Front Wheel Drive              5   \n",
       "178  199 Wh/km        470 km/h    All Wheel Drive              5   \n",
       "179  180 Wh/km        520 km/h   Rear Wheel Drive              5   \n",
       "\n",
       "    PriceinGermany PriceinUK  \n",
       "175        €40,000       NaN  \n",
       "176        €53,560       NaN  \n",
       "177            NaN   £26,495  \n",
       "178        €50,900       NaN  \n",
       "179        €49,500       NaN  "
      ]
     },
     "execution_count": 43,
     "metadata": {},
     "output_type": "execute_result"
    }
   ],
   "source": [
    "cars_df2.tail(5)"
   ]
  },
  {
   "cell_type": "raw",
   "metadata": {},
   "source": [
    "Now previewing the data by calling the dataframe \"cars_df\" using \"info()\" function and finding the number of cloumns and rows.\n",
    "This function provides the total number of rows and columns as well as the datatype of each column. \n",
    "Also, we are able to see the count of non-null values, which will help us further investigate the missing, or unexpected values in our dataset."
   ]
  },
  {
   "cell_type": "code",
   "execution_count": 44,
   "metadata": {},
   "outputs": [
    {
     "name": "stdout",
     "output_type": "stream",
     "text": [
      "<class 'pandas.core.frame.DataFrame'>\n",
      "RangeIndex: 180 entries, 0 to 179\n",
      "Data columns (total 11 columns):\n",
      " #   Column           Non-Null Count  Dtype \n",
      "---  ------           --------------  ----- \n",
      " 0   Name             180 non-null    object\n",
      " 1   Subtitle         180 non-null    object\n",
      " 2   Acceleration     180 non-null    object\n",
      " 3   TopSpeed         180 non-null    object\n",
      " 4   Range            180 non-null    object\n",
      " 5   Efficiency       180 non-null    object\n",
      " 6   FastChargeSpeed  180 non-null    object\n",
      " 7   Drive            180 non-null    object\n",
      " 8   NumberofSeats    180 non-null    int64 \n",
      " 9   PriceinGermany   168 non-null    object\n",
      " 10  PriceinUK        136 non-null    object\n",
      "dtypes: int64(1), object(10)\n",
      "memory usage: 15.6+ KB\n"
     ]
    }
   ],
   "source": [
    "cars_df2.info()"
   ]
  },
  {
   "cell_type": "raw",
   "metadata": {},
   "source": [
    "The \"shape\" method provide the row and column count."
   ]
  },
  {
   "cell_type": "code",
   "execution_count": 47,
   "metadata": {},
   "outputs": [
    {
     "data": {
      "text/plain": [
       "(180, 11)"
      ]
     },
     "execution_count": 47,
     "metadata": {},
     "output_type": "execute_result"
    }
   ],
   "source": [
    "cars_df2.shape"
   ]
  },
  {
   "cell_type": "raw",
   "metadata": {},
   "source": [
    "The \"dtypes\" function provides the datatypes of each column in the dataframe."
   ]
  },
  {
   "cell_type": "code",
   "execution_count": 48,
   "metadata": {},
   "outputs": [
    {
     "data": {
      "text/plain": [
       "Name               object\n",
       "Subtitle           object\n",
       "Acceleration       object\n",
       "TopSpeed           object\n",
       "Range              object\n",
       "Efficiency         object\n",
       "FastChargeSpeed    object\n",
       "Drive              object\n",
       "NumberofSeats       int64\n",
       "PriceinGermany     object\n",
       "PriceinUK          object\n",
       "dtype: object"
      ]
     },
     "execution_count": 48,
     "metadata": {},
     "output_type": "execute_result"
    }
   ],
   "source": [
    "cars_df2.dtypes"
   ]
  },
  {
   "cell_type": "raw",
   "metadata": {},
   "source": [
    "Using columns method to find the names of all columns"
   ]
  },
  {
   "cell_type": "code",
   "execution_count": 49,
   "metadata": {},
   "outputs": [
    {
     "data": {
      "text/plain": [
       "Index(['Name', 'Subtitle', 'Acceleration', 'TopSpeed', 'Range', 'Efficiency',\n",
       "       'FastChargeSpeed', 'Drive', 'NumberofSeats', 'PriceinGermany',\n",
       "       'PriceinUK'],\n",
       "      dtype='object')"
      ]
     },
     "execution_count": 49,
     "metadata": {},
     "output_type": "execute_result"
    }
   ],
   "source": [
    "cars_df2.columns"
   ]
  },
  {
   "cell_type": "code",
   "execution_count": 50,
   "metadata": {},
   "outputs": [
    {
     "name": "stdout",
     "output_type": "stream",
     "text": [
      "Column Name has 0 null values\n",
      "Column Subtitle has 0 null values\n",
      "Column Acceleration has 0 null values\n",
      "Column TopSpeed has 0 null values\n",
      "Column Range has 0 null values\n",
      "Column Efficiency has 0 null values\n",
      "Column FastChargeSpeed has 0 null values\n",
      "Column Drive has 0 null values\n",
      "Column NumberofSeats has 0 null values\n",
      "Column PriceinGermany has 12 null values\n",
      "Column PriceinUK has 44 null values\n"
     ]
    }
   ],
   "source": [
    "# Find null values\n",
    "for column in cars_df2.columns:\n",
    "    print(f\"Column {column} has {cars_df[column].isnull().sum()} null values\")"
   ]
  },
  {
   "cell_type": "markdown",
   "metadata": {},
   "source": [
    "# Data Cleaning:"
   ]
  },
  {
   "cell_type": "raw",
   "metadata": {},
   "source": [
    "Renaming the column names for more clarity about the column information."
   ]
  },
  {
   "cell_type": "code",
   "execution_count": null,
   "metadata": {},
   "outputs": [],
   "source": []
  },
  {
   "cell_type": "code",
   "execution_count": null,
   "metadata": {},
   "outputs": [],
   "source": []
  },
  {
   "cell_type": "code",
   "execution_count": null,
   "metadata": {},
   "outputs": [],
   "source": []
  },
  {
   "cell_type": "code",
   "execution_count": null,
   "metadata": {},
   "outputs": [],
   "source": []
  },
  {
   "cell_type": "raw",
   "metadata": {},
   "source": [
    "Now investigating any missing or unexpected values in the dataframe."
   ]
  },
  {
   "cell_type": "code",
   "execution_count": 21,
   "metadata": {},
   "outputs": [
    {
     "data": {
      "text/html": [
       "<div>\n",
       "<style scoped>\n",
       "    .dataframe tbody tr th:only-of-type {\n",
       "        vertical-align: middle;\n",
       "    }\n",
       "\n",
       "    .dataframe tbody tr th {\n",
       "        vertical-align: top;\n",
       "    }\n",
       "\n",
       "    .dataframe thead th {\n",
       "        text-align: right;\n",
       "    }\n",
       "</style>\n",
       "<table border=\"1\" class=\"dataframe\">\n",
       "  <thead>\n",
       "    <tr style=\"text-align: right;\">\n",
       "      <th></th>\n",
       "      <th>Brand</th>\n",
       "      <th>Model</th>\n",
       "      <th>AccelSec</th>\n",
       "      <th>TopSpeed_KmH</th>\n",
       "      <th>Range_Km</th>\n",
       "      <th>Efficiency_WhKm</th>\n",
       "      <th>FastCharge_KmH</th>\n",
       "      <th>RapidCharge</th>\n",
       "      <th>PowerTrain</th>\n",
       "      <th>PlugType</th>\n",
       "      <th>BodyStyle</th>\n",
       "      <th>Segment</th>\n",
       "      <th>Seats</th>\n",
       "      <th>PriceEuro</th>\n",
       "    </tr>\n",
       "  </thead>\n",
       "  <tbody>\n",
       "    <tr>\n",
       "      <th>0</th>\n",
       "      <td>Tesla</td>\n",
       "      <td>Model 3 Long Range Dual Motor</td>\n",
       "      <td>4.6</td>\n",
       "      <td>233</td>\n",
       "      <td>450</td>\n",
       "      <td>161</td>\n",
       "      <td>940</td>\n",
       "      <td>Yes</td>\n",
       "      <td>AWD</td>\n",
       "      <td>Type 2 CCS</td>\n",
       "      <td>Sedan</td>\n",
       "      <td>D</td>\n",
       "      <td>5</td>\n",
       "      <td>55480</td>\n",
       "    </tr>\n",
       "    <tr>\n",
       "      <th>1</th>\n",
       "      <td>Volkswagen</td>\n",
       "      <td>ID.3 Pure</td>\n",
       "      <td>10.0</td>\n",
       "      <td>160</td>\n",
       "      <td>270</td>\n",
       "      <td>167</td>\n",
       "      <td>250</td>\n",
       "      <td>Yes</td>\n",
       "      <td>RWD</td>\n",
       "      <td>Type 2 CCS</td>\n",
       "      <td>Hatchback</td>\n",
       "      <td>C</td>\n",
       "      <td>5</td>\n",
       "      <td>30000</td>\n",
       "    </tr>\n",
       "    <tr>\n",
       "      <th>2</th>\n",
       "      <td>Polestar</td>\n",
       "      <td>2</td>\n",
       "      <td>4.7</td>\n",
       "      <td>210</td>\n",
       "      <td>400</td>\n",
       "      <td>181</td>\n",
       "      <td>620</td>\n",
       "      <td>Yes</td>\n",
       "      <td>AWD</td>\n",
       "      <td>Type 2 CCS</td>\n",
       "      <td>Liftback</td>\n",
       "      <td>D</td>\n",
       "      <td>5</td>\n",
       "      <td>56440</td>\n",
       "    </tr>\n",
       "    <tr>\n",
       "      <th>3</th>\n",
       "      <td>BMW</td>\n",
       "      <td>iX3</td>\n",
       "      <td>6.8</td>\n",
       "      <td>180</td>\n",
       "      <td>360</td>\n",
       "      <td>206</td>\n",
       "      <td>560</td>\n",
       "      <td>Yes</td>\n",
       "      <td>RWD</td>\n",
       "      <td>Type 2 CCS</td>\n",
       "      <td>SUV</td>\n",
       "      <td>D</td>\n",
       "      <td>5</td>\n",
       "      <td>68040</td>\n",
       "    </tr>\n",
       "    <tr>\n",
       "      <th>4</th>\n",
       "      <td>Honda</td>\n",
       "      <td>e</td>\n",
       "      <td>9.5</td>\n",
       "      <td>145</td>\n",
       "      <td>170</td>\n",
       "      <td>168</td>\n",
       "      <td>190</td>\n",
       "      <td>Yes</td>\n",
       "      <td>RWD</td>\n",
       "      <td>Type 2 CCS</td>\n",
       "      <td>Hatchback</td>\n",
       "      <td>B</td>\n",
       "      <td>4</td>\n",
       "      <td>32997</td>\n",
       "    </tr>\n",
       "  </tbody>\n",
       "</table>\n",
       "</div>"
      ],
      "text/plain": [
       "         Brand                          Model  AccelSec  TopSpeed_KmH  \\\n",
       "0       Tesla   Model 3 Long Range Dual Motor       4.6           233   \n",
       "1  Volkswagen                       ID.3 Pure      10.0           160   \n",
       "2    Polestar                               2       4.7           210   \n",
       "3         BMW                            iX3        6.8           180   \n",
       "4       Honda                              e        9.5           145   \n",
       "\n",
       "   Range_Km  Efficiency_WhKm FastCharge_KmH RapidCharge PowerTrain  \\\n",
       "0       450              161            940         Yes        AWD   \n",
       "1       270              167            250         Yes        RWD   \n",
       "2       400              181            620         Yes        AWD   \n",
       "3       360              206            560         Yes        RWD   \n",
       "4       170              168            190         Yes        RWD   \n",
       "\n",
       "     PlugType  BodyStyle Segment  Seats  PriceEuro  \n",
       "0  Type 2 CCS      Sedan       D      5      55480  \n",
       "1  Type 2 CCS  Hatchback       C      5      30000  \n",
       "2  Type 2 CCS   Liftback       D      5      56440  \n",
       "3  Type 2 CCS        SUV       D      5      68040  \n",
       "4  Type 2 CCS  Hatchback       B      4      32997  "
      ]
     },
     "execution_count": 21,
     "metadata": {},
     "output_type": "execute_result"
    }
   ],
   "source": [
    "csv_path = 'resources/electric_cars.csv'\n",
    "cars_df = pd.read_csv(csv_path, encoding=\"utf-8\")\n",
    "cars_df.head(5)"
   ]
  },
  {
   "cell_type": "code",
   "execution_count": null,
   "metadata": {},
   "outputs": [],
   "source": []
  },
  {
   "cell_type": "code",
   "execution_count": 24,
   "metadata": {},
   "outputs": [
    {
     "name": "stdout",
     "output_type": "stream",
     "text": [
      "Column Brand has 0 null values\n",
      "Column Model has 0 null values\n",
      "Column AccelSec has 0 null values\n",
      "Column TopSpeed_KmH has 0 null values\n",
      "Column Range_Km has 0 null values\n",
      "Column Efficiency_WhKm has 0 null values\n",
      "Column FastCharge_KmH has 0 null values\n",
      "Column RapidCharge has 0 null values\n",
      "Column PowerTrain has 0 null values\n",
      "Column PlugType has 0 null values\n",
      "Column BodyStyle has 0 null values\n",
      "Column Segment has 0 null values\n",
      "Column Seats has 0 null values\n",
      "Column PriceEuro has 0 null values\n"
     ]
    }
   ],
   "source": [
    "# Find null values\n",
    "for column in cars_df.columns:\n",
    "    print(f\"Column {column} has {cars_df[column].isnull().sum()} null values\")\n"
   ]
  },
  {
   "cell_type": "raw",
   "metadata": {},
   "source": [
    "Using the \"describe()\" funtion to get the the statistical summary analysis of each column in the dataframe."
   ]
  },
  {
   "cell_type": "code",
   "execution_count": 32,
   "metadata": {},
   "outputs": [
    {
     "data": {
      "text/html": [
       "<div>\n",
       "<style scoped>\n",
       "    .dataframe tbody tr th:only-of-type {\n",
       "        vertical-align: middle;\n",
       "    }\n",
       "\n",
       "    .dataframe tbody tr th {\n",
       "        vertical-align: top;\n",
       "    }\n",
       "\n",
       "    .dataframe thead th {\n",
       "        text-align: right;\n",
       "    }\n",
       "</style>\n",
       "<table border=\"1\" class=\"dataframe\">\n",
       "  <thead>\n",
       "    <tr style=\"text-align: right;\">\n",
       "      <th></th>\n",
       "      <th>Seats</th>\n",
       "      <th>PriceEuro</th>\n",
       "    </tr>\n",
       "  </thead>\n",
       "  <tbody>\n",
       "    <tr>\n",
       "      <th>count</th>\n",
       "      <td>103.000000</td>\n",
       "      <td>103.000000</td>\n",
       "    </tr>\n",
       "    <tr>\n",
       "      <th>mean</th>\n",
       "      <td>4.883495</td>\n",
       "      <td>55811.563107</td>\n",
       "    </tr>\n",
       "    <tr>\n",
       "      <th>std</th>\n",
       "      <td>0.795834</td>\n",
       "      <td>34134.665280</td>\n",
       "    </tr>\n",
       "    <tr>\n",
       "      <th>min</th>\n",
       "      <td>2.000000</td>\n",
       "      <td>20129.000000</td>\n",
       "    </tr>\n",
       "    <tr>\n",
       "      <th>25%</th>\n",
       "      <td>5.000000</td>\n",
       "      <td>34429.500000</td>\n",
       "    </tr>\n",
       "    <tr>\n",
       "      <th>50%</th>\n",
       "      <td>5.000000</td>\n",
       "      <td>45000.000000</td>\n",
       "    </tr>\n",
       "    <tr>\n",
       "      <th>75%</th>\n",
       "      <td>5.000000</td>\n",
       "      <td>65000.000000</td>\n",
       "    </tr>\n",
       "    <tr>\n",
       "      <th>max</th>\n",
       "      <td>7.000000</td>\n",
       "      <td>215000.000000</td>\n",
       "    </tr>\n",
       "  </tbody>\n",
       "</table>\n",
       "</div>"
      ],
      "text/plain": [
       "            Seats      PriceEuro\n",
       "count  103.000000     103.000000\n",
       "mean     4.883495   55811.563107\n",
       "std      0.795834   34134.665280\n",
       "min      2.000000   20129.000000\n",
       "25%      5.000000   34429.500000\n",
       "50%      5.000000   45000.000000\n",
       "75%      5.000000   65000.000000\n",
       "max      7.000000  215000.000000"
      ]
     },
     "execution_count": 32,
     "metadata": {},
     "output_type": "execute_result"
    }
   ],
   "source": [
    "cars_df.describe()"
   ]
  },
  {
   "cell_type": "code",
   "execution_count": 36,
   "metadata": {},
   "outputs": [
    {
     "data": {
      "text/plain": [
       "0      55480\n",
       "1      30000\n",
       "2      56440\n",
       "3      68040\n",
       "4      32997\n",
       "       ...  \n",
       "98     45000\n",
       "99     96050\n",
       "100    50000\n",
       "101    65000\n",
       "102    62000\n",
       "Name: PriceEuro, Length: 103, dtype: int64"
      ]
     },
     "execution_count": 36,
     "metadata": {},
     "output_type": "execute_result"
    }
   ],
   "source": [
    "cars_df['PriceEuro']"
   ]
  },
  {
   "cell_type": "code",
   "execution_count": 38,
   "metadata": {},
   "outputs": [
    {
     "data": {
      "image/png": "[encoded data removed]",
      "text/plain": [
       "<Figure size 432x288 with 1 Axes>"
      ]
     },
     "metadata": {
      "needs_background": "light"
     },
     "output_type": "display_data"
    }
   ],
   "source": [
    "plt.scatter(cars_df['Seats'], cars_df['PriceEuro'], marker=\"o\", facecolors=\"Blue\", edgecolors=\"black\")\n",
    "\n",
    "# Create a title, x label, and y label for our chart\n",
    "plt.title(\"Seats Vs PriceEuro\")\n",
    "plt.xlabel(\"Seats\")\n",
    "plt.ylabel(\"PriceEuro\")\n",
    "\n",
    "\n",
    "plt.show()\n"
   ]
  },
  {
   "cell_type": "markdown",
   "metadata": {
    "id": "kCSLIafaEGVK"
   },
   "source": [
    "# Data Wrangling\n",
    "Create a subset of your original data and perform the following.  \n",
    "\n",
    "1. Modify multiple column names.\n",
    "\n",
    "2. Look at the structure of your data – are any variables improperly coded? Such as strings or characters? Convert to correct structure if needed.\n",
    "\n",
    "3. Fix missing and invalid values in data.\n",
    "\n",
    "4. Create new columns based on existing columns or calculations.\n",
    "\n",
    "5. Drop column(s) from your dataset.\n",
    "\n",
    "6. Drop a row(s) from your dataset.\n",
    "\n",
    "7. Sort your data based on multiple variables. \n",
    "\n",
    "8. Filter your data based on some condition. \n",
    "\n",
    "9. Convert all the string values to upper or lower cases in one column.\n",
    "\n",
    "10. Check whether numeric values are present in a given column of your dataframe.\n",
    "\n",
    "11. Group your dataset by one column, and get the mean, min, and max values by group. \n",
    "  * Groupby()\n",
    "  * agg() or .apply()\n",
    "\n",
    "12. Group your dataset by two columns and then sort the aggregated results within the groups. \n",
    "\n",
    "**You are free (and should) to add on to these questions.  Please clearly indicate in your assignment your answers to these questions.**"
   ]
  },
  {
   "cell_type": "code",
   "execution_count": null,
   "metadata": {
    "id": "4VWWvvynEiQT"
   },
   "outputs": [],
   "source": []
  },
  {
   "cell_type": "code",
   "execution_count": null,
   "metadata": {
    "id": "nATPKSaNXD9B"
   },
   "outputs": [],
   "source": []
  },
  {
   "cell_type": "markdown",
   "metadata": {
    "id": "tujjevRpXEen"
   },
   "source": [
    "# Conclusions  \n",
    "\n",
    "After exploring your dataset, provide a short summary of what you noticed from this dataset.  What would you explore further with more time?"
   ]
  },
  {
   "cell_type": "code",
   "execution_count": null,
   "metadata": {
    "id": "SshtuQj9XR5_"
   },
   "outputs": [],
   "source": []
  }
 ],
 "metadata": {
  "colab": {
   "name": "07_assignment.ipynb",
   "provenance": []
  },
  "kernelspec": {
   "display_name": "Python [conda env:PythonData] *",
   "language": "python",
   "name": "conda-env-PythonData-py"
  },
  "language_info": {
   "codemirror_mode": {
    "name": "ipython",
    "version": 3
   },
   "file_extension": ".py",
   "mimetype": "text/x-python",
   "name": "python",
   "nbconvert_exporter": "python",
   "pygments_lexer": "ipython3",
   "version": "3.6.10"
  }
 },
 "nbformat": 4,
 "nbformat_minor": 1
}
