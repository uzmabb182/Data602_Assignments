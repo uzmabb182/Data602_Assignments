{
  "nbformat": 4,
  "nbformat_minor": 0,
  "metadata": {
    "colab": {
      "provenance": [],
      "collapsed_sections": []
    },
    "kernelspec": {
      "name": "python3",
      "display_name": "Python 3"
    },
    "language_info": {
      "name": "python"
    }
  },
  "cells": [
    {
      "cell_type": "code",
      "execution_count": null,
      "metadata": {
        "id": "1om-cMs-cU_-"
      },
      "outputs": [],
      "source": [
        "'''\n",
        "Assignment #5\n",
        "1. Add / modify code ONLY between the marked areas (i.e. \"Place code below\")\n",
        "2. Run the associated test harness for a basic check on completeness. A successful run of the test cases does not guarantee accuracy or fulfillment of the requirements. Please do not submit your work if test cases fail.\n",
        "3. To run unit tests simply use the below command after filling in all of the code:\n",
        "    python 05_assignment.py\n",
        "\n",
        "4. Unless explicitly stated, please do not import any additional libraries but feel free to use built-in Python packages\n",
        "5. Submissions must be a Python file and not a notebook file (i.e *.ipynb)\n",
        "6. Do not use global variables\n",
        "'''\n",
        "\n",
        "import numpy as np, pandas as pd, matplotlib.pyplot as plt\n",
        "import unittest\n",
        "import requests\n",
        "import json\n"
      ]
    },
    {
      "cell_type": "markdown",
      "source": [],
      "metadata": {
        "id": "WFsXZhD1O_FA"
      }
    },
    {
      "cell_type": "code",
      "source": [
        "def exercise01():\n",
        "    '''\n",
        "    Create a DataFrame df with 4 columns and 3 rows of data in one line of code. The data can be arbitrary integers.\n",
        "    For example\n",
        "\n",
        "               0  1  2   3\n",
        "            0  1  2  3   4\n",
        "            1  5  6  7   8\n",
        "            2  7  8  9  10\n",
        "    '''\n",
        "\n",
        "    # ------ Place code below here \\/ \\/ \\/ ------\n",
        "\n",
        "    import numpy as np\n",
        "    import pandas as pd\n",
        "    df = pd.DataFrame(np.random.randint(0, 100, size=(100, 4)), columns=list('ABCD'))\n",
        "\n",
        "    # ------ Place code above here /\\ /\\ /\\ ------\n",
        "\n",
        "    return df"
      ],
      "metadata": {
        "id": "gM7gSm0ogJBX"
      },
      "execution_count": null,
      "outputs": []
    },
    {
      "cell_type": "code",
      "source": [
        "\n",
        "\n",
        "def exercise02(a):\n",
        "    # The function exercise02() receives a Python list and converts it to an ndarray. Convert the list to a numpy ndarray called array.\n",
        "\n",
        "    # ------ Place code below here \\/ \\/ \\/ ------\n",
        "\n",
        "    array = np.array(a)\n",
        "    \n",
        "    # ------ Place code above here /\\ /\\ /\\ ------\n",
        "\n",
        "    return array\n",
        "\n",
        "np_1d = [23.4, 34.6, 29.8, 19.2, 67.4]\n",
        "array = exercise02(np_1d)\n",
        "print(array)"
      ],
      "metadata": {
        "colab": {
          "base_uri": "https://localhost:8080/"
        },
        "id": "dBUbvr-_jT5W",
        "outputId": "4d68b72a-2b17-4828-ad3d-e06554f372cb"
      },
      "execution_count": null,
      "outputs": [
        {
          "output_type": "stream",
          "name": "stdout",
          "text": [
            "[23.4 34.6 29.8 19.2 67.4]\n"
          ]
        }
      ]
    },
    {
      "cell_type": "code",
      "source": [
        "def exercise03(a):\n",
        "    # The function exercise03() receives an ndarray of integers. Return the sum of those integers using NumPy.\n",
        "\n",
        "    # ------ Place code below here \\/ \\/ \\/ ------\n",
        "    \n",
        "    sum = np.sum(a)\n",
        "    \n",
        "    # ------ Place code above here /\\ /\\ /\\ ------\n",
        "    return sum\n",
        "\n",
        "sum = exercise03(array)\n",
        "print(sum)"
      ],
      "metadata": {
        "id": "CguCfnTwjUoW",
        "colab": {
          "base_uri": "https://localhost:8080/"
        },
        "outputId": "64da4b1c-6c07-484d-aaea-08eec0e122fb"
      },
      "execution_count": null,
      "outputs": [
        {
          "output_type": "stream",
          "name": "stdout",
          "text": [
            "174.4\n"
          ]
        }
      ]
    },
    {
      "cell_type": "code",
      "source": [
        "def exercise04(a):\n",
        "    # The function exercise04() receives an ndarray matrix (2D) of integers. Return the sum of the 2nd column using NumPy.\n",
        "\n",
        "    # ------ Place code below here \\/ \\/ \\/ ------\n",
        "    \n",
        "    sum = np.sum(a[:, 1])\n",
        "\n",
        "    # ------ Place code above here /\\ /\\ /\\ ------\n",
        "    return sum\n",
        "\n",
        "np_2d = np.array([[23.4, 34.6, 29.8, 19.2, 67.4],\n",
        "                  [21.4, 56.3, 12.2, 45.3, 29.4]])\n",
        "\n",
        "sum = exercise04(np_2d)\n",
        "print(sum)\n"
      ],
      "metadata": {
        "colab": {
          "base_uri": "https://localhost:8080/"
        },
        "id": "YKdfe81mudzb",
        "outputId": "874f385c-ef9d-4edd-9e38-6df8404f5953"
      },
      "execution_count": null,
      "outputs": [
        {
          "output_type": "stream",
          "name": "stdout",
          "text": [
            "90.9\n"
          ]
        }
      ]
    },
    {
      "cell_type": "code",
      "source": [
        "\n",
        "def exercise05(n):\n",
        "    # The function exercise05() receives an integer n. Return an ndarray filled with zeros of size n x n (n rows, n columns)\n",
        "\n",
        "    # ------ Place code below here \\/ \\/ \\/ ------\n",
        "    \n",
        "    zeros = np.zeros((n, n))\n",
        "\n",
        "    # ------ Place code above here /\\ /\\ /\\ ------\n",
        "    return zeros\n",
        "\n",
        "num = 10\n",
        "zeros = exercise05(num)\n",
        "print(zeros)"
      ],
      "metadata": {
        "colab": {
          "base_uri": "https://localhost:8080/"
        },
        "id": "Sa-G4LF0uehI",
        "outputId": "bf408bf0-b8e0-42d4-e36e-46b937160e5c"
      },
      "execution_count": null,
      "outputs": [
        {
          "output_type": "stream",
          "name": "stdout",
          "text": [
            "[[0. 0. 0. 0. 0. 0. 0. 0. 0. 0.]\n",
            " [0. 0. 0. 0. 0. 0. 0. 0. 0. 0.]\n",
            " [0. 0. 0. 0. 0. 0. 0. 0. 0. 0.]\n",
            " [0. 0. 0. 0. 0. 0. 0. 0. 0. 0.]\n",
            " [0. 0. 0. 0. 0. 0. 0. 0. 0. 0.]\n",
            " [0. 0. 0. 0. 0. 0. 0. 0. 0. 0.]\n",
            " [0. 0. 0. 0. 0. 0. 0. 0. 0. 0.]\n",
            " [0. 0. 0. 0. 0. 0. 0. 0. 0. 0.]\n",
            " [0. 0. 0. 0. 0. 0. 0. 0. 0. 0.]\n",
            " [0. 0. 0. 0. 0. 0. 0. 0. 0. 0.]]\n"
          ]
        }
      ]
    },
    {
      "cell_type": "code",
      "source": [
        "\n",
        "def exercise06(n):\n",
        "    # The function exercise06() receives an integer n. Return an ndarray filled with ones of size n x n (n rows, n columns)\n",
        "\n",
        "    # ------ Place code below here \\/ \\/ \\/ ------\n",
        "    \n",
        "    ones = np.ones((n, n))\n",
        "\n",
        "    # ------ Place code above here /\\ /\\ /\\ ------\n",
        "    return ones\n",
        "\n",
        "num = 6\n",
        "ones = exercise06(num)\n",
        "print(ones)"
      ],
      "metadata": {
        "colab": {
          "base_uri": "https://localhost:8080/"
        },
        "id": "bcbPFoeIue4c",
        "outputId": "5ff673ee-2577-4d8c-94cf-2596936c9779"
      },
      "execution_count": null,
      "outputs": [
        {
          "output_type": "stream",
          "name": "stdout",
          "text": [
            "[[1. 1. 1. 1. 1. 1.]\n",
            " [1. 1. 1. 1. 1. 1.]\n",
            " [1. 1. 1. 1. 1. 1.]\n",
            " [1. 1. 1. 1. 1. 1.]\n",
            " [1. 1. 1. 1. 1. 1.]\n",
            " [1. 1. 1. 1. 1. 1.]]\n"
          ]
        }
      ]
    },
    {
      "cell_type": "code",
      "source": [
        "def exercise07(sd,m,s):\n",
        "    # The function exercise07() receives integers sd, m, s which are standard deviation, mean and size respectively. \n",
        "    # Return an ndarray filled with s random numbers conforming to a normal distribution of standard deviation = sd and mean = m\n",
        "\n",
        "    # ------ Place code below here \\/ \\/ \\/ ------\n",
        "    \n",
        "    random_numbers = np.random.normal(sd, m, s)\n",
        "    \n",
        "    # ------ Place code above here /\\ /\\ /\\ ------\n",
        "    return random_numbers\n",
        "\n",
        "sd = 2.5\n",
        "m = 30.5\n",
        "s = 100\n",
        "\n",
        "random_numbers = exercise07(sd,m,s)\n",
        "print(random_numbers)"
      ],
      "metadata": {
        "id": "lotA-DZUC5SU"
      },
      "execution_count": null,
      "outputs": []
    },
    {
      "cell_type": "code",
      "source": [
        "def exercise08():\n",
        "    '''\n",
        "    Load the CSV data from https://tinyurl.com/y63q7okz into a DataFrame\n",
        "    # Return the following items:\n",
        "    - row_count - Total # of rows\n",
        "    - avg_sq_ft - Average square feet across all transactions\n",
        "    - df_zip_95670 - DataFrame containing all transactions in zip code 95670\n",
        "    - df_zip_not_95610 - DataFrame containing all transactions not in zip code 95610\n",
        "    '''\n",
        "\n",
        "    # ------ Place code below here \\/ \\/ \\/ ------\n",
        "\n",
        "    import pandas as pd\n",
        "\n",
        "    df = pd.read_csv(\"https://tinyurl.com/y63q7okz\")\n",
        "\n",
        "    # Total # of rows\n",
        "    row_count = df.shape[0]  # Returns number of rows\n",
        "    # col_count = df.shape[1]  # Returns number of columns\n",
        "\n",
        "    # Average square feet across all transactions\n",
        "    avg_sq_ft = df[\"sq__ft\"].mean()\n",
        "\n",
        "    # DataFrame containing all transactions in zip code 95670\n",
        "\n",
        "    df_zip_95670 = df.loc[df[\"zip\"] == 95670]\n",
        "\n",
        "    # DataFrame containing all transactions not in zip code 95610\n",
        "   \n",
        "    \n",
        "    df_zip_not_95610 = df.loc[df[\"zip\"] != 95610]\n",
        "\n",
        "\n",
        "    # ------ Place code above here /\\ /\\ /\\ ------\n",
        "\n",
        "    return df, row_count, avg_sq_ft, df_zip_95670, df_zip_not_95610\n",
        "\n",
        "df, row_count, avg_sq_ft, df_zip_95670, df_zip_not_95610 = exercise08()\n",
        "print(df.head())\n",
        "print(df.info())\n",
        "print(row_count)\n",
        "print(avg_sq_ft)\n",
        "print(df_zip_95670)\n",
        "print(df_zip_not_95610)"
      ],
      "metadata": {
        "colab": {
          "base_uri": "https://localhost:8080/"
        },
        "id": "AVltSz4oC52b",
        "outputId": "e5befd0e-df07-445f-b028-a0a106ca40f3"
      },
      "execution_count": null,
      "outputs": [
        {
          "output_type": "stream",
          "name": "stdout",
          "text": [
            "             street        city    zip state  beds  baths  sq__ft  \\\n",
            "0      3526 HIGH ST  SACRAMENTO  95838    CA     2      1     836   \n",
            "1       51 OMAHA CT  SACRAMENTO  95823    CA     3      1    1167   \n",
            "2    2796 BRANCH ST  SACRAMENTO  95815    CA     2      1     796   \n",
            "3  2805 JANETTE WAY  SACRAMENTO  95815    CA     2      1     852   \n",
            "4   6001 MCMAHON DR  SACRAMENTO  95824    CA     2      1     797   \n",
            "\n",
            "          type                     sale_date  price   latitude   longitude  \n",
            "0  Residential  Wed May 21 00:00:00 EDT 2008  59222  38.631913 -121.434879  \n",
            "1  Residential  Wed May 21 00:00:00 EDT 2008  68212  38.478902 -121.431028  \n",
            "2  Residential  Wed May 21 00:00:00 EDT 2008  68880  38.618305 -121.443839  \n",
            "3  Residential  Wed May 21 00:00:00 EDT 2008  69307  38.616835 -121.439146  \n",
            "4  Residential  Wed May 21 00:00:00 EDT 2008  81900  38.519470 -121.435768  \n",
            "<class 'pandas.core.frame.DataFrame'>\n",
            "RangeIndex: 985 entries, 0 to 984\n",
            "Data columns (total 12 columns):\n",
            " #   Column     Non-Null Count  Dtype  \n",
            "---  ------     --------------  -----  \n",
            " 0   street     985 non-null    object \n",
            " 1   city       985 non-null    object \n",
            " 2   zip        985 non-null    int64  \n",
            " 3   state      985 non-null    object \n",
            " 4   beds       985 non-null    int64  \n",
            " 5   baths      985 non-null    int64  \n",
            " 6   sq__ft     985 non-null    int64  \n",
            " 7   type       985 non-null    object \n",
            " 8   sale_date  985 non-null    object \n",
            " 9   price      985 non-null    int64  \n",
            " 10  latitude   985 non-null    float64\n",
            " 11  longitude  985 non-null    float64\n",
            "dtypes: float64(2), int64(5), object(5)\n",
            "memory usage: 92.5+ KB\n",
            "None\n",
            "985\n",
            "1314.9167512690356\n",
            "                               street            city    zip state  beds  \\\n",
            "8     11150 TRINITY RIVER DR Unit 114  RANCHO CORDOVA  95670    CA     2   \n",
            "81                 10245 LOS PALOS DR  RANCHO CORDOVA  95670    CA     3   \n",
            "116          2010 PROMONTORY POINT LN      GOLD RIVER  95670    CA     2   \n",
            "178              10542 SILVERWOOD WAY  RANCHO CORDOVA  95670    CA     3   \n",
            "211                 2460 EL ROCCO WAY  RANCHO CORDOVA  95670    CA     3   \n",
            "217                 2219 EL CANTO CIR  RANCHO CORDOVA  95670    CA     4   \n",
            "279  11281 STANFORD COURT LN Unit 604      GOLD RIVER  95670    CA     0   \n",
            "284          2015 PROMONTORY POINT LN      GOLD RIVER  95670    CA     3   \n",
            "293                 3512 RAINSONG CIR  RANCHO CORDOVA  95670    CA     4   \n",
            "451                10949 SCOTSMAN WAY  RANCHO CORDOVA  95670    CA     5   \n",
            "489                   10629 BASIE WAY  RANCHO CORDOVA  95670    CA     4   \n",
            "493                    3253 ABOTO WAY  RANCHO CORDOVA  95670    CA     4   \n",
            "546              2049 EMPIRE MINE CIR      GOLD RIVER  95670    CA     4   \n",
            "621                   2426 RASHAWN DR  RANCHO CORDOVA  95670    CA     2   \n",
            "625                   2361 LA LOMA DR  RANCHO CORDOVA  95670    CA     3   \n",
            "668                 2421 BERRYWOOD DR  RANCHO CORDOVA  95670    CA     3   \n",
            "684                    2909 SHAWN WAY  RANCHO CORDOVA  95670    CA     3   \n",
            "726                    2319 THORES ST  RANCHO CORDOVA  95670    CA     3   \n",
            "732                11130 EEL RIVER CT  RANCHO CORDOVA  95670    CA     2   \n",
            "802                   3349 CORVINA DR  RANCHO CORDOVA  95670    CA     4   \n",
            "900                  2636 TRONERO WAY  RANCHO CORDOVA  95670    CA     3   \n",
            "\n",
            "     baths  sq__ft          type                     sale_date   price  \\\n",
            "8        2     941         Condo  Wed May 21 00:00:00 EDT 2008   94905   \n",
            "81       2    1287   Residential  Wed May 21 00:00:00 EDT 2008  234697   \n",
            "116      2    1520   Residential  Wed May 21 00:00:00 EDT 2008  299000   \n",
            "178      1    1098   Residential  Tue May 20 00:00:00 EDT 2008  120108   \n",
            "211      2    1671   Residential  Tue May 20 00:00:00 EDT 2008  175000   \n",
            "217      2    1829   Residential  Tue May 20 00:00:00 EDT 2008  184500   \n",
            "279      0       0         Condo  Tue May 20 00:00:00 EDT 2008  300000   \n",
            "284      2    1981   Residential  Tue May 20 00:00:00 EDT 2008  305000   \n",
            "293      3    2208   Residential  Tue May 20 00:00:00 EDT 2008  336000   \n",
            "451      4    2382  Multi-Family  Mon May 19 00:00:00 EDT 2008  236000   \n",
            "489      2    1524   Residential  Mon May 19 00:00:00 EDT 2008  296056   \n",
            "493      3    1851   Residential  Mon May 19 00:00:00 EDT 2008  305000   \n",
            "546      2    3037   Residential  Mon May 19 00:00:00 EDT 2008  528000   \n",
            "621      1     911   Residential  Fri May 16 00:00:00 EDT 2008  115000   \n",
            "625      2    1115   Residential  Fri May 16 00:00:00 EDT 2008  116000   \n",
            "668      2    1157   Residential  Fri May 16 00:00:00 EDT 2008  180000   \n",
            "684      2    1452   Residential  Fri May 16 00:00:00 EDT 2008  193000   \n",
            "726      2    1074   Residential  Fri May 16 00:00:00 EDT 2008  233000   \n",
            "732      2    1406   Residential  Fri May 16 00:00:00 EDT 2008  242000   \n",
            "802      3    2109   Residential  Fri May 16 00:00:00 EDT 2008  330000   \n",
            "900      1    1000   Residential  Thu May 15 00:00:00 EDT 2008  134000   \n",
            "\n",
            "      latitude   longitude  \n",
            "8    38.621188 -121.270555  \n",
            "81   38.593699 -121.310890  \n",
            "116  38.628690 -121.261669  \n",
            "178  38.587156 -121.295778  \n",
            "211  38.591477 -121.315340  \n",
            "217  38.592383 -121.318669  \n",
            "279  38.625289 -121.260286  \n",
            "284  38.628732 -121.261149  \n",
            "293  38.573488 -121.282809  \n",
            "451  38.603686 -121.277844  \n",
            "489  38.579000 -121.292627  \n",
            "493  38.577270 -121.285591  \n",
            "546  38.629299 -121.249021  \n",
            "621  38.610852 -121.273278  \n",
            "625  38.593680 -121.316054  \n",
            "668  38.608680 -121.278490  \n",
            "684  38.589925 -121.299059  \n",
            "726  38.596750 -121.312716  \n",
            "732  38.625932 -121.271517  \n",
            "802  38.580545 -121.279016  \n",
            "900  38.593049 -121.303040  \n",
            "                  street             city    zip state  beds  baths  sq__ft  \\\n",
            "0           3526 HIGH ST       SACRAMENTO  95838    CA     2      1     836   \n",
            "1            51 OMAHA CT       SACRAMENTO  95823    CA     3      1    1167   \n",
            "2         2796 BRANCH ST       SACRAMENTO  95815    CA     2      1     796   \n",
            "3       2805 JANETTE WAY       SACRAMENTO  95815    CA     2      1     852   \n",
            "4        6001 MCMAHON DR       SACRAMENTO  95824    CA     2      1     797   \n",
            "..                   ...              ...    ...   ...   ...    ...     ...   \n",
            "979     1909 YARNELL WAY        ELK GROVE  95758    CA     3      2    1262   \n",
            "980   9169 GARLINGTON CT       SACRAMENTO  95829    CA     4      3    2280   \n",
            "981      6932 RUSKUT WAY       SACRAMENTO  95823    CA     3      2    1477   \n",
            "983     8304 RED FOX WAY        ELK GROVE  95758    CA     4      2    1685   \n",
            "984  3882 YELLOWSTONE LN  EL DORADO HILLS  95762    CA     3      2    1362   \n",
            "\n",
            "            type                     sale_date   price   latitude   longitude  \n",
            "0    Residential  Wed May 21 00:00:00 EDT 2008   59222  38.631913 -121.434879  \n",
            "1    Residential  Wed May 21 00:00:00 EDT 2008   68212  38.478902 -121.431028  \n",
            "2    Residential  Wed May 21 00:00:00 EDT 2008   68880  38.618305 -121.443839  \n",
            "3    Residential  Wed May 21 00:00:00 EDT 2008   69307  38.616835 -121.439146  \n",
            "4    Residential  Wed May 21 00:00:00 EDT 2008   81900  38.519470 -121.435768  \n",
            "..           ...                           ...     ...        ...         ...  \n",
            "979  Residential  Thu May 15 00:00:00 EDT 2008  230000  38.417382 -121.484325  \n",
            "980  Residential  Thu May 15 00:00:00 EDT 2008  232425  38.457679 -121.359620  \n",
            "981  Residential  Thu May 15 00:00:00 EDT 2008  234000  38.499893 -121.458890  \n",
            "983  Residential  Thu May 15 00:00:00 EDT 2008  235301  38.417000 -121.397424  \n",
            "984  Residential  Thu May 15 00:00:00 EDT 2008  235738  38.655245 -121.075915  \n",
            "\n",
            "[978 rows x 12 columns]\n"
          ]
        }
      ]
    },
    {
      "cell_type": "code",
      "source": [
        "def exercise10(n):\n",
        "    # Create a numpy identity matrix of size n\n",
        "    # ------ Place code below here \\/ \\/ \\/ ------\n",
        "    \n",
        "    identity_matrix = np.identity(n)\n",
        "\n",
        "    # ------ Place code above here /\\ /\\ /\\ ------  \n",
        "    return identity_matrix\n",
        "\n",
        "num = 10\n",
        "identity_matrix = exercise10(num)\n",
        "print(identity_matrix)"
      ],
      "metadata": {
        "id": "O0mt8v68C6Ws",
        "colab": {
          "base_uri": "https://localhost:8080/"
        },
        "outputId": "eb46802f-ebc5-4445-d98a-354e74575fd9"
      },
      "execution_count": null,
      "outputs": [
        {
          "output_type": "stream",
          "name": "stdout",
          "text": [
            "[[1. 0. 0. 0. 0. 0. 0. 0. 0. 0.]\n",
            " [0. 1. 0. 0. 0. 0. 0. 0. 0. 0.]\n",
            " [0. 0. 1. 0. 0. 0. 0. 0. 0. 0.]\n",
            " [0. 0. 0. 1. 0. 0. 0. 0. 0. 0.]\n",
            " [0. 0. 0. 0. 1. 0. 0. 0. 0. 0.]\n",
            " [0. 0. 0. 0. 0. 1. 0. 0. 0. 0.]\n",
            " [0. 0. 0. 0. 0. 0. 1. 0. 0. 0.]\n",
            " [0. 0. 0. 0. 0. 0. 0. 1. 0. 0.]\n",
            " [0. 0. 0. 0. 0. 0. 0. 0. 1. 0.]\n",
            " [0. 0. 0. 0. 0. 0. 0. 0. 0. 1.]]\n"
          ]
        }
      ]
    },
    {
      "cell_type": "code",
      "source": [
        "def exercise11(n):\n",
        "    '''\n",
        "    Using NumPy, create a single dimension array, array_1d, of size n containing integers 0 to n-1\n",
        "    Reshape the array. The reshaped array, array_reshaped, should be n/3 columns and 3 rows\n",
        "    '''\n",
        "    # ------ Place code below here \\/ \\/ \\/ ------\n",
        "\n",
        "    array_1d = np.arange(0, n-1)\n",
        "    n = int(n/3)\n",
        "    array_reshaped = array_1d.reshape(3, n)\n",
        "\n",
        "    # ------ Place code above here /\\ /\\ /\\ ------  \n",
        "    return array_1d, array_reshaped\n",
        "\n",
        "num = 13\n",
        "array_1d, array_reshaped = exercise11(num)\n",
        "print(array_1d)\n",
        "print(array_reshaped)\n"
      ],
      "metadata": {
        "colab": {
          "base_uri": "https://localhost:8080/"
        },
        "id": "51BZgaV2BAcs",
        "outputId": "6f1c0791-8d6d-4b62-9989-07af8b23b6d6"
      },
      "execution_count": null,
      "outputs": [
        {
          "output_type": "stream",
          "name": "stdout",
          "text": [
            "[ 0  1  2  3  4  5  6  7  8  9 10 11]\n",
            "[[ 0  1  2  3]\n",
            " [ 4  5  6  7]\n",
            " [ 8  9 10 11]]\n"
          ]
        }
      ]
    },
    {
      "cell_type": "code",
      "source": [
        "def exercise12(n):\n",
        "    '''\n",
        "    Create a checkerboard NumPy matrix of size 2n x 2n using one line of code\n",
        "    A checkerboard matrix is a matrix with alternating 1s and 0s across rows and columns with the top left value equal to 1\n",
        "    '''\n",
        "    # ------ Place code below here \\/ \\/ \\/ ------\n",
        "\n",
        "    # Create a checkerboard 8x8 matrix using the tile function\n",
        "\n",
        "    checkerboard_matrix = np.tile(np.array([[1,0], [0,1]]),(n,n))\n",
        "\n",
        "    # ------ Place code above here /\\ /\\ /\\ ------ \n",
        "\n",
        "    return checkerboard_matrix\n",
        "\n",
        "n = 6\n",
        "checkerboard_matrix = exercise12(n)\n",
        "print(checkerboard_matrix)"
      ],
      "metadata": {
        "colab": {
          "base_uri": "https://localhost:8080/"
        },
        "id": "1iX3yxpfBBSr",
        "outputId": "858fe4a6-5bcc-4cad-d5be-34401b01a93c"
      },
      "execution_count": null,
      "outputs": [
        {
          "output_type": "stream",
          "name": "stdout",
          "text": [
            "[[1 0 1 0 1 0 1 0 1 0 1 0]\n",
            " [0 1 0 1 0 1 0 1 0 1 0 1]\n",
            " [1 0 1 0 1 0 1 0 1 0 1 0]\n",
            " [0 1 0 1 0 1 0 1 0 1 0 1]\n",
            " [1 0 1 0 1 0 1 0 1 0 1 0]\n",
            " [0 1 0 1 0 1 0 1 0 1 0 1]\n",
            " [1 0 1 0 1 0 1 0 1 0 1 0]\n",
            " [0 1 0 1 0 1 0 1 0 1 0 1]\n",
            " [1 0 1 0 1 0 1 0 1 0 1 0]\n",
            " [0 1 0 1 0 1 0 1 0 1 0 1]\n",
            " [1 0 1 0 1 0 1 0 1 0 1 0]\n",
            " [0 1 0 1 0 1 0 1 0 1 0 1]]\n"
          ]
        }
      ]
    },
    {
      "cell_type": "code",
      "source": [
        "def exercise13(n):\n",
        "    '''\n",
        "    Create a pandas Series, s, with n random integers between 0 and n, for n days starting from 1/1/2010 and plot the\n",
        "    cumulative sum on a  chart. The data range should be an index. pd.date_range() may help. \n",
        "    \n",
        "    '''\n",
        "    # ------ Place code below here \\/ \\/ \\/ ------\n",
        "\n",
        "    idx = pd.date_range(\"2010-01-01\", periods=n)\n",
        "    s = pd.Series(range(len(idx)), index=idx)\n",
        "   \n",
        "    # ------ Place code above here /\\ /\\ /\\ ------ \n",
        "    return s\n",
        "\n",
        "n = 10\n",
        "s = exercise13(n)\n",
        "print(s)\n",
        "\n",
        "ts = s.cumsum()\n",
        "ts.plot()\n",
        "plt.show"
      ],
      "metadata": {
        "colab": {
          "base_uri": "https://localhost:8080/",
          "height": 497
        },
        "id": "t8B2_3ryFZjC",
        "outputId": "6947fc85-e345-425e-fc50-333f27819cad"
      },
      "execution_count": null,
      "outputs": [
        {
          "output_type": "stream",
          "name": "stdout",
          "text": [
            "2010-01-01    0\n",
            "2010-01-02    1\n",
            "2010-01-03    2\n",
            "2010-01-04    3\n",
            "2010-01-05    4\n",
            "2010-01-06    5\n",
            "2010-01-07    6\n",
            "2010-01-08    7\n",
            "2010-01-09    8\n",
            "2010-01-10    9\n",
            "Freq: D, dtype: int64\n"
          ]
        },
        {
          "output_type": "execute_result",
          "data": {
            "text/plain": [
              "<function matplotlib.pyplot.show(*args, **kw)>"
            ]
          },
          "metadata": {},
          "execution_count": 93
        },
        {
          "output_type": "display_data",
          "data": {
            "text/plain": [
              "<Figure size 432x288 with 1 Axes>"
            ],
            "image/png": "[encoded data removed]"
          },
          "metadata": {
            "needs_background": "light"
          }
        }
      ]
    },
    {
      "cell_type": "code",
      "source": [
        "def exercise14(words):\n",
        "    '''\n",
        "    Exercise14() receives a Python list of words. Create and return a pandas DataFrame or Series that tabulates the length of \n",
        "    each word i.e. a list of the words hello, car, bye would produce a DataFrame with 3 rows and a column with the numbers 5,3,3\n",
        "    Using Series.map() and lambdas may help.\n",
        "    '''\n",
        "    # ------ Place code below here \\/ \\/ \\/ ------\n",
        "\n",
        "    df = pd.DataFrame(words)\n",
        "\n",
        "    # Assigning name to the column\n",
        "    df.columns = [\"Words\"]\n",
        "    #  creating new column for len\n",
        "    # passing values through str.len()\n",
        "    df[\"word_length\"] = df[\"Words\"].str.len()\n",
        "\n",
        "    # ------ Place code above here /\\ /\\ /\\ ------ \n",
        "    return df\n",
        "\n",
        "python_list = [\"datascience\", \"skills\", \"coding\", \"excel\"]\n",
        "df = exercise14(python_list)\n",
        "print(df)"
      ],
      "metadata": {
        "colab": {
          "base_uri": "https://localhost:8080/"
        },
        "id": "6XP3lMBvMsyB",
        "outputId": "77db8e49-e9e0-4f25-9bb6-ccbf9afd6335"
      },
      "execution_count": null,
      "outputs": [
        {
          "output_type": "stream",
          "name": "stdout",
          "text": [
            "         Words  word_length\n",
            "0  datascience           11\n",
            "1       skills            6\n",
            "2       coding            6\n",
            "3        excel            5\n"
          ]
        }
      ]
    },
    {
      "cell_type": "code",
      "source": [
        "def exercise15():\n",
        "    '''\n",
        "    Use the real estate transaction DataFrame from Exercise 8 and extract into a new DataFrame every 5th row using iloc \n",
        "    and just the street address and zip code columns. This can be done with one line of code.\n",
        "    '''\n",
        "    # ------ Place code below here \\/ \\/ \\/ ------\n",
        "\n",
        "    import pandas as pd\n",
        "\n",
        "    df = pd.read_csv(\"https://tinyurl.com/y63q7okz\")\n",
        "    df = df.iloc[5::5, [0,2]]\n",
        "\n",
        "    # ------ Place code above here /\\ /\\ /\\ ------ \n",
        "    return df\n",
        "\n",
        "df = exercise15()\n",
        "print(df.head(15))"
      ],
      "metadata": {
        "colab": {
          "base_uri": "https://localhost:8080/"
        },
        "id": "JBTowmTJW5i-",
        "outputId": "72c2beef-0fb2-43c4-a5dc-784cae9b13f8"
      },
      "execution_count": null,
      "outputs": [
        {
          "output_type": "stream",
          "name": "stdout",
          "text": [
            "                          street    zip\n",
            "5             5828 PEPPERMILL CT  95841\n",
            "10              645 MORRISON AVE  95838\n",
            "15                7340 HAMDEN PL  95842\n",
            "20            6118 STONEHAND AVE  95621\n",
            "25            3828 BLACKFOOT WAY  95843\n",
            "30  5201 LAGUNA OAKS DR Unit 140  95758\n",
            "35          3920 SHINING STAR DR  95823\n",
            "40  4800 WESTLAKE PKWY Unit 2109  95835\n",
            "45                  2622 ERIN DR  95833\n",
            "50                  9417 SARA ST  95624\n",
            "55            1122 WILD POPPY CT  95632\n",
            "60            4844 CLYDEBANK WAY  95843\n",
            "65                  2617 BASS CT  95826\n",
            "70           8708 MESA BROOK WAY  95624\n",
            "75         8345 STAR THISTLE WAY  95823\n"
          ]
        }
      ]
    },
    {
      "cell_type": "code",
      "source": [
        "class TestAssignment5(unittest.TestCase):\n",
        "    def test_exercise15(self):\n",
        "        print('Skipping exercise 15')\n",
        "        df = exercise15()\n",
        "        print(df)\n",
        "    \n",
        "    def test_exercise14(self):\n",
        "        print('Skipping exercise 14')\n",
        "        df = exercise14(['cat','frog','walrus','antelope'])\n",
        "        print(df)\n",
        "\n",
        "    def test_exercise13(self):\n",
        "        print('Testing exercise 13')\n",
        "        s= exercise13(1000)\n",
        "        self.assertEqual(s.index[0],pd.Timestamp('2010-01-01 00:00:00'))\n",
        "        self.assertEqual(len(s.index),1000)\n",
        "\n",
        "    def test_exercise12(self):\n",
        "        print('Testing exercise 12')\n",
        "        cm = exercise12(10)\n",
        "        self.assertEqual(cm.shape[0],20)\n",
        "        self.assertEqual(cm[0,0],1)\n",
        "        self.assertEqual(cm[0,1],0)\n",
        "        cm = exercise12(5)\n",
        "        self.assertEqual(cm.shape[0],10)\n",
        "        self.assertEqual(cm[0,0],1)\n",
        "        self.assertEqual(cm[0,1],0)        \n",
        "\n",
        "\n",
        "    def test_exercise11(self):\n",
        "        print('Testing exercise 11')\n",
        "        a1d, ar = exercise11(15)\n",
        "        self.assertEqual(a1d.shape[0],15)\n",
        "        self.assertEqual(ar.shape[0],3)\n",
        "        self.assertEqual(ar.shape[1],5)\n",
        "\n",
        "    def test_exercise10(self):\n",
        "        print('Testing exercise 10')\n",
        "        im = exercise10(10)\n",
        "        self.assertEqual(im.shape[0],10)\n",
        "        self.assertEqual(im.shape[1],10)\n",
        "\n",
        "\n",
        "        \n",
        "\n",
        "    def test_exercise08(self):\n",
        "        print('Testing exercise 8')\n",
        "        df, row_count, avg_sq_ft, df_zip_95670, df_zip_not_95610 = exercise08()\n",
        "        self.assertEqual(df.shape[0],985)\n",
        "        self.assertEqual(df.shape[1],12)\n",
        "        self.assertEqual(row_count,985)\n",
        "        self.assertAlmostEqual(avg_sq_ft,1314.91675127,2)\n",
        "        self.assertEqual(df_zip_95670.shape[0],21)\n",
        "        self.assertEqual(df_zip_not_95610.shape[0],978)\n",
        " \n",
        "    \n",
        "    def test_exercise07(self):\n",
        "        print('Testing exercise 7')\n",
        "        z = exercise07(10,5,100000)\n",
        "        self.assertEqual(z.shape[0], 100000)\n",
        "        self.assertLessEqual(np.average(z), 5.2)\n",
        "        self.assertGreaterEqual(np.average(z), 4.7)\n",
        "        z = exercise07(5,10,100000)\n",
        "        self.assertEqual(z.shape[0], 100000)\n",
        "        self.assertLessEqual(np.average(z), 10.2)\n",
        "        self.assertGreaterEqual(np.average(z), 9.7)\n",
        "\n",
        "\n",
        "    def test_exercise06(self):\n",
        "        print('Testing exercise 6')\n",
        "        z = exercise06(7).shape\n",
        "        self.assertEqual(z[0], 7)\n",
        "        self.assertEqual(z[1], 7)\n",
        "        z = exercise05(70).shape\n",
        "        self.assertEqual(z[0], 70)\n",
        "        self.assertEqual(z[1], 70)\n",
        "        \n",
        "\n",
        "    def test_exercise05(self):\n",
        "        print('Testing exercise 5')\n",
        "        z = exercise05(7).shape\n",
        "        self.assertEqual(z[0], 7)\n",
        "        self.assertEqual(z[1], 7)\n",
        "        z = exercise05(70).shape\n",
        "        self.assertEqual(z[0], 70)\n",
        "        self.assertEqual(z[1], 70)\n",
        "\n",
        "    def test_exercise04(self):\n",
        "        print('Testing exercise 4')\n",
        "        array = np.array([[1,1,1,1,1],[0,2,0,0,1]])\n",
        "        sum = exercise04(array)\n",
        "        self.assertEqual(sum, 3)\n",
        "        array = np.array([[1,6,1,1,1],[0,2,0,0,1]])\n",
        "        sum = exercise04(array)\n",
        "        self.assertEqual(sum, 8)\n",
        "\n",
        "    def test_exercise03(self):\n",
        "        print('Testing exercise 3')\n",
        "        array = np.array([1,1,1,1,1])\n",
        "        sum = exercise03(array)\n",
        "        self.assertEqual(sum, 5)\n",
        "        array = np.array([2,4])\n",
        "        sum = exercise03(array)\n",
        "        self.assertEqual(sum, 6)\n",
        "\n",
        "    def test_exercise01(self):\n",
        "        print('Testing exercise 1')\n",
        "        m = exercise01().shape\n",
        "        self.assertEqual(m[0], 3)\n",
        "        self.assertEqual(m[1], 4)\n",
        "\n",
        "    def test_exercise02(self):\n",
        "        print('Testing exercise 2')\n",
        "        m = exercise02([1,2,3,4,5,6])\n",
        "        self.assertTrue(type(m) is np.ndarray)\n",
        "        self.assertEqual(m.shape[0], 6)\n",
        "\n"
      ],
      "metadata": {
        "id": "RzB-0O2obgqN"
      },
      "execution_count": null,
      "outputs": []
    },
    {
      "cell_type": "markdown",
      "source": [
        "### **Extra Credit:**"
      ],
      "metadata": {
        "id": "qnHwY07aPMzm"
      }
    },
    {
      "cell_type": "code",
      "source": [
        "import numpy as np\n",
        "# 1- Create a 1D array of numbers from 0 to 9\n",
        "arr = np.arange(10)\n",
        "arr"
      ],
      "metadata": {
        "colab": {
          "base_uri": "https://localhost:8080/"
        },
        "id": "7yCqKoNPPYCI",
        "outputId": "0be43117-1d35-4a71-c76b-8dfda38cd0c2"
      },
      "execution_count": 6,
      "outputs": [
        {
          "output_type": "execute_result",
          "data": {
            "text/plain": [
              "array([0, 1, 2, 3, 4, 5, 6, 7, 8, 9])"
            ]
          },
          "metadata": {},
          "execution_count": 6
        }
      ]
    },
    {
      "cell_type": "code",
      "source": [
        "# 2- Extract all odds from arr\n",
        "\n",
        "arr = arr[arr % 2 == 1]\n",
        "arr"
      ],
      "metadata": {
        "colab": {
          "base_uri": "https://localhost:8080/"
        },
        "id": "UoSmLag7R2Kd",
        "outputId": "81b34ac1-b0c6-4ccd-f5da-37b38eff972e"
      },
      "execution_count": 4,
      "outputs": [
        {
          "output_type": "execute_result",
          "data": {
            "text/plain": [
              "array([1, 3, 5, 7, 9])"
            ]
          },
          "metadata": {},
          "execution_count": 4
        }
      ]
    },
    {
      "cell_type": "code",
      "source": [
        "# 3- Replace all even numbers in arr with -1\n",
        "arr[arr % 2 == 0] = -1\n",
        "arr\n"
      ],
      "metadata": {
        "colab": {
          "base_uri": "https://localhost:8080/"
        },
        "id": "eihe1-LrSJ67",
        "outputId": "1eccb327-9c38-417b-fb53-b8a32fd9878e"
      },
      "execution_count": 8,
      "outputs": [
        {
          "output_type": "execute_result",
          "data": {
            "text/plain": [
              "array([-1, -1, -1, -1, -1])"
            ]
          },
          "metadata": {},
          "execution_count": 8
        }
      ]
    },
    {
      "cell_type": "code",
      "source": [
        "# 4- Convert 1D to 2D array with 2 rows\n",
        "import numpy as np\n",
        "\n",
        "arr = np.arange(10)\n",
        "\n",
        "newarr = arr.reshape(2, 5)\n",
        "\n",
        "print(newarr)"
      ],
      "metadata": {
        "colab": {
          "base_uri": "https://localhost:8080/"
        },
        "id": "QyuAU2ooUjes",
        "outputId": "03ea472d-375a-48bb-ce60-53161d04d7d6"
      },
      "execution_count": 26,
      "outputs": [
        {
          "output_type": "stream",
          "name": "stdout",
          "text": [
            "[[0 1 2 3 4]\n",
            " [5 6 7 8 9]]\n"
          ]
        }
      ]
    },
    {
      "cell_type": "code",
      "source": [
        "# 5- Create a single dimension array, ayrray_id ....\n",
        "n=16\n",
        "array_1d = np.arange(0, n-1)\n",
        "n = int(n/3)\n",
        "array_reshaped = array_1d.reshape(3, n)\n",
        "array_reshaped"
      ],
      "metadata": {
        "colab": {
          "base_uri": "https://localhost:8080/"
        },
        "id": "5AUaDX0gVmik",
        "outputId": "cd3207ca-607c-4fbb-a1f5-b87ae5e4f8ad"
      },
      "execution_count": 29,
      "outputs": [
        {
          "output_type": "execute_result",
          "data": {
            "text/plain": [
              "array([[ 0,  1,  2,  3,  4],\n",
              "       [ 5,  6,  7,  8,  9],\n",
              "       [10, 11, 12, 13, 14]])"
            ]
          },
          "metadata": {},
          "execution_count": 29
        }
      ]
    },
    {
      "cell_type": "code",
      "source": [
        "# 6- Create a numpy identity matrix of size n\n",
        "n = 6\n",
        "np.identity(n)"
      ],
      "metadata": {
        "colab": {
          "base_uri": "https://localhost:8080/"
        },
        "id": "Vt0sOaHrZr2N",
        "outputId": "098fff91-1b81-49aa-8254-71ec150aa40d"
      },
      "execution_count": 31,
      "outputs": [
        {
          "output_type": "execute_result",
          "data": {
            "text/plain": [
              "array([[1., 0., 0., 0., 0., 0.],\n",
              "       [0., 1., 0., 0., 0., 0.],\n",
              "       [0., 0., 1., 0., 0., 0.],\n",
              "       [0., 0., 0., 1., 0., 0.],\n",
              "       [0., 0., 0., 0., 1., 0.],\n",
              "       [0., 0., 0., 0., 0., 1.]])"
            ]
          },
          "metadata": {},
          "execution_count": 31
        }
      ]
    },
    {
      "cell_type": "code",
      "source": [
        "# 7- Create an array filled with zeros...\n",
        "n = 8\n",
        "a = (n, n)\n",
        "np.zeros(a)"
      ],
      "metadata": {
        "colab": {
          "base_uri": "https://localhost:8080/"
        },
        "id": "uTc8LYZEaVf6",
        "outputId": "c86f0cb0-7009-42e5-c8e4-e7b4610f8982"
      },
      "execution_count": 34,
      "outputs": [
        {
          "output_type": "execute_result",
          "data": {
            "text/plain": [
              "array([[0., 0., 0., 0., 0., 0., 0., 0.],\n",
              "       [0., 0., 0., 0., 0., 0., 0., 0.],\n",
              "       [0., 0., 0., 0., 0., 0., 0., 0.],\n",
              "       [0., 0., 0., 0., 0., 0., 0., 0.],\n",
              "       [0., 0., 0., 0., 0., 0., 0., 0.],\n",
              "       [0., 0., 0., 0., 0., 0., 0., 0.],\n",
              "       [0., 0., 0., 0., 0., 0., 0., 0.],\n",
              "       [0., 0., 0., 0., 0., 0., 0., 0.]])"
            ]
          },
          "metadata": {},
          "execution_count": 34
        }
      ]
    }
  ]
}